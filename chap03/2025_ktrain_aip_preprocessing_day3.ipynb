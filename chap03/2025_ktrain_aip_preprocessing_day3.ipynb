{
  "nbformat": 4,
  "nbformat_minor": 0,
  "metadata": {
    "colab": {
      "provenance": []
    },
    "kernelspec": {
      "name": "python3",
      "display_name": "Python 3"
    },
    "language_info": {
      "name": "python"
    }
  },
  "cells": [
    {
      "cell_type": "markdown",
      "source": [
        "## 부산대학교 SW 융합교육원 K-train AIP 과정\n",
        "\n",
        "실습일자: 2025-07-17\n",
        "\n",
        "작성자: 김태연"
      ],
      "metadata": {
        "id": "4A0jI29W8e41"
      }
    },
    {
      "cell_type": "markdown",
      "source": [
        "\n",
        "## 실습 문제: NumPy 기본 연산으로 백분위수(Percentile) 구현하기\n",
        "\n",
        "**설명**: `np.percentile`은 백분위수를 쉽게 계산해주는 강력한 함수입니다. 이번 실습에서는 이 함수의 핵심 원리를 이해하기 위해, NumPy의 **정렬(sorting)**, **브로드캐스팅(broadcasting)**, 그리고 \\*\\*팬시 인덱싱(fancy indexing)\\*\\*과 같은 기본 연산만을 사용하여 백분위수를 직접 계산해봅니다.\n",
        "\n",
        "$$\\text{index} = \\text{int} \\left( (\\text{데이터 개수} - 1) \\times \\frac{\\text{백분위수}}{100} \\right)$$\n",
        "\n",
        "**요구사항**:\n",
        "\n",
        "  * `quantile_bins` 함수 내에서 아래 로직을 직접 구현하세요.\n",
        "  * **1단계 (정렬)**: 입력받은 `data` 배열을 오름차순으로 정렬합니다.\n",
        "  * **2단계 (인덱스 계산)**: 구간을 나눌 백분위수 `[0, 20, 40, 60, 80, 100]` 배열과 위의 공식을 이용하여, 각 백분위수에 해당하는 인덱스를 계산하세요. 이 계산은 NumPy의 브로드캐스팅 기능을 통해 벡터 연산으로 한 번에 수행되어야 합니다.\n",
        "  * **3단계 (값 추출)**: 계산된 인덱스를 정수형으로 변환하고, 이 정수 인덱스 배열을 **팬시 인덱싱**으로 사용하여 정렬된 데이터에서 최종 백분위수 값들을 한 번에 추출하세요. 이 값들이 히스토그램의 구간 경계(`bins`)가 됩니다.\n",
        "  * **4단계 (검증)**: 함수가 반환한 `bins`를 사용하여 히스토그램을 그리고, 각 구간에 데이터가 거의 동일하게 분포하는지 확인하세요.\n"
      ],
      "metadata": {
        "id": "VSYaQ7VpV4YG"
      }
    },
    {
      "cell_type": "code",
      "source": [
        "\n",
        "import numpy as np\n",
        "import matplotlib.pyplot as plt\n",
        "\n",
        "def quantile_bins(data: np.ndarray) -> np.ndarray:\n",
        "    \"\"\"\n",
        "    NumPy 기본 연산(정렬, 팬시 인덱싱)만을 사용해 데이터의 백분위수 구간을 직접 계산합니다.\n",
        "    np.percentile 함수를 사용하지 않습니다.\n",
        "\n",
        "    Args:\n",
        "        data (np.ndarray): 분석할 1차원 데이터 배열.\n",
        "\n",
        "    Returns:\n",
        "        np.ndarray: 계산된 백분위수 값들 (히스토그램의 bin 경계).\n",
        "    \"\"\"\n",
        "    # 1. 데이터를 오름차순으로 정렬합니다.\n",
        "    # 2. 계산할 백분위수 배열을 정의합니다 (0, 20, 40, 60, 80, 100).\n",
        "    # 3. 위 공식을 이용해 각 백분위수에 해당하는 인덱스를 계산합니다.\n",
        "    # 4. 계산된 정수 인덱스(팬시 인덱싱)로 정렬된 데이터에서 값을 추출하여 반환합니다.\n",
        "\n",
        "    pass\n"
      ],
      "metadata": {
        "id": "tl5QYmjOWNlG"
      },
      "execution_count": null,
      "outputs": []
    },
    {
      "cell_type": "code",
      "source": [
        "sample_data = np.random.normal(0, 1, 1001)\n",
        "quantile_bins = quantile_bins(sample_data)\n",
        "print(f\"직접 계산한 백분위수 구간: {quantile_bins}\")\n",
        "\n",
        "official_bins = np.percentile(sample_data, [0, 20, 40, 60, 80, 100])\n",
        "print(f\"np.percentile 결과: {official_bins}\")\n"
      ],
      "metadata": {
        "id": "8HXgYbu1W8k3"
      },
      "execution_count": null,
      "outputs": []
    },
    {
      "cell_type": "markdown",
      "source": [
        "## 실습 문제: NumPy 연산으로 히스토그램 구현하기\n",
        "\n",
        "**설명**: 히스토그램은 데이터의 분포를 시각적으로 표현하는 기본적인 도구입니다. 데이터 범위를 여러 개의 동일한 간격(빈, bin)으로 나눈 뒤, 각 간격에 속하는 데이터의 개수를 세어 막대그래프로 나타냅니다. 이번 실습의 목표는 NumPy의 기본 연산(최소/최대값, 브로드캐스팅, ufuncs, 팬시 인덱싱)만을 활용하여 히스토그램의 **빈도수(counts)**와 **구간 정보(bin_edges)**를 모두 반환하는 함수를 직접 작성하는 것입니다.\n",
        "\n",
        "$$\\text{bin_width} = \\frac{\\text{max(data)} - \\text{min(data)}}{\\text{number of bins}}$$\n",
        "$$\\text{bin_indices} = \\bigg\\lfloor \\frac{\\text{data} - \\text{min(data)}}{\\text{bin_width}} \\bigg\\rfloor$$\n",
        "\n",
        "**요구사항**:\n",
        "\n",
        "  - `manual_histogram` 함수 내에서 `np.min()`과 `np.max()`를 사용하여 데이터의 최솟값과 최댓값을 구하고, 이를 이용해 각 '빈(bin)'의 너비를 계산하세요.\n",
        "  - `np.linspace()`를 사용하여 데이터의 최솟값부터 최댓값까지 num_bins + 1개의 점을 가진 배열, 즉 빈 경계값(`bin_edges`) 배열을 생성하세요.\n",
        "  - 브로드캐스팅과 `ufuncs`(예: `np.floor`)를 활용하여, 입력된 `data` 배열의 각 요소가 어느 빈(bin) 인덱스에 속하는지 계산하세요.\n",
        "  - `np.zeros()`를 사용해 빈의 개수만큼 0으로 채워진 카운트 배열을 생성한 후, 위에서 계산한 빈 인덱스를 '팬시 인덱싱(fancy indexing)'으로 사용하여 각 빈의 카운트를 업데이트하세요.\n",
        "  - 최종적으로 계산된 `counts` 배열과 `bin_edges` 배열을 튜플 형태로 함께 반환하도록 함수를 완성하세요.\n"
      ],
      "metadata": {
        "id": "7OAgnRV5XAPW"
      }
    },
    {
      "cell_type": "code",
      "source": [
        "import numpy as np\n",
        "\n",
        "def manual_histogram(data: np.ndarray, num_bins: int) -> tuple[np.ndarray, np.ndarray]:\n",
        "    \"\"\"\n",
        "    주어진 데이터에 대해 히스토그램의 빈 카운트를 수동으로 계산합니다.\n",
        "    NumPy의 브로드캐스팅, ufuncs, 팬시 인덱싱을 활용하여 구현하세요.\n",
        "    (np.histogram() 또는 plt.hist() 함수를 사용하지 않습니다.)\n",
        "\n",
        "    Args:\n",
        "        data (np.ndarray): 1차원 숫자 데이터 배열.\n",
        "        num_bins (int): 생성할 빈(bin)의 개수.\n",
        "\n",
        "    Returns:\n",
        "        Tuple[np.ndarray, np.ndarray]:\n",
        "            - counts: 각 빈에 해당하는 데이터 포인트의 개수를 담은 배열\n",
        "            - bin_edges: 각 빈의 경계값을 담은 배열\n",
        "    \"\"\"\n",
        "    pass\n",
        "\n",
        "\n"
      ],
      "metadata": {
        "id": "RKCuxWR4XTvO"
      },
      "execution_count": null,
      "outputs": []
    },
    {
      "cell_type": "code",
      "source": [
        "sample_data = np.random.randn(1000)\n",
        "counts, bin_edges = manual_histogram(sample_data, 10)\n",
        "print(f\"직접 계산한 빈 카운트:\\n{counts}\")\n",
        "print(f\"\\n직접 계산한 빈 경계값:\\n{bin_edges}\")\n",
        "\n",
        "numpy_counts, numpy_bin_edges = np.histogram(sample_data, bins=10)\n",
        "print(f\"NumPy 내장 함수 카운트:\\n{numpy_counts}\")\n",
        "print(f\"\\nNumPy 내장 함수 빈 경계값:\\n{numpy_bin_edges}\")\n"
      ],
      "metadata": {
        "id": "uZ7xAFI_ZX9I"
      },
      "execution_count": null,
      "outputs": []
    },
    {
      "cell_type": "code",
      "execution_count": null,
      "metadata": {
        "id": "M-_iViiiw4f8"
      },
      "outputs": [],
      "source": []
    }
  ]
}