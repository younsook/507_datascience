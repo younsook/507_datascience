{
 "cells": [
  {
   "cell_type": "markdown",
   "id": "886cecde",
   "metadata": {},
   "source": [
    "# 선형회귀(Numpy)\n",
    "\n",
    "> 선형 회귀는 독립 변수(x)와 종속 변수(y) 간의 선형 관계를 모델링해서 \"예측\"하는 통계 기법입니다\n",
    "\n",
    "## 모델\n",
    "\n",
    "- 단순 모델: y = ax + b\n",
    "- 다중 모델: y = a1x1 + a2x2 + ... + anxn + b\n",
    "\n",
    "## 머신러닝 활용\n",
    "\n",
    " - y와 x가 결정 => {a,b} 매개변수를 찾아야 함\n",
    " - y와 x가 선형 관계를 가져야 함, 이상치와 다중공선성\n",
    "\n",
    " ## {a,b} 매개변수를 찾아야 함!\n",
    " \n",
    " - 매개변수를 찾는 방법: 최소제곱법, 경사하강법\n",
    " - 평가는 : MSE, R^2"
   ]
  },
  {
   "cell_type": "markdown",
   "id": "a2966a92",
   "metadata": {},
   "source": [
    "예제1. 어떤 회사의 연도별 매출이 광고비에 의존한다고 가정하자.\n",
    "아래 데이터가 주어질 때, 광고비가 8일 때 매출을 예상하세요!\n",
    "\n",
    "| 광고비(x) | 매출(y) |\n",
    "|-------|-----|\n",
    "| 2     | 81  |\n",
    "| 4     | 93  |\n",
    "| 6     | 91  |\n",
    "| 8     | ?   |\n",
    "\n",
    "- y = ax + b\n",
    "\n"
   ]
  },
  {
   "cell_type": "code",
   "execution_count": 1,
   "id": "a18a56e1",
   "metadata": {},
   "outputs": [
    {
     "name": "stdout",
     "output_type": "stream",
     "text": [
      "기울기: 2.50, 절편 : 78.33\n",
      "광고비(8) 예측 매출: 98.33\n"
     ]
    }
   ],
   "source": [
    "import numpy as np\n",
    "\n",
    "# 데이터 준비\n",
    "X = np.array([2,4,6])\n",
    "y = np.array([81, 93, 91])\n",
    "\n",
    "# 최소제곱법(평균)\n",
    "X_mean = np.mean(X)\n",
    "y_mean = np.mean(y)\n",
    "\n",
    "# 최소제곱법(계산)\n",
    "# Cov(x,y) / Var(x) => a를 구하는 방법(통계)\n",
    "# a = np.sum((X - X_mean) * (y - y_mean)) / np.sum((X-X_mean)**2)\n",
    "# b = y_mean - a * X_mean\n",
    "X = np.column_stack([X, np.ones(len(X))])\n",
    "a, b = np.linalg.lstsq(X, y)[0]\n",
    "\n",
    "print(f\"기울기: {a:.2f}, 절편 : {b:.2f}\")\n",
    "\n",
    "x_pred = 8\n",
    "y_pred = a * x_pred + b\n",
    "print(f\"광고비(8) 예측 매출: {y_pred:.2f}\")"
   ]
  },
  {
   "cell_type": "markdown",
   "id": "31037839",
   "metadata": {},
   "source": [
    "예제2. 어떤 회사에서 만드는 물건의 판매량이 가격과 온도에 영향을 받는다고 한다. 가격이 8이고 온도가 24일 때 판매량을 예측하세요.\n",
    "\n",
    "| 가격(x1) | 온도(x2) | 판매량(y) |\n",
    "|---------|----------|----------|\n",
    "| 5 | 20 | 65 |\n",
    "| 7 | 22 | 70 |\n",
    "| 9 | 23 | 60 |\n",
    "| 8 | 24 | ?  |\n",
    "\n",
    "- y = a1x1 + a2x2 + b"
   ]
  },
  {
   "cell_type": "code",
   "execution_count": 2,
   "id": "fcad941f",
   "metadata": {},
   "outputs": [
    {
     "name": "stdout",
     "output_type": "stream",
     "text": [
      "기울기1: -12.50, 기울기2: 15.00, 절편 : -172.50\n",
      "87.50\n"
     ]
    }
   ],
   "source": [
    "import numpy as np\n",
    "\n",
    "# 데이터 준비\n",
    "X = np.array([[5,20], [7,22], [9,23]])\n",
    "y = np.array([65, 70, 60])\n",
    "X_bias = np.column_stack([X, np.ones(len(X))])\n",
    "# 최소제곱법(계산)\n",
    "coeffs = np.linalg.lstsq(X_bias, y)[0]\n",
    "print(f\"기울기1: {coeffs[0]:.2f}, 기울기2: {coeffs[1]:.2f}, 절편 : {coeffs[-1]:.2f}\")\n",
    "y_pred = np.dot([8,24,1], coeffs)\n",
    "print(f\"{y_pred:.2f}\")"
   ]
  },
  {
   "cell_type": "markdown",
   "id": "c4922eb8",
   "metadata": {},
   "source": [
    "## Numpy를 활용한 선형회귀 모델(v2)\n",
    "\n",
    "> pip install scikit-learn 설치하세요"
   ]
  },
  {
   "cell_type": "code",
   "execution_count": 3,
   "id": "6d21544a",
   "metadata": {},
   "outputs": [],
   "source": [
    "import matplotlib.pyplot as plt\n",
    "import seaborn as sns\n",
    "import numpy as np\n",
    "import pandas as pd\n",
    "from sklearn.datasets import load_iris"
   ]
  },
  {
   "cell_type": "code",
   "execution_count": 4,
   "id": "b6e744d2",
   "metadata": {},
   "outputs": [],
   "source": [
    "iris = load_iris()\n",
    "iris_df = pd.DataFrame(data=iris.data, columns=iris.feature_names)\n",
    "iris_df[\"target\"] = iris.target"
   ]
  },
  {
   "cell_type": "code",
   "execution_count": 5,
   "id": "a2db4cf2",
   "metadata": {},
   "outputs": [],
   "source": [
    "# sns.pairplot(iris_df, hue=\"target\")\n",
    "# plt.suptitle(\"Iris Data Pair Plot\")\n",
    "# plt.show()"
   ]
  },
  {
   "cell_type": "markdown",
   "id": "7f07df1c",
   "metadata": {},
   "source": [
    "### 데이터 조작(학습용 데이터 변환)"
   ]
  },
  {
   "cell_type": "code",
   "execution_count": 6,
   "id": "94fcfe01",
   "metadata": {},
   "outputs": [],
   "source": [
    "X = np.column_stack([iris.data[:, 0], \n",
    "                     iris.data[:, 2], \n",
    "                     iris.data[:, 3]])\n",
    "y = iris.data[:, 1]"
   ]
  },
  {
   "cell_type": "code",
   "execution_count": 7,
   "id": "eff8ce53",
   "metadata": {},
   "outputs": [],
   "source": [
    "def custom_train_test_split(X, y, test_size=0.3, random_state=42):\n",
    "    np.random.seed(random_state)\n",
    "    \n",
    "    indices = np.random.permutation(len(X))\n",
    "    split_idx = int(len(X) * (1 - test_size))\n",
    "    train_idx = indices[:split_idx]\n",
    "    test_idx = indices[split_idx:]\n",
    "\n",
    "    X_train = X[train_idx]\n",
    "    X_test = X[test_idx]\n",
    "    y_train = y[train_idx]\n",
    "    y_test = y[test_idx]\n",
    "\n",
    "    return X_train, X_test, y_train, y_test"
   ]
  },
  {
   "cell_type": "code",
   "execution_count": 8,
   "id": "f59ead33",
   "metadata": {},
   "outputs": [
    {
     "name": "stdout",
     "output_type": "stream",
     "text": [
      "(105, 3) (45, 3) (105,) (45,)\n"
     ]
    }
   ],
   "source": [
    "X_train, X_test, y_train, y_test = custom_train_test_split(X, y)\n",
    "print(X_train.shape, X_test.shape, y_train.shape, y_test.shape)"
   ]
  },
  {
   "cell_type": "code",
   "execution_count": 9,
   "id": "cdf50272",
   "metadata": {},
   "outputs": [],
   "source": [
    "# 최소제곱법\n",
    "def fit_linear_regreesion_lsq(X, y):\n",
    "    X_bias = np.column_stack([np.ones(len(X)), X]) # 매개변수 순서!\n",
    "    cofficients, _, _, _ = np.linalg.lstsq(X_bias, y)\n",
    "    intercept_ = cofficients[0]\n",
    "    coef_ = cofficients[1:]\n",
    "    return coef_, intercept_"
   ]
  },
  {
   "cell_type": "code",
   "execution_count": 10,
   "id": "32733504",
   "metadata": {},
   "outputs": [],
   "source": [
    "# 경사하강법\n",
    "def fit_linear_regreesion_gd(X, y, \n",
    "                             learning_rate=0.01, \n",
    "                             max_iter=1000,\n",
    "                             tolerance=1e-6):    \n",
    "    n_samples, n_features = X.shape\n",
    "    weights = np.random.normal(0, 0.01, n_features+1)\n",
    "    X_with_bias = np.column_stack([np.ones(n_samples), X])\n",
    "    cost_history = []\n",
    "    for i in range(max_iter):\n",
    "        predictions = X_with_bias @ weights\n",
    "        cost = np.mean((predictions - y) ** 2)\n",
    "        cost_history.append(cost)\n",
    "        gradients = (2 / n_samples) * X_with_bias.T @ (predictions-y)\n",
    "        weights = weights - learning_rate* gradients # <- 이게 목적임!!\n",
    "        if i > 0 and abs(cost_history[-2] - cost_history[-1]) < tolerance:\n",
    "            print(f\"경사하강법이 {i+1}번째 반복에서 수렴했습니다.\")\n",
    "            break    \n",
    "    coef_ = weights[1:]\n",
    "    intercept_ = weights[0]\n",
    "    return coef_, intercept_, cost_history    "
   ]
  },
  {
   "cell_type": "code",
   "execution_count": 11,
   "id": "5cdb1448",
   "metadata": {},
   "outputs": [],
   "source": [
    "def predict_linear_regreesion(X, coef_, intercept_):\n",
    "    return X @ coef_ + intercept_"
   ]
  },
  {
   "cell_type": "code",
   "execution_count": 12,
   "id": "791ec43c",
   "metadata": {},
   "outputs": [],
   "source": [
    "coef_, intercept_ = fit_linear_regreesion_lsq(X_train, y_train)\n",
    "y_pred_lsq = predict_linear_regreesion(X_test, coef_, intercept_)"
   ]
  },
  {
   "cell_type": "code",
   "execution_count": 13,
   "id": "132eb04f",
   "metadata": {},
   "outputs": [],
   "source": [
    "coef_, intercept_, _ = fit_linear_regreesion_gd(X_train, y_train)\n",
    "y_pred_gd = predict_linear_regreesion(X_test, coef_, intercept_)"
   ]
  },
  {
   "cell_type": "code",
   "execution_count": 14,
   "id": "977ef5d1",
   "metadata": {},
   "outputs": [],
   "source": [
    "def mean_squared_error(y_true, y_pred):\n",
    "    return np.mean((y_true - y_pred)**2)    "
   ]
  },
  {
   "cell_type": "code",
   "execution_count": 15,
   "id": "90eebe54",
   "metadata": {},
   "outputs": [],
   "source": [
    "def r2_score(y_true, y_pred):\n",
    "    ss_res = np.sum((y_true-y_pred)**2)\n",
    "    y_mean = np.mean(y_true)\n",
    "    ss_tot = np.sum((y_true-y_mean)**2)\n",
    "    r2 = 1 - (ss_res  / ss_tot)    \n",
    "    return r2"
   ]
  },
  {
   "cell_type": "code",
   "execution_count": 16,
   "id": "688bf8d8",
   "metadata": {},
   "outputs": [
    {
     "name": "stdout",
     "output_type": "stream",
     "text": [
      "0.08472197157942186 0.38100017156758104\n"
     ]
    }
   ],
   "source": [
    "mse_lsq = mean_squared_error(y_test, y_pred_lsq)\n",
    "r2_lsq = r2_score(y_test, y_pred_lsq)\n",
    "print(mse_lsq, r2_lsq)"
   ]
  },
  {
   "cell_type": "code",
   "execution_count": 17,
   "id": "6013100b",
   "metadata": {},
   "outputs": [
    {
     "name": "stdout",
     "output_type": "stream",
     "text": [
      "0.10692359591372268 0.21878957380109543\n"
     ]
    }
   ],
   "source": [
    "mse_gd = mean_squared_error(y_test, y_pred_gd)\n",
    "r2_gd = r2_score(y_test, y_pred_gd)\n",
    "print(mse_gd, r2_gd)"
   ]
  },
  {
   "cell_type": "markdown",
   "id": "8ed93323",
   "metadata": {},
   "source": [
    "### 성능을 높이자!"
   ]
  },
  {
   "cell_type": "code",
   "execution_count": 18,
   "id": "a82da541",
   "metadata": {},
   "outputs": [],
   "source": [
    "def std_feat(X_train, X_test): # 평균이 0이고, 표준편차 1\n",
    "    mean = np.mean(X_train, axis=0)\n",
    "    std = np.std(X_train, axis=0)\n",
    "    X_train_scaled = (X_train - mean) / std\n",
    "    X_test_scaled = (X_test - mean) / std\n",
    "    return X_train_scaled, X_test_scaled"
   ]
  },
  {
   "cell_type": "code",
   "execution_count": 19,
   "id": "fb22a887",
   "metadata": {},
   "outputs": [],
   "source": [
    "X_train_scaled, X_test_scaled = std_feat(X_train, X_test)"
   ]
  },
  {
   "cell_type": "code",
   "execution_count": 20,
   "id": "ecf8a7a3",
   "metadata": {},
   "outputs": [],
   "source": [
    "coef_, intercept_, _ = fit_linear_regreesion_gd(X_train_scaled, y_train)\n",
    "y_pred_gd = predict_linear_regreesion(X_test_scaled, coef_, intercept_)"
   ]
  },
  {
   "cell_type": "code",
   "execution_count": 21,
   "id": "0546d8a3",
   "metadata": {},
   "outputs": [
    {
     "name": "stdout",
     "output_type": "stream",
     "text": [
      "0.09576411976970942 0.30032348631237715\n"
     ]
    }
   ],
   "source": [
    "mse_gd = mean_squared_error(y_test, y_pred_gd)\n",
    "r2_gd = r2_score(y_test, y_pred_gd)\n",
    "print(mse_gd, r2_gd)"
   ]
  },
  {
   "cell_type": "markdown",
   "id": "4ded5717",
   "metadata": {},
   "source": [
    "### learning_rate에 따른 학습 결과를 확인"
   ]
  },
  {
   "cell_type": "code",
   "execution_count": 22,
   "id": "f2c0db9c",
   "metadata": {},
   "outputs": [
    {
     "name": "stdout",
     "output_type": "stream",
     "text": [
      "경사하강법이 505번째 반복에서 수렴했습니다.\n"
     ]
    },
    {
     "name": "stderr",
     "output_type": "stream",
     "text": [
      "C:\\Users\\user\\AppData\\Roaming\\Python\\Python313\\site-packages\\numpy\\_core\\_methods.py:134: RuntimeWarning: overflow encountered in reduce\n",
      "  ret = umr_sum(arr, axis, dtype, out, keepdims, where=where)\n",
      "C:\\Users\\user\\AppData\\Local\\Temp\\ipykernel_14628\\3406202710.py:16: RuntimeWarning: invalid value encountered in scalar subtract\n",
      "  if i > 0 and abs(cost_history[-2] - cost_history[-1]) < tolerance:\n",
      "C:\\Users\\user\\AppData\\Local\\Temp\\ipykernel_14628\\3406202710.py:12: RuntimeWarning: overflow encountered in square\n",
      "  cost = np.mean((predictions - y) ** 2)\n"
     ]
    },
    {
     "data": {
      "image/png": "[encoded data removed]",
      "text/plain": [
       "<Figure size 1200x1000 with 4 Axes>"
      ]
     },
     "metadata": {},
     "output_type": "display_data"
    }
   ],
   "source": [
    "learning_rates = [0.001, 0.01, 0.1, 0.5]\n",
    "fig, axes = plt.subplots(2,2, figsize=(12,10))\n",
    "axes = axes.ravel()\n",
    "for i, lr in enumerate(learning_rates):\n",
    "    _, _, cost_history = fit_linear_regreesion_gd(X_train_scaled, \n",
    "                                                  y_train,\n",
    "                                                  learning_rate=lr)\n",
    "    axes[i].plot(cost_history)\n",
    "    axes[i].set_title(f\"lr = {lr}\")"
   ]
  },
  {
   "cell_type": "code",
   "execution_count": null,
   "id": "03b9a91c",
   "metadata": {},
   "outputs": [],
   "source": []
  }
 ],
 "metadata": {
  "kernelspec": {
   "display_name": "Python 3",
   "language": "python",
   "name": "python3"
  },
  "language_info": {
   "codemirror_mode": {
    "name": "ipython",
    "version": 3
   },
   "file_extension": ".py",
   "mimetype": "text/x-python",
   "name": "python",
   "nbconvert_exporter": "python",
   "pygments_lexer": "ipython3",
   "version": "3.13.4"
  }
 },
 "nbformat": 4,
 "nbformat_minor": 5
}
