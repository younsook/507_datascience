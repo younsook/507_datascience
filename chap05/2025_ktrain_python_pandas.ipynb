{
  "nbformat": 4,
  "nbformat_minor": 0,
  "metadata": {
    "colab": {
      "provenance": []
    },
    "kernelspec": {
      "name": "python3",
      "display_name": "Python 3"
    },
    "language_info": {
      "name": "python"
    }
  },
  "cells": [
    {
      "cell_type": "markdown",
      "source": [
        "## 1. Pandas DataFrame 실습"
      ],
      "metadata": {
        "id": "_mdJEaGhgZ2H"
      }
    },
    {
      "cell_type": "markdown",
      "source": [
        "## 실습 문제: 데이터 불러오기 및 기본 탐색\n",
        "\n",
        "**설명**: 데이터 분석의 첫 단계는 데이터를 불러와 구조를 파악하는 것입니다. Pandas 라이브러리를 사용하여 웹에 있는 타이타닉 데이터셋(CSV)을 DataFrame으로 불러온 후, `head()`, `info()`, `describe()` 함수를 사용하여 데이터의 상위 5개 행과 주요 정보 및 통계량을 확인하는 실습을 진행합니다. 이 과정을 통해 데이터 분석의 기초를 다집니다.\n",
        "\n",
        "**요구사항**:\n",
        "\n",
        "  - `url` 변수에 저장된 주소의 CSV 파일을 `pandas.read_csv()` 함수를 사용하여 `titanic_df` 변수에 저장하세요.\n",
        "  - `titanic_df`의 상위 5개 행을 `head()` 함수를 사용하여 화면에 출력하세요.\n",
        "  - `titanic_df`의 데이터에 대한 주요 정보를 `info()` 함수를 사용하여 화면에 출력하세요.\n",
        "  - `titanic_df`의 숫자형 데이터에 대한 주요 통계 정보를 `describe()` 함수를 사용하여 화면에 출력하세요.\n",
        "\n"
      ],
      "metadata": {
        "id": "QdaLLLSDr3AF"
      }
    },
    {
      "cell_type": "code",
      "execution_count": null,
      "metadata": {
        "id": "in7zgkP1rxIp"
      },
      "outputs": [],
      "source": [
        "\n",
        "import pandas as pd\n",
        "\n",
        "def load_and_explore_titanic():\n",
        "    \"\"\"\n",
        "    타이타닉 데이터셋을 불러와 상위 5개 행과 통계 정보를 출력합니다.\n",
        "    \"\"\"\n",
        "    url = 'https://raw.githubusercontent.com/agconti/kaggle-titanic/master/data/train.csv'\n",
        "\n",
        "    pass\n",
        "\n",
        "\n",
        "load_and_explore_titanic()"
      ]
    },
    {
      "cell_type": "markdown",
      "source": [
        "## 실습 문제: 누락된 나이(Age) 데이터 채우기\n",
        "\n",
        "**설명**: 실제 데이터에는 종종 값이 누락된 경우가 있으며, 이를 '결측치'라고 합니다. 정확한 분석을 위해서는 결측치를 적절히 처리해야 합니다. 이번 실습에서는 타이타닉 데이터셋의 'Age' 열에 있는 결측치를 확인하고, 전체 승객의 평균 나이로 채우는 방법을 `isna()`, `mean()`, `fillna()` 함수를 사용하여 학습합니다.\n",
        "\n",
        "$$\\text{평균 나이} = \\frac{\\sum_{i=1}^{n} \\text{Age}_i}{n}$$\n",
        "\n",
        "**요구사항**:\n",
        "\n",
        "  - `titanic_df`의 'Age' 열에 결측치가 몇 개 있는지 `isna().sum()`을 사용하여 확인하고 출력하세요.\n",
        "  - 'Age' 열의 전체 평균 나이를 `mean()` 함수로 계산하여 `mean_age` 변수에 저장하세요.\n",
        "  - `fillna()` 함수를 사용하여 'Age' 열의 결측치(NaN)를 `mean_age` 값으로 채우고, `inplace=True` 옵션을 사용하여 원본 DataFrame에 바로 적용하세요.\n",
        "  - 처리 후 'Age' 열에 결측치가 없는지 다시 `isna().sum()`으로 확인하여 출력하세요.\n",
        "\n"
      ],
      "metadata": {
        "id": "vM_3BwY3uViT"
      }
    },
    {
      "cell_type": "code",
      "source": [
        "\n",
        "import pandas as pd\n",
        "import numpy as np\n",
        "\n",
        "def impute_age(titanic_df: pd.DataFrame):\n",
        "    \"\"\"\n",
        "    타이타닉 데이터셋의 'Age' 열에 있는 결측치를 평균 나이로 채웁니다.\n",
        "    \"\"\"\n",
        "\n",
        "    # 요구사항 1: 처리 전 'Age' 열의 결측치 개수를 확인합니다.\n",
        "    # 요구사항 2: 'Age' 열의 평균값을 계산합니다.\n",
        "    # 요구사항 3: 'Age' 열의 결측치를 평균값으로 채웁니다. (inplace=True 사용)\n",
        "    # 요구사항 4: 처리 후 'Age' 열의 결측치 개수를 다시 확인합니다.\n",
        "    # 최종 확인\n",
        "    print(\"\\n결측치 처리 후 info:\")\n",
        "\n",
        "\n",
        "url = 'https://raw.githubusercontent.com/agconti/kaggle-titanic/master/data/train.csv'\n",
        "titanic_df = pd.read_csv(url)\n",
        "\n",
        "impute_age(titanic_df)\n"
      ],
      "metadata": {
        "id": "iDtEvxo0uehU"
      },
      "execution_count": null,
      "outputs": []
    },
    {
      "cell_type": "markdown",
      "source": [
        "## 실습 문제: 조건부 데이터 선택 및 필터링\n",
        "\n",
        "**설명**: DataFrame에서 원하는 데이터를 효과적으로 추출하는 것은 데이터 분석의 핵심입니다. 이번 실습에서는 타이타닉 데이터셋에서 **생존한 승객**들의 데이터만 필터링하고, 그중 특정 열(이름, 나이, 성별)만 선택하는 방법을 연습합니다. **Boolean Masking**을 사용하여 특정 조건을 만족하는 행을 추출하고, 열 이름을 이용하여 원하는 데이터를 선택합니다.\n",
        "\n",
        "**요구사항**:\n",
        "\n",
        "  - `titanic_df` DataFrame에서 'Survived' 열의 값이 `1`인 (생존자) 행들만 추출하여 `survivors_df` 변수에 저장하세요.\n",
        "  - `survivors_df`에서 'Name', 'Age', 'Sex' 세 개의 열만 선택하여 `survivor_details` 변수에 저장하세요.\n",
        "  - `survivor_details` DataFrame의 첫 5개 행을 `head()` 함수를 사용하여 출력하고 결과를 확인하세요.\n",
        "\n"
      ],
      "metadata": {
        "id": "I5nD4WC_sa9Q"
      }
    },
    {
      "cell_type": "code",
      "source": [
        "\n",
        "import pandas as pd\n",
        "\n",
        "def filter_survivors(titanic_df: pd.DataFrame) -> pd.DataFrame:\n",
        "    \"\"\"\n",
        "    타이타닉 데이터셋에서 생존한 승객의 이름, 나이, 성별 정보를 필터링합니다.\n",
        "\n",
        "    Args:\n",
        "        titanic_df (pd.DataFrame): 원본 타이타닉 데이터 프레임\n",
        "\n",
        "    Returns:\n",
        "        pd.DataFrame: 필터링된 데이터 프레임\n",
        "    \"\"\"\n",
        "\n",
        "    # 요구사항 1: 'Survived' 열이 1인 행만 필터링하세요.\n",
        "    # 요구사항 2: 'Name', 'Age', 'Sex' 열을 선택하세요.\n",
        "    # 요구사항 3: 결과를 출력하여 확인하세요.\n",
        "    print(\"--- 생존자 상세 정보 (상위 5명) ---\")\n",
        "\n",
        "    return survivor_details\n",
        "\n",
        "\n",
        "url = 'https://raw.githubusercontent.com/agconti/kaggle-titanic/master/data/train.csv'\n",
        "titanic_df = pd.read_csv(url)\n",
        "survivor_info = filter_survivors(titanic_df)\n"
      ],
      "metadata": {
        "id": "0EqYVhwtsqc7"
      },
      "execution_count": null,
      "outputs": []
    },
    {
      "cell_type": "markdown",
      "source": [
        "## 실습 문제: 최고 요금 승객 찾기 및 요금 단위 변환\n",
        "\n",
        "**설명**: 데이터를 조작하고 새로운 정보를 파생시키는 것은 중요한 분석 기술입니다. 이번 실습에서는 타이타닉호에 가장 많은 요금을 낸 승객 5명을 찾고, 당시 요금(영국 파운드)을 현재의 원화 가치로 변환하는 작업을 합니다. `nlargest()`를 사용하여 상위 데이터를 찾고, 새로운 열을 추가하여 계산 결과를 저장한 후, `sort_values()`로 정렬하여 최종 결과를 확인합니다.\n",
        "\n",
        "$$\\text{Fare\\_KRW} = \\text{Fare} \\times 1800$$\n",
        "\n",
        "**요구사항**:\n",
        "\n",
        "  - 'Fare' 열을 기준으로 가장 높은 요금을 낸 5명의 데이터를 `nlargest()` 함수를 사용하여 `top_fare_df` 변수에 저장하세요.\n",
        "  - `top_fare_df`에 'Fare\\_KRW'라는 새로운 열을 추가하세요. 이 열의 값은 기존 'Fare' 열 값에 환율(`1800`)을 곱한 결과입니다.\n",
        "  - 'Fare' 열을 기준으로 **내림차순 정렬**하고, 'Name', 'Pclass', 'Fare', 'Fare\\_KRW' 열만 선택하여 최종 결과를 출력하세요.\n"
      ],
      "metadata": {
        "id": "G-tMPkuwtB8x"
      }
    },
    {
      "cell_type": "code",
      "source": [
        "\n",
        "import pandas as pd\n",
        "\n",
        "def find_and_convert_top_fares(titanic_df: pd.DataFrame) -> pd.DataFrame:\n",
        "    \"\"\"\n",
        "    가장 높은 요금을 낸 승객 5명을 찾고, 요금을 원화로 변환합니다.\n",
        "    \"\"\"\n",
        "    # 환율 정의\n",
        "    exchange_rate = 1800\n",
        "\n",
        "    # 요구사항 1: 'Fare'가 가장 높은 상위 5명의 데이터를 찾으세요.\n",
        "    # 요구사항 2: 'Fare_KRW' 열을 추가하고 환산된 요금을 저장하세요.\n",
        "    # 요구사항 3: 'Fare' 기준 내림차순 정렬 후, 지정된 열만 선택하여 출력하세요.\n",
        "    print(\"--- 최고 요금 승객 Top 5 (요금 원화 변환) ---\")\n",
        "\n",
        "    return final_df\n",
        "\n",
        "\n",
        "\n",
        "url = 'https://raw.githubusercontent.com/agconti/kaggle-titanic/master/data/train.csv'\n",
        "titanic_df = pd.read_csv(url)\n",
        "top_fare_info = find_and_convert_top_fares(titanic_df)\n"
      ],
      "metadata": {
        "id": "WdfdAjfktYCy"
      },
      "execution_count": null,
      "outputs": []
    },
    {
      "cell_type": "markdown",
      "source": [
        "## 실습 문제: 객실 등급별 생존율 및 평균 나이 분석\n",
        "\n",
        "**설명**: 데이터를 특정 기준으로 그룹화하여 집계하는 것은 데이터의 숨겨진 패턴을 발견하는 강력한 방법입니다. 이번 실습에서는 `groupby()`와 `agg()` 함수를 사용하여 타이타닉호의 객실 등급(`Pclass`)별로 승객들의 평균 생존율과 평균 나이를 계산합니다. 이 과정을 통해 각 객실 등급이 생존에 미친 영향을 통계적으로 분석해 봅니다. 생존 여부를 나타내는 'Survived' 열(사망 0, 생존 1)의 평균값은 곧 생존율을 의미합니다.\n",
        "\n",
        "$$\\text{Survival Rate} = \\frac{\\sum(\\text{Survived})}{\\text{count}(\\text{Passengers})} = \\text{mean}(\\text{Survived})$$\n",
        "\n",
        "**요구사항**:\n",
        "\n",
        "  - `titanic_df` DataFrame을 'Pclass' 열 기준으로 그룹화하세요.\n",
        "  - 그룹화된 객체에 `agg()` 함수를 적용하여 각 객실 등급(`Pclass`)별 'Survived' 열의 평균(생존율)과 'Age' 열의 평균(평균 나이)을 동시에 계산하세요.\n",
        "  - 계산된 결과를 출력하여 확인하세요. 결과는 각 객실 등급을 인덱스로 갖고, 'Survived'와 'Age'를 열로 갖는 DataFrame이 됩니다.\n",
        "\n"
      ],
      "metadata": {
        "id": "DVuXnGy-t05a"
      }
    },
    {
      "cell_type": "code",
      "source": [
        "\n",
        "import pandas as pd\n",
        "import numpy as np\n",
        "\n",
        "def analyze_by_class(titanic_df: pd.DataFrame) -> pd.DataFrame:\n",
        "    \"\"\"\n",
        "    객실 등급(Pclass)별 평균 생존율과 평균 나이를 계산합니다.\n",
        "    \"\"\"\n",
        "\n",
        "    # 요구사항 1 & 2: 'Pclass'로 그룹화하고 'Survived'와 'Age'의 평균을 계산하세요.\n",
        "    # 'Survived'의 평균은 생존율을, 'Age'의 평균은 평균 나이를 나타냅니다.\n",
        "    # 요구사항 3: 결과를 출력하여 확인하세요.\n",
        "    print(\"--- 객실 등급별 생존율 및 평균 나이 ---\")\n",
        "\n",
        "    return analysis_df\n",
        "\n",
        "\n",
        "\n",
        "url = 'https://raw.githubusercontent.com/agconti/kaggle-titanic/master/data/train.csv'\n",
        "titanic_df = pd.read_csv(url)\n",
        "\n",
        "class_analysis = analyze_by_class(titanic_df)\n"
      ],
      "metadata": {
        "id": "8ps3VNGKt7cr"
      },
      "execution_count": null,
      "outputs": []
    },
    {
      "cell_type": "markdown",
      "source": [
        "## 실습 문제: 나이대 및 성별 데이터 변환\n",
        "\n",
        "**설명**: 머신러닝 모델은 숫자형 데이터를 주로 사용하기 때문에, 종종 기존 데이터를 분석 목적에 맞게 변환해야 합니다. 이번 실습에서는 'Age' 열을 이용하여 'Age\\_Group' (나이대)이라는 새로운 범주형 열을 만들고, 'Sex' 열의 문자열 데이터를 숫자형으로 변환합니다. `apply` 메소드와 `lambda` 함수를 활용하여 데이터를 효과적으로 변환하는 방법을 학습합니다.\n",
        "\n",
        "**요구사항**:\n",
        "\n",
        "  - 나이를 입력받아 나이대 문자열('Child', 'Young', 'Adult', 'Senior')을 반환하는 `get_age_group` 함수가 주어집니다.\n",
        "  - `apply`와 `lambda` 함수를 사용하여 `titanic_df['Age']`의 각 값에 `get_age_group` 함수를 적용하고, 그 결과를 'Age\\_Group'이라는 새 열에 저장하세요.\n",
        "  - `apply`와 `lambda` 함수를 사용하여 'Sex' 열의 값을 변환하세요. 'male'은 `0`으로, 'female'은 `1`로 변환하여 기존 'Sex' 열을 덮어쓰세요.\n",
        "  - 변환 작업이 완료된 후, 'Age', 'Age\\_Group', 'Sex' 세 열의 상위 5개 행을 출력하여 결과를 확인하세요.\n",
        "\n"
      ],
      "metadata": {
        "id": "3MepVCjruvjV"
      }
    },
    {
      "cell_type": "code",
      "source": [
        "\n",
        "import pandas as pd\n",
        "\n",
        "def get_age_group(age: float) -> str:\n",
        "    \"\"\"나이를 받아 나이대 문자열을 반환하는 함수\"\"\"\n",
        "    if age <= 13:\n",
        "        return 'Child'\n",
        "    elif age <= 25:\n",
        "        return 'Young'\n",
        "    elif age <= 64:\n",
        "        return 'Adult'\n",
        "    else:\n",
        "        return 'Senior'\n",
        "\n",
        "def transform_data(titanic_df: pd.DataFrame) -> pd.DataFrame:\n",
        "    \"\"\"\n",
        "    'Age' 열로 'Age_Group' 열을 생성하고 'Sex' 열을 숫자형으로 변환합니다.\n",
        "    \"\"\"\n",
        "    # 결측치 처리 (선행 작업)\n",
        "    # 요구사항 1 & 2: apply와 lambda를 사용하여 'Age_Group' 열을 생성하세요.\n",
        "    # 요구사항 3: apply와 lambda를 사용하여 'Sex' 열을 0과 1로 변환하세요.\n",
        "    # 요구사항 4: 변환된 결과의 일부를 출력하여 확인합니다.\n",
        "    print(\"--- 데이터 변환 결과 (상위 5행) ---\")\n",
        "\n",
        "    return titanic_df\n",
        "\n",
        "\n",
        "\n",
        "url = 'https://raw.githubusercontent.com/agconti/kaggle-titanic/master/data/train.csv'\n",
        "titanic_df = pd.read_csv(url)\n",
        "\n",
        "transformed_df = transform_data(titanic_df)"
      ],
      "metadata": {
        "id": "oDAJpZHZu3tH"
      },
      "execution_count": null,
      "outputs": []
    },
    {
      "cell_type": "markdown",
      "source": [
        "## 2. Pandas groupby 실습"
      ],
      "metadata": {
        "id": "cJhIsIpFCWcG"
      }
    },
    {
      "cell_type": "markdown",
      "source": [
        "\n",
        "## 실습 문제: 품종별 평균 계산하기 (`agg`)\n",
        "\n",
        "**설명**: `groupby()`와 `mean()` (또는 `agg('mean')`)을 사용하여 데이터셋을 특정 그룹으로 나누고, 각 그룹의 통계적 요약(여기서는 평균)을 계산하는 방법을 연습합니다. `iris` DataFrame의 각 품종(`species`)별로 모든 수치 특성(꽃받침 및 꽃잎의 길이와 너비)의 평균값을 계산하는 함수를 완성해 보세요.\n",
        "\n",
        "**요구사항**:\n",
        "\n",
        "  - `calculate_species_mean` 함수를 완성하세요.\n",
        "  - 함수 내에서 주어진 `df` DataFrame을 `species` 컬럼을 기준으로 그룹화하세요.\n",
        "  - 그룹화된 객체에 `mean()` 함수를 적용하여 품종별 평균을 계산하고 반환하세요.\n",
        "\n"
      ],
      "metadata": {
        "id": "hI19sMjzB2I_"
      }
    },
    {
      "cell_type": "code",
      "source": [
        "\n",
        "import pandas as pd\n",
        "from sklearn.datasets import load_iris\n",
        "\n",
        "def calculate_species_mean(df: pd.DataFrame) -> pd.DataFrame:\n",
        "    \"\"\"\n",
        "    iris DataFrame을 품종(species)별로 그룹화하고 각 특성의 평균을 계산합니다.\n",
        "\n",
        "    매개변수:\n",
        "        df: 'species' 컬럼을 포함하는 입력 iris DataFrame입니다.\n",
        "\n",
        "    반환값:\n",
        "        각 품종별로 각 특성의 평균을 담은 DataFrame입니다.\n",
        "    \"\"\"\n",
        "\n",
        "    pass\n",
        "\n",
        "\n",
        "iris = load_iris()\n",
        "df = pd.DataFrame(data=iris.data, columns=iris.feature_names)\n",
        "df['species'] = pd.Categorical.from_codes(iris.target, iris.target_names)\n",
        "\n",
        "species_mean = calculate_species_mean(df)\n",
        "species_mean\n"
      ],
      "metadata": {
        "id": "aji5P_F4CSQC"
      },
      "execution_count": null,
      "outputs": []
    },
    {
      "cell_type": "markdown",
      "source": [
        "\n",
        "## 실습 문제: 특정 조건을 만족하는 그룹 찾기 (`filter`)\n",
        "\n",
        "**설명**: `filter()`는 그룹 전체의 특성을 기반으로 데이터를 필터링하는 강력한 도구입니다. 🕵️‍♀️ SQL의 `HAVING` 절과 유사하게, 그룹별 집계 결과가 특정 조건을 만족하는 그룹의 모든 행을 선택할 수 있습니다. 여기서는 품종별 평균 `petal length (cm)`가 4.0cm 이상인 품종 그룹 전체의 데이터를 추출하는 함수를 완성해 보세요.\n",
        "\n",
        "**요구사항**:\n",
        "\n",
        "  * `filter_by_petal_length` 함수를 완성하세요.\n",
        "  * 함수 내에서 `species` 컬럼을 기준으로 그룹화한 후, `filter()`와 `lambda` 함수를 사용하세요.\n",
        "  * 그룹별 'petal length (cm)'의 평균값이 4.0 이상인 그룹만 남도록 필터링하여 반환하세요.\n",
        "\n"
      ],
      "metadata": {
        "id": "nDy15CHdCwHy"
      }
    },
    {
      "cell_type": "code",
      "source": [
        "\n",
        "import pandas as pd\n",
        "from sklearn.datasets import load_iris\n",
        "\n",
        "def filter_by_petal_length(df: pd.DataFrame) -> pd.DataFrame:\n",
        "    \"\"\"\n",
        "    iris DataFrame을 품종별로 그룹화하고, 특정 조건을 만족하는 그룹을 필터링합니다.\n",
        "\n",
        "    매개변수:\n",
        "        df: 'species'와 'petal length (cm)' 컬럼을 포함하는 iris DataFrame입니다.\n",
        "\n",
        "    반환값:\n",
        "        'petal length (cm)'의 그룹 평균이 4.0 이상인 품종 그룹의 데이터만 포함하는 DataFrame입니다.\n",
        "    \"\"\"\n",
        "\n",
        "    pass\n",
        "\n",
        "\n",
        "iris = load_iris()\n",
        "df = pd.DataFrame(data=iris.data, columns=iris.feature_names)\n",
        "df['species'] = pd.Categorical.from_codes(iris.target, iris.target_names)\n",
        "\n",
        "filtered_df = filter_by_petal_length(df)\n",
        "print(\"필터링 후 남은 품종:\", filtered_df['species'].unique())\n",
        "print(\"필터링된 데이터의 행 개수:\", len(filtered_df))\n"
      ],
      "metadata": {
        "id": "TDyx59BmC4M0"
      },
      "execution_count": null,
      "outputs": []
    },
    {
      "cell_type": "markdown",
      "source": [
        "\n",
        "## 실습 문제: 그룹 평균과의 차이 계산하기 (`transform`)\n",
        "\n",
        "**설명**: `transform()`은 그룹별로 계산한 값을 원본 데이터의 각 행에 다시 매핑해주는 유용한 기능입니다. 📈 이를 통해 각 데이터 포인트가 속한 그룹의 통계치와 어떻게 다른지 쉽게 비교할 수 있습니다. 각 붓꽃 데이터의 `petal width (cm)`가 자신이 속한 품종의 평균 `petal width (cm)`와 얼마나 차이 나는지를 계산하여 새 컬럼에 추가하는 함수를 완성해 보세요.\n",
        "\n",
        "**요구사항**:\n",
        "\n",
        "  * `calculate_deviation_from_mean` 함수를 완성하세요.\n",
        "  * 함수 내에서 `species` 컬럼을 기준으로 그룹화하고, `petal width (cm)` 컬럼을 선택하세요.\n",
        "  * `transform()`과 `lambda` 함수를 사용하여 각 데이터의 값에서 그룹별 평균을 뺀 '편차(deviation)'를 계산하여 반환하세요.\n",
        "\n"
      ],
      "metadata": {
        "id": "WQp18tVPDE4A"
      }
    },
    {
      "cell_type": "code",
      "source": [
        "\n",
        "import pandas as pd\n",
        "from sklearn.datasets import load_iris\n",
        "\n",
        "def calculate_deviation_from_mean(df: pd.DataFrame) -> pd.Series:\n",
        "    \"\"\"\n",
        "    각 데이터가 속한 품종의 'petal width (cm)' 평균값과의 차이를 계산합니다.\n",
        "\n",
        "    매개변수:\n",
        "        df: 'species'와 'petal width (cm)' 컬럼을 포함하는 iris DataFrame입니다.\n",
        "\n",
        "    반환값:\n",
        "        각 데이터의 'petal width (cm)'와 해당 품종의 평균 'petal width (cm)' 사이의 편차를 담은 Series입니다.\n",
        "    \"\"\"\n",
        "\n",
        "    pass\n",
        "\n",
        "\n",
        "iris = load_iris()\n",
        "df = pd.DataFrame(data=iris.data, columns=iris.feature_names)\n",
        "df['species'] = pd.Categorical.from_codes(iris.target, iris.target_names)\n",
        "\n",
        "df['petal_width_deviation'] = calculate_deviation_from_mean(df)\n",
        "df[['species', 'petal width (cm)', 'petal_width_deviation']].head()"
      ],
      "metadata": {
        "id": "d33APdHhDJZG"
      },
      "execution_count": null,
      "outputs": []
    },
    {
      "cell_type": "markdown",
      "source": [
        "\n",
        "## 실습 문제: 각 그룹에서 특정 조건의 데이터 추출하기 (`apply`)\n",
        "\n",
        "**설명**: `apply()`는 `agg`, `filter`, `transform`으로 해결하기 어려운 복잡한 맞춤형 함수를 각 그룹에 적용할 때 사용하는 \"만능 치트키\"입니다. 🃏 여기서는 각 품종 그룹 내에서 `petal width (cm)`가 \\*\\*가장 작은 데이터(최소값)\\*\\*를 하나씩 추출하는 함수를 `apply`를 이용해 완성해 봅니다.\n",
        "\n",
        "**요구사항**:\n",
        "\n",
        "  * `get_smallest_petal_width_row` 함수를 완성하여, 입력된 그룹(`group`)에서 'petal width (cm)' 값이 가장 작은 행을 반환하도록 하세요. (`nsmallest()` 함수 사용을 권장합니다.)\n",
        "  * `find_smallest_in_group` 함수를 완성하세요.\n",
        "  * 함수 내에서 `species`를 기준으로 그룹화하고, `apply()`를 사용하여 위에서 정의한 헬퍼 함수를 각 그룹에 적용하여 최종 결과를 반환하세요."
      ],
      "metadata": {
        "id": "9tBzRb_JDeo3"
      }
    },
    {
      "cell_type": "code",
      "source": [
        "\n",
        "import pandas as pd\n",
        "from sklearn.datasets import load_iris\n",
        "\n",
        "def get_smallest_petal_width_row(group: pd.DataFrame) -> pd.DataFrame:\n",
        "    \"\"\"\n",
        "    주어진 그룹(DataFrame)에서 'petal width (cm)'가 가장 작은 행을 찾습니다.\n",
        "\n",
        "    매개변수:\n",
        "        group: 단일 품종으로 구성된 DataFrame 그룹입니다.\n",
        "\n",
        "    반환값:\n",
        "        'petal width (cm)'가 가장 작은 행(들)을 포함하는 DataFrame입니다.\n",
        "    \"\"\"\n",
        "\n",
        "    pass\n",
        "\n",
        "def find_smallest_in_group(df: pd.DataFrame) -> pd.DataFrame:\n",
        "    \"\"\"\n",
        "    iris DataFrame을 품종별로 그룹화하고, 각 그룹에서 'petal width (cm)'가\n",
        "    가장 작은 데이터를 추출합니다.\n",
        "\n",
        "    매개변수:\n",
        "        df: 'species'와 'petal width (cm)' 컬럼을 포함하는 iris DataFrame입니다.\n",
        "\n",
        "    반환값:\n",
        "        각 품종별로 'petal width (cm)'가 가장 작은 행들로 구성된 DataFrame입니다.\n",
        "    \"\"\"\n",
        "\n",
        "    pass\n",
        "\n",
        "\n",
        "iris = load_iris()\n",
        "df = pd.DataFrame(data=iris.data, columns=iris.feature_names)\n",
        "df['species'] = pd.Categorical.from_codes(iris.target, iris.target_names)\n",
        "\n",
        "smallest_per_species = find_smallest_in_group(df)\n",
        "smallest_per_species"
      ],
      "metadata": {
        "id": "Srwu-EX6Dm6J"
      },
      "execution_count": null,
      "outputs": []
    }
  ]
}