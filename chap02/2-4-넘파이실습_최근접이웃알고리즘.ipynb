{
 "cells": [
  {
   "cell_type": "markdown",
   "metadata": {},
   "source": [
    "# 과제: 100개의 임의 점 좌표에 대해 5-최근접 이웃 구하기 및 시각화\n",
    "\n",
    "## 과제 설명\n",
    "\n",
    "### 1. 목표: 100개의 임의의 2차원 좌표에 대해 각 점의 5-최근접 이웃을 찾아 시각화하는 프로그램을 작성.\n",
    "\n",
    "### 2. 조건:\n",
    "거리: 유클리드 거리 제곱을 사용하여 각 점 간의 거리를 계산.\n",
    "출력: 각 점에 대해 가장 가까운 5개의 이웃 좌표를 출력.\n",
    "시각화: 각 좌표와 해당 좌표에 가까운 5개의 이웃을 스캐터 플롯으로 시각화. (점마다 이웃 관계를 선으로 연결하여 표시)\n",
    "\n",
    "\n"
   ]
  },
  {
   "cell_type": "code",
   "execution_count": 2,
   "metadata": {},
   "outputs": [],
   "source": [
    "import numpy as np"
   ]
  },
  {
   "cell_type": "markdown",
   "metadata": {},
   "source": [
    "3. 단계별 요구 사항\n",
    "\n",
    "## 3.1 난수 좌표 생성:\n",
    "[0, 1) 범위에서 100개의 2차원 좌표를 생성.\n",
    "\n"
   ]
  },
  {
   "cell_type": "code",
   "execution_count": 3,
   "metadata": {},
   "outputs": [
    {
     "data": {
      "text/plain": [
       "((100,), (100,))"
      ]
     },
     "execution_count": 3,
     "metadata": {},
     "output_type": "execute_result"
    }
   ],
   "source": [
    "x = np.random.rand(100)\n",
    "y = np.random.rand(100)\n",
    "\n",
    "x.shape, y.shape"
   ]
  },
  {
   "cell_type": "code",
   "execution_count": null,
   "metadata": {},
   "outputs": [],
   "source": [
    "points = list(zip(x, y))\n",
    "points"
   ]
  },
  {
   "cell_type": "code",
   "execution_count": 9,
   "metadata": {},
   "outputs": [
    {
     "data": {
      "text/plain": [
       "(100, 2)"
      ]
     },
     "execution_count": 9,
     "metadata": {},
     "output_type": "execute_result"
    }
   ],
   "source": [
    "points = np.concatenate([x[:,None], y[:, None]], axis=1)\n",
    "points.shape"
   ]
  },
  {
   "cell_type": "code",
   "execution_count": 26,
   "metadata": {},
   "outputs": [
    {
     "data": {
      "text/plain": [
       "(100, 2)"
      ]
     },
     "execution_count": 26,
     "metadata": {},
     "output_type": "execute_result"
    }
   ],
   "source": [
    "import numpy as np\n",
    "\n",
    "np.random.rand(100, 2).shape"
   ]
  },
  {
   "cell_type": "code",
   "execution_count": 27,
   "metadata": {},
   "outputs": [
    {
     "data": {
      "text/plain": [
       "((3,), array([1, 2, 3]))"
      ]
     },
     "execution_count": 27,
     "metadata": {},
     "output_type": "execute_result"
    }
   ],
   "source": [
    "A = np.arange(1, 4)\n",
    "A.shape, A"
   ]
  },
  {
   "cell_type": "code",
   "execution_count": 28,
   "metadata": {},
   "outputs": [
    {
     "data": {
      "text/plain": [
       "((3, 1),\n",
       " array([[1],\n",
       "        [2],\n",
       "        [3]]))"
      ]
     },
     "execution_count": 28,
     "metadata": {},
     "output_type": "execute_result"
    }
   ],
   "source": [
    "B = np.arange(1, 4)[:, None]\n",
    "B.shape, B"
   ]
  },
  {
   "cell_type": "code",
   "execution_count": 29,
   "metadata": {},
   "outputs": [
    {
     "data": {
      "text/plain": [
       "array([[ 0,  1,  2],\n",
       "       [-1,  0,  1],\n",
       "       [-2, -1,  0]])"
      ]
     },
     "execution_count": 29,
     "metadata": {},
     "output_type": "execute_result"
    }
   ],
   "source": [
    "# A = (1, 3)\n",
    "# B = (3, 1)\n",
    "\n",
    "A - B"
   ]
  },
  {
   "cell_type": "code",
   "execution_count": 15,
   "metadata": {},
   "outputs": [
    {
     "data": {
      "text/plain": [
       "(100,)"
      ]
     },
     "execution_count": 15,
     "metadata": {},
     "output_type": "execute_result"
    }
   ],
   "source": [
    "x = np.random.rand(100)\n",
    "x.shape"
   ]
  },
  {
   "cell_type": "code",
   "execution_count": 16,
   "metadata": {},
   "outputs": [
    {
     "data": {
      "text/plain": [
       "(100, 1)"
      ]
     },
     "execution_count": 16,
     "metadata": {},
     "output_type": "execute_result"
    }
   ],
   "source": [
    "y = np.random.rand(100).reshape(100, 1)\n",
    "y.shape"
   ]
  },
  {
   "cell_type": "code",
   "execution_count": null,
   "metadata": {},
   "outputs": [
    {
     "data": {
      "text/plain": [
       "(100, 100)"
      ]
     },
     "execution_count": 25,
     "metadata": {},
     "output_type": "execute_result"
    }
   ],
   "source": [
    "def f(x, y):\n",
    "    return np.sqrt((x - y)**2)"
   ]
  },
  {
   "cell_type": "code",
   "execution_count": 12,
   "metadata": {},
   "outputs": [
    {
     "data": {
      "text/plain": [
       "array([[1, 2, 3],\n",
       "       [1, 2, 3],\n",
       "       [1, 2, 3]])"
      ]
     },
     "execution_count": 12,
     "metadata": {},
     "output_type": "execute_result"
    }
   ],
   "source": [
    "np.broadcast_to(A, (3, 3))"
   ]
  },
  {
   "cell_type": "code",
   "execution_count": 13,
   "metadata": {},
   "outputs": [
    {
     "data": {
      "text/plain": [
       "array([[1, 1, 1],\n",
       "       [2, 2, 2],\n",
       "       [3, 3, 3]])"
      ]
     },
     "execution_count": 13,
     "metadata": {},
     "output_type": "execute_result"
    }
   ],
   "source": [
    "np.broadcast_to(B, (3, 3))"
   ]
  },
  {
   "cell_type": "code",
   "execution_count": 34,
   "metadata": {},
   "outputs": [],
   "source": [
    "points = np.random.rand(10, 2)"
   ]
  },
  {
   "cell_type": "code",
   "execution_count": 35,
   "metadata": {},
   "outputs": [
    {
     "data": {
      "text/plain": [
       "<matplotlib.collections.PathCollection at 0x2941981ac30>"
      ]
     },
     "execution_count": 35,
     "metadata": {},
     "output_type": "execute_result"
    },
    {
     "data": {
      "image/png": "[encoded data removed]",
      "text/plain": [
       "<Figure size 640x480 with 1 Axes>"
      ]
     },
     "metadata": {},
     "output_type": "display_data"
    }
   ],
   "source": [
    "import matplotlib.pyplot as plt\n",
    "\n",
    "plt.scatter(points[:,0], points[:,1])"
   ]
  },
  {
   "cell_type": "markdown",
   "metadata": {},
   "source": [
    "## 3.2 거리 행렬 계산:\n",
    "\n",
    "각 점 간의 유클리드 거리 제곱을 계산하여 100x100 크기의 거리 행렬을 생성."
   ]
  },
  {
   "cell_type": "code",
   "execution_count": 38,
   "metadata": {},
   "outputs": [
    {
     "data": {
      "text/plain": [
       "((1, 10, 2), (10, 1, 2))"
      ]
     },
     "execution_count": 38,
     "metadata": {},
     "output_type": "execute_result"
    }
   ],
   "source": [
    "points = np.random.rand(10, 2)\n",
    "points[None, :, :].shape, points[:, None, :].shape"
   ]
  },
  {
   "cell_type": "code",
   "execution_count": 53,
   "metadata": {},
   "outputs": [
    {
     "data": {
      "text/plain": [
       "((10, 2), (10, 1, 2))"
      ]
     },
     "execution_count": 53,
     "metadata": {},
     "output_type": "execute_result"
    }
   ],
   "source": [
    "points = np.random.rand(10, 2)\n",
    "points.shape, points[:, None, :].shape"
   ]
  },
  {
   "cell_type": "code",
   "execution_count": 54,
   "metadata": {},
   "outputs": [
    {
     "data": {
      "text/plain": [
       "(10, 10, 2)"
      ]
     },
     "execution_count": 54,
     "metadata": {},
     "output_type": "execute_result"
    }
   ],
   "source": [
    "d = points - points[:, None, :]\n",
    "d.shape"
   ]
  },
  {
   "cell_type": "code",
   "execution_count": 55,
   "metadata": {},
   "outputs": [
    {
     "data": {
      "text/plain": [
       "(10, 10, 2)"
      ]
     },
     "execution_count": 55,
     "metadata": {},
     "output_type": "execute_result"
    }
   ],
   "source": [
    "d = (points - points[:, None, :])\n",
    "d.shape"
   ]
  },
  {
   "cell_type": "code",
   "execution_count": 59,
   "metadata": {},
   "outputs": [
    {
     "data": {
      "text/plain": [
       "array([[0.        , 0.75316332, 0.2765868 , 0.39186239, 0.87784314,\n",
       "        0.81765984, 0.31911266, 0.42075669, 0.50957857, 0.47028307],\n",
       "       [0.75316332, 0.        , 0.50045135, 0.58289796, 0.14077547,\n",
       "        0.31163876, 0.43902595, 1.1037008 , 0.54752868, 0.3557191 ],\n",
       "       [0.2765868 , 0.50045135, 0.        , 0.20818768, 0.63485951,\n",
       "        0.63810783, 0.07338973, 0.68469371, 0.29296156, 0.19396288],\n",
       "       [0.39186239, 0.58289796, 0.20818768, 0.        , 0.72366142,\n",
       "        0.79132781, 0.2641626 , 0.810551  , 0.12027908, 0.22825243],\n",
       "       [0.87784314, 0.14077547, 0.63485951, 0.72366142, 0.        ,\n",
       "        0.26890745, 0.57015167, 1.2077931 , 0.68563871, 0.49643626],\n",
       "       [0.81765984, 0.31163876, 0.63810783, 0.79132781, 0.26890745,\n",
       "        0.        , 0.56477692, 1.07101464, 0.79373336, 0.57433529],\n",
       "       [0.31911266, 0.43902595, 0.07338973, 0.2641626 , 0.57015167,\n",
       "        0.56477692, 0.        , 0.70834278, 0.32934045, 0.17534787],\n",
       "       [0.42075669, 1.1037008 , 0.68469371, 0.810551  , 1.2077931 ,\n",
       "        1.07101464, 0.70834278, 0.        , 0.92945251, 0.87653987],\n",
       "       [0.50957857, 0.54752868, 0.29296156, 0.12027908, 0.68563871,\n",
       "        0.79373336, 0.32934045, 0.92945251, 0.        , 0.22166193],\n",
       "       [0.47028307, 0.3557191 , 0.19396288, 0.22825243, 0.49643626,\n",
       "        0.57433529, 0.17534787, 0.87653987, 0.22166193, 0.        ]])"
      ]
     },
     "execution_count": 59,
     "metadata": {},
     "output_type": "execute_result"
    }
   ],
   "source": [
    "d = np.sqrt(np.sum((points - points[:, None, :])**2, axis=2))\n",
    "d"
   ]
  },
  {
   "cell_type": "code",
   "execution_count": 58,
   "metadata": {},
   "outputs": [
    {
     "data": {
      "text/plain": [
       "array([[0.        , 0.75316332, 0.2765868 , 0.39186239, 0.87784314,\n",
       "        0.81765984, 0.31911266, 0.42075669, 0.50957857, 0.47028307],\n",
       "       [0.75316332, 0.        , 0.50045135, 0.58289796, 0.14077547,\n",
       "        0.31163876, 0.43902595, 1.1037008 , 0.54752868, 0.3557191 ],\n",
       "       [0.2765868 , 0.50045135, 0.        , 0.20818768, 0.63485951,\n",
       "        0.63810783, 0.07338973, 0.68469371, 0.29296156, 0.19396288],\n",
       "       [0.39186239, 0.58289796, 0.20818768, 0.        , 0.72366142,\n",
       "        0.79132781, 0.2641626 , 0.810551  , 0.12027908, 0.22825243],\n",
       "       [0.87784314, 0.14077547, 0.63485951, 0.72366142, 0.        ,\n",
       "        0.26890745, 0.57015167, 1.2077931 , 0.68563871, 0.49643626],\n",
       "       [0.81765984, 0.31163876, 0.63810783, 0.79132781, 0.26890745,\n",
       "        0.        , 0.56477692, 1.07101464, 0.79373336, 0.57433529],\n",
       "       [0.31911266, 0.43902595, 0.07338973, 0.2641626 , 0.57015167,\n",
       "        0.56477692, 0.        , 0.70834278, 0.32934045, 0.17534787],\n",
       "       [0.42075669, 1.1037008 , 0.68469371, 0.810551  , 1.2077931 ,\n",
       "        1.07101464, 0.70834278, 0.        , 0.92945251, 0.87653987],\n",
       "       [0.50957857, 0.54752868, 0.29296156, 0.12027908, 0.68563871,\n",
       "        0.79373336, 0.32934045, 0.92945251, 0.        , 0.22166193],\n",
       "       [0.47028307, 0.3557191 , 0.19396288, 0.22825243, 0.49643626,\n",
       "        0.57433529, 0.17534787, 0.87653987, 0.22166193, 0.        ]])"
      ]
     },
     "execution_count": 58,
     "metadata": {},
     "output_type": "execute_result"
    }
   ],
   "source": [
    "from sklearn.metrics import pairwise_distances\n",
    "\n",
    "points = np.random.rand(10, 2)\n",
    "pairwise_distances(points)"
   ]
  },
  {
   "cell_type": "code",
   "execution_count": 52,
   "metadata": {},
   "outputs": [
    {
     "data": {
      "text/plain": [
       "array([[0, 5, 4, 1, 7, 6, 8, 9, 2, 3],\n",
       "       [1, 5, 0, 8, 6, 4, 7, 3, 2, 9],\n",
       "       [2, 9, 8, 1, 7, 3, 0, 5, 6, 4],\n",
       "       [3, 8, 6, 1, 5, 2, 0, 9, 7, 4],\n",
       "       [4, 0, 5, 7, 1, 9, 6, 8, 2, 3],\n",
       "       [5, 0, 1, 4, 6, 7, 8, 3, 9, 2],\n",
       "       [6, 3, 8, 5, 1, 0, 4, 2, 7, 9],\n",
       "       [7, 9, 0, 4, 1, 5, 2, 8, 6, 3],\n",
       "       [8, 3, 1, 6, 2, 5, 0, 9, 7, 4],\n",
       "       [9, 2, 7, 1, 0, 8, 4, 5, 3, 6]], dtype=int64)"
      ]
     },
     "execution_count": 52,
     "metadata": {},
     "output_type": "execute_result"
    }
   ],
   "source": [
    "np.argsort(d)"
   ]
  },
  {
   "cell_type": "code",
   "execution_count": 50,
   "metadata": {},
   "outputs": [
    {
     "data": {
      "text/plain": [
       "array([0.10747072, 0.53482865, 0.48899658, 0.73044657, 0.09488453,\n",
       "       0.30155786, 0.50093485, 0.96834425, 0.77651748, 0.26665473])"
      ]
     },
     "execution_count": 50,
     "metadata": {},
     "output_type": "execute_result"
    }
   ],
   "source": [
    "data = np.random.rand(10)\n",
    "data"
   ]
  },
  {
   "cell_type": "code",
   "execution_count": 51,
   "metadata": {},
   "outputs": [
    {
     "data": {
      "text/plain": [
       "array([4, 0, 9, 5, 2, 6, 1, 3, 8, 7], dtype=int64)"
      ]
     },
     "execution_count": 51,
     "metadata": {},
     "output_type": "execute_result"
    }
   ],
   "source": [
    "np.argsort(data)"
   ]
  },
  {
   "cell_type": "markdown",
   "metadata": {},
   "source": [
    "3.3 5-최근접 이웃 찾기:\n",
    "각 점에 대해 가장 가까운 5개의 점을 거리 순으로 정렬.\n",
    "자기 자신을 제외하고 가장 가까운 5개의 이웃.\n",
    "\n"
   ]
  },
  {
   "cell_type": "code",
   "execution_count": null,
   "metadata": {},
   "outputs": [],
   "source": []
  },
  {
   "cell_type": "markdown",
   "metadata": {},
   "source": [
    "3.4 결과 출력:\n",
    "각 점에 대해 가장 가까운 5개의 이웃의 좌표와 거리 제곱을 출력.\n",
    "\n"
   ]
  },
  {
   "cell_type": "code",
   "execution_count": null,
   "metadata": {},
   "outputs": [],
   "source": []
  },
  {
   "cell_type": "markdown",
   "metadata": {},
   "source": [
    "3.5 시각화:\n",
    "matplotlib를 사용하여 각 점과 해당 점의 5-최근접 이웃을 플롯.\n",
    "각 점은 scatter로 표시하고, 가까운 이웃과 연결하는 선을 추가하여 관계를 시각적으로 표현."
   ]
  },
  {
   "cell_type": "code",
   "execution_count": null,
   "metadata": {},
   "outputs": [],
   "source": []
  }
 ],
 "metadata": {
  "kernelspec": {
   "display_name": "torch-book",
   "language": "python",
   "name": "python3"
  },
  "language_info": {
   "codemirror_mode": {
    "name": "ipython",
    "version": 3
   },
   "file_extension": ".py",
   "mimetype": "text/x-python",
   "name": "python",
   "nbconvert_exporter": "python",
   "pygments_lexer": "ipython3",
   "version": "3.12.3"
  }
 },
 "nbformat": 4,
 "nbformat_minor": 2
}
