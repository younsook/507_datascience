{
 "cells": [
  {
   "cell_type": "markdown",
   "metadata": {},
   "source": [
    "# 과제: 100개의 임의 점 좌표에 대해 5-최근접 이웃 구하기 및 시각화\n",
    "\n",
    "## 과제 설명\n",
    "\n",
    "### 1. 목표: 100개의 임의의 2차원 좌표에 대해 각 점의 5-최근접 이웃을 찾아 시각화하는 프로그램을 작성.\n",
    "\n",
    "### 2. 조건:\n",
    "거리: 유클리드 거리 제곱을 사용하여 각 점 간의 거리를 계산.\n",
    "출력: 각 점에 대해 가장 가까운 5개의 이웃 좌표를 출력.\n",
    "시각화: 각 좌표와 해당 좌표에 가까운 5개의 이웃을 스캐터 플롯으로 시각화. (점마다 이웃 관계를 선으로 연결하여 표시)\n",
    "\n",
    "\n"
   ]
  },
  {
   "cell_type": "code",
   "execution_count": 1,
   "metadata": {},
   "outputs": [],
   "source": [
    "import numpy as np"
   ]
  },
  {
   "cell_type": "markdown",
   "metadata": {},
   "source": [
    "3. 단계별 요구 사항\n",
    "\n",
    "## 3.1 난수 좌표 생성:\n",
    "[0, 1) 범위에서 100개의 2차원 좌표를 생성.\n",
    "\n"
   ]
  },
  {
   "cell_type": "code",
   "execution_count": 2,
   "metadata": {},
   "outputs": [
    {
     "data": {
      "text/plain": [
       "((100,), (100,))"
      ]
     },
     "execution_count": 2,
     "metadata": {},
     "output_type": "execute_result"
    }
   ],
   "source": [
    "x = np.random.rand(100)\n",
    "y = np.random.rand(100)\n",
    "\n",
    "x.shape, y.shape"
   ]
  },
  {
   "cell_type": "code",
   "execution_count": 3,
   "metadata": {},
   "outputs": [
    {
     "data": {
      "text/plain": [
       "[(np.float64(0.6870696621378906), np.float64(0.864367828511901)),\n",
       " (np.float64(0.47543757417607513), np.float64(0.05747424243609234)),\n",
       " (np.float64(0.165873999230157), np.float64(0.8897767549757242)),\n",
       " (np.float64(0.6343741169244849), np.float64(0.5129909530001792)),\n",
       " (np.float64(0.12204854092010275), np.float64(0.1460216767881205)),\n",
       " (np.float64(0.19002611086216226), np.float64(0.20689504143365534)),\n",
       " (np.float64(0.5487944427985619), np.float64(0.05876165964999369)),\n",
       " (np.float64(0.04062868117312357), np.float64(0.4929631670926238)),\n",
       " (np.float64(0.5272334388614444), np.float64(0.7359715767521211)),\n",
       " (np.float64(0.42622221804523097), np.float64(0.34962536248345244)),\n",
       " (np.float64(0.3582950277443189), np.float64(0.7171525634000829)),\n",
       " (np.float64(0.014072309883756406), np.float64(0.8731712877042782)),\n",
       " (np.float64(0.43075239513265073), np.float64(0.6260438262540586)),\n",
       " (np.float64(0.4082638744081024), np.float64(0.6137705013946009)),\n",
       " (np.float64(0.5249106318766414), np.float64(0.6950365851992657)),\n",
       " (np.float64(0.7558422447895227), np.float64(0.05054244545401143)),\n",
       " (np.float64(0.07469886525975611), np.float64(0.6062300770013547)),\n",
       " (np.float64(0.7630733125315399), np.float64(0.8019186640524383)),\n",
       " (np.float64(0.41415556007905074), np.float64(0.9947329230545416)),\n",
       " (np.float64(0.35389268051321543), np.float64(0.14916427160711265)),\n",
       " (np.float64(0.7848285699966591), np.float64(0.48415828721394805)),\n",
       " (np.float64(0.37472470957177395), np.float64(0.11699946119714244)),\n",
       " (np.float64(0.9608280688756792), np.float64(0.13942102722256122)),\n",
       " (np.float64(0.7021993639698593), np.float64(0.7722265953620743)),\n",
       " (np.float64(0.39220485879689715), np.float64(0.09385853603467009)),\n",
       " (np.float64(0.6888836000464423), np.float64(0.07870767625852493)),\n",
       " (np.float64(0.3296408810695177), np.float64(0.47064902211455484)),\n",
       " (np.float64(0.80244505644051), np.float64(0.7852431305463284)),\n",
       " (np.float64(0.34452231493588337), np.float64(0.27239841998089176)),\n",
       " (np.float64(0.4259163697134931), np.float64(0.5325443090759546)),\n",
       " (np.float64(0.792393855342015), np.float64(0.5670651821335067)),\n",
       " (np.float64(0.39885221420857364), np.float64(0.3018737350703128)),\n",
       " (np.float64(0.597964289568016), np.float64(0.9884559223033061)),\n",
       " (np.float64(0.05550602807696092), np.float64(0.8539454122359651)),\n",
       " (np.float64(0.4111229639146994), np.float64(0.38883259834720996)),\n",
       " (np.float64(0.5868162352037295), np.float64(0.5216808381132748)),\n",
       " (np.float64(0.6659332747202868), np.float64(0.39431034650894115)),\n",
       " (np.float64(0.5296588654706763), np.float64(0.28478024032706395)),\n",
       " (np.float64(0.3251242296162712), np.float64(0.7105757423808878)),\n",
       " (np.float64(0.24638262685876267), np.float64(0.5114606387265088)),\n",
       " (np.float64(0.07836376568763459), np.float64(0.5212925292302903)),\n",
       " (np.float64(0.9930230910343304), np.float64(0.18105906850936804)),\n",
       " (np.float64(0.9124363641931871), np.float64(0.06620546992902321)),\n",
       " (np.float64(0.8841043560883982), np.float64(0.8010482159559166)),\n",
       " (np.float64(0.124525249560553), np.float64(0.8249197212370589)),\n",
       " (np.float64(0.23223006928412115), np.float64(0.9991700907176186)),\n",
       " (np.float64(0.3309543578381189), np.float64(0.8420441212468868)),\n",
       " (np.float64(0.5103982085692794), np.float64(0.6137197041021313)),\n",
       " (np.float64(0.763006385743933), np.float64(0.09509481771580497)),\n",
       " (np.float64(0.4778930148891135), np.float64(0.030795905092566134)),\n",
       " (np.float64(0.6248839930071717), np.float64(0.9279243702296491)),\n",
       " (np.float64(0.40212344162008784), np.float64(0.34512950648966456)),\n",
       " (np.float64(0.09077476244789418), np.float64(0.9621131170069386)),\n",
       " (np.float64(0.4011835966715088), np.float64(0.15099490458627707)),\n",
       " (np.float64(0.04543088433788245), np.float64(0.014261085964813569)),\n",
       " (np.float64(0.1641337452615017), np.float64(0.76777796150352)),\n",
       " (np.float64(0.20802919588232116), np.float64(0.6733090948819582)),\n",
       " (np.float64(0.24610615505970368), np.float64(0.7905752944616177)),\n",
       " (np.float64(0.8963927462718532), np.float64(0.7795938437854198)),\n",
       " (np.float64(0.49912220688250064), np.float64(0.6212346945742089)),\n",
       " (np.float64(0.30745258424786603), np.float64(0.9082111035466787)),\n",
       " (np.float64(0.5014095208216175), np.float64(0.7293287852758905)),\n",
       " (np.float64(0.716719182840258), np.float64(0.8626130284194529)),\n",
       " (np.float64(0.6645401507020328), np.float64(0.27161243237383437)),\n",
       " (np.float64(0.7566683616780686), np.float64(0.7318002987316129)),\n",
       " (np.float64(0.36237898248179723), np.float64(0.9943474905208135)),\n",
       " (np.float64(0.4006790342610659), np.float64(0.0070586075927066005)),\n",
       " (np.float64(0.6580370204731775), np.float64(0.033892299493445965)),\n",
       " (np.float64(0.3186396201464474), np.float64(0.49446356199516084)),\n",
       " (np.float64(0.7167472925550545), np.float64(0.924098359393672)),\n",
       " (np.float64(0.24775067885220414), np.float64(0.5911258304844176)),\n",
       " (np.float64(0.8931883184874011), np.float64(0.7803863705767478)),\n",
       " (np.float64(0.2117572129836507), np.float64(0.9983066043385741)),\n",
       " (np.float64(0.23211993183513546), np.float64(0.5279138774297988)),\n",
       " (np.float64(0.28254756753914967), np.float64(0.7622106191642024)),\n",
       " (np.float64(0.22960796222981095), np.float64(0.03969710929284598)),\n",
       " (np.float64(0.613273931025367), np.float64(0.24390269970814638)),\n",
       " (np.float64(0.981461723588133), np.float64(0.40418060076211026)),\n",
       " (np.float64(0.255478762823534), np.float64(0.9183855562648585)),\n",
       " (np.float64(0.33099876005809337), np.float64(0.3283075124132032)),\n",
       " (np.float64(0.26069312999530925), np.float64(0.5984362861424193)),\n",
       " (np.float64(0.9884833615773222), np.float64(0.06469033446485206)),\n",
       " (np.float64(0.2253553824274187), np.float64(0.783237696309881)),\n",
       " (np.float64(0.49368479816318855), np.float64(0.3421816588643972)),\n",
       " (np.float64(0.37662153685745947), np.float64(0.9241087762098396)),\n",
       " (np.float64(0.954183261368376), np.float64(0.8783730429611528)),\n",
       " (np.float64(0.4231992838618953), np.float64(0.870052551950021)),\n",
       " (np.float64(0.8630052397451882), np.float64(0.9068436827928076)),\n",
       " (np.float64(0.9078019260249819), np.float64(0.6594734333514356)),\n",
       " (np.float64(0.3516445245912929), np.float64(0.35291298397373916)),\n",
       " (np.float64(0.6182910887616782), np.float64(0.1120878032089897)),\n",
       " (np.float64(0.10223356504441994), np.float64(0.8038073079247007)),\n",
       " (np.float64(0.6528036812351583), np.float64(0.5272325209754166)),\n",
       " (np.float64(0.06030456361213221), np.float64(0.3920025615011249)),\n",
       " (np.float64(0.9137737380768676), np.float64(0.6960084654379981)),\n",
       " (np.float64(0.7132963825049506), np.float64(0.6135305441117489)),\n",
       " (np.float64(0.8539439209801051), np.float64(0.12698975617370623)),\n",
       " (np.float64(0.42401470804913466), np.float64(0.871805838339225)),\n",
       " (np.float64(0.9508529732698339), np.float64(0.982166582296241)),\n",
       " (np.float64(0.9416843509994178), np.float64(0.33087184400486247))]"
      ]
     },
     "execution_count": 3,
     "metadata": {},
     "output_type": "execute_result"
    }
   ],
   "source": [
    "points = list(zip(x, y))\n",
    "points"
   ]
  },
  {
   "cell_type": "code",
   "execution_count": 4,
   "metadata": {},
   "outputs": [
    {
     "data": {
      "text/plain": [
       "(100, 2)"
      ]
     },
     "execution_count": 4,
     "metadata": {},
     "output_type": "execute_result"
    }
   ],
   "source": [
    "points = np.concatenate([x[:,None], y[:, None]], axis=1)\n",
    "points.shape"
   ]
  },
  {
   "cell_type": "code",
   "execution_count": 5,
   "metadata": {},
   "outputs": [
    {
     "data": {
      "text/plain": [
       "(100, 2)"
      ]
     },
     "execution_count": 5,
     "metadata": {},
     "output_type": "execute_result"
    }
   ],
   "source": [
    "import numpy as np\n",
    "\n",
    "np.random.rand(100, 2).shape"
   ]
  },
  {
   "cell_type": "code",
   "execution_count": 6,
   "metadata": {},
   "outputs": [
    {
     "data": {
      "text/plain": [
       "((3,), array([1, 2, 3]))"
      ]
     },
     "execution_count": 6,
     "metadata": {},
     "output_type": "execute_result"
    }
   ],
   "source": [
    "A = np.arange(1, 4)\n",
    "A.shape, A"
   ]
  },
  {
   "cell_type": "code",
   "execution_count": 15,
   "metadata": {},
   "outputs": [
    {
     "data": {
      "text/plain": [
       "((3, 1),\n",
       " array([[1],\n",
       "        [2],\n",
       "        [3]]))"
      ]
     },
     "execution_count": 15,
     "metadata": {},
     "output_type": "execute_result"
    }
   ],
   "source": [
    "B = np.arange(1, 4)[:, None]\n",
    "B.shape, B"
   ]
  },
  {
   "cell_type": "code",
   "execution_count": null,
   "metadata": {},
   "outputs": [],
   "source": []
  },
  {
   "cell_type": "code",
   "execution_count": 16,
   "metadata": {},
   "outputs": [
    {
     "data": {
      "text/plain": [
       "array([[ 0,  1,  2],\n",
       "       [-1,  0,  1],\n",
       "       [-2, -1,  0]])"
      ]
     },
     "execution_count": 16,
     "metadata": {},
     "output_type": "execute_result"
    }
   ],
   "source": [
    "# A = (1, 3)\n",
    "# B = (3, 1)\n",
    "\n",
    "A - B"
   ]
  },
  {
   "cell_type": "code",
   "execution_count": 17,
   "metadata": {},
   "outputs": [
    {
     "data": {
      "text/plain": [
       "(100,)"
      ]
     },
     "execution_count": 17,
     "metadata": {},
     "output_type": "execute_result"
    }
   ],
   "source": [
    "x = np.random.rand(100)\n",
    "x.shape"
   ]
  },
  {
   "cell_type": "code",
   "execution_count": 18,
   "metadata": {},
   "outputs": [
    {
     "data": {
      "text/plain": [
       "(100, 1)"
      ]
     },
     "execution_count": 18,
     "metadata": {},
     "output_type": "execute_result"
    }
   ],
   "source": [
    "y = np.random.rand(100).reshape(100, 1)\n",
    "y.shape"
   ]
  },
  {
   "cell_type": "code",
   "execution_count": 19,
   "metadata": {},
   "outputs": [],
   "source": [
    "def f(x, y):\n",
    "    return np.sqrt((x - y)**2)"
   ]
  },
  {
   "cell_type": "code",
   "execution_count": 20,
   "metadata": {},
   "outputs": [
    {
     "data": {
      "text/plain": [
       "array([[1, 2, 3],\n",
       "       [1, 2, 3],\n",
       "       [1, 2, 3]])"
      ]
     },
     "execution_count": 20,
     "metadata": {},
     "output_type": "execute_result"
    }
   ],
   "source": [
    "np.broadcast_to(A, (3, 3))"
   ]
  },
  {
   "cell_type": "code",
   "execution_count": 21,
   "metadata": {},
   "outputs": [
    {
     "data": {
      "text/plain": [
       "array([[1, 1, 1],\n",
       "       [2, 2, 2],\n",
       "       [3, 3, 3]])"
      ]
     },
     "execution_count": 21,
     "metadata": {},
     "output_type": "execute_result"
    }
   ],
   "source": [
    "np.broadcast_to(B, (3, 3))"
   ]
  },
  {
   "cell_type": "code",
   "execution_count": 22,
   "metadata": {},
   "outputs": [],
   "source": [
    "points = np.random.rand(10, 2)"
   ]
  },
  {
   "cell_type": "code",
   "execution_count": 23,
   "metadata": {},
   "outputs": [
    {
     "data": {
      "text/plain": [
       "<matplotlib.collections.PathCollection at 0x1ed9ea58a50>"
      ]
     },
     "execution_count": 23,
     "metadata": {},
     "output_type": "execute_result"
    },
    {
     "data": {
      "image/png": "[encoded data removed]",
      "text/plain": [
       "<Figure size 640x480 with 1 Axes>"
      ]
     },
     "metadata": {},
     "output_type": "display_data"
    }
   ],
   "source": [
    "import matplotlib.pyplot as plt\n",
    "\n",
    "plt.scatter(points[:,0], points[:,1])"
   ]
  },
  {
   "cell_type": "markdown",
   "metadata": {},
   "source": [
    "## 3.2 거리 행렬 계산:\n",
    "\n",
    "각 점 간의 유클리드 거리 제곱을 계산하여 100x100 크기의 거리 행렬을 생성."
   ]
  },
  {
   "cell_type": "code",
   "execution_count": 24,
   "metadata": {},
   "outputs": [
    {
     "ename": "NameError",
     "evalue": "name 'data' is not defined",
     "output_type": "error",
     "traceback": [
      "\u001b[31m---------------------------------------------------------------------------\u001b[39m",
      "\u001b[31mNameError\u001b[39m                                 Traceback (most recent call last)",
      "\u001b[36mCell\u001b[39m\u001b[36m \u001b[39m\u001b[32mIn[24]\u001b[39m\u001b[32m, line 1\u001b[39m\n\u001b[32m----> \u001b[39m\u001b[32m1\u001b[39m \u001b[43mdata\u001b[49m.shoape, data\n",
      "\u001b[31mNameError\u001b[39m: name 'data' is not defined"
     ]
    }
   ],
   "source": [
    "data.shoape, data"
   ]
  },
  {
   "cell_type": "code",
   "execution_count": 8,
   "metadata": {},
   "outputs": [
    {
     "data": {
      "text/plain": [
       "((1, 10, 2), (10, 1, 2))"
      ]
     },
     "execution_count": 8,
     "metadata": {},
     "output_type": "execute_result"
    }
   ],
   "source": [
    "points = np.random.rand(10, 2)\n",
    "points[None, :, :].shape, points[:, None, :].shape"
   ]
  },
  {
   "cell_type": "code",
   "execution_count": 32,
   "metadata": {},
   "outputs": [
    {
     "data": {
      "text/plain": [
       "((10, 2), (10, 1, 2))"
      ]
     },
     "execution_count": 32,
     "metadata": {},
     "output_type": "execute_result"
    }
   ],
   "source": [
    "points = np.random.rand(10, 2)\n",
    "points.shape, points[:, None, :].shape"
   ]
  },
  {
   "cell_type": "code",
   "execution_count": 11,
   "metadata": {},
   "outputs": [
    {
     "data": {
      "text/plain": [
       "(10, 10, 2)"
      ]
     },
     "execution_count": 11,
     "metadata": {},
     "output_type": "execute_result"
    }
   ],
   "source": [
    "d = points - points[:, None, :]\n",
    "d.shape"
   ]
  },
  {
   "cell_type": "code",
   "execution_count": 12,
   "metadata": {},
   "outputs": [
    {
     "data": {
      "text/plain": [
       "(10, 10, 2)"
      ]
     },
     "execution_count": 12,
     "metadata": {},
     "output_type": "execute_result"
    }
   ],
   "source": [
    "d = (points - points[:, None, :])\n",
    "d.shape"
   ]
  },
  {
   "cell_type": "code",
   "execution_count": 31,
   "metadata": {},
   "outputs": [
    {
     "data": {
      "text/plain": [
       "array([[[0.        , 0.        , 0.        , ..., 0.        ,\n",
       "         0.        , 0.        ],\n",
       "        [0.63365741, 0.28971266, 0.16898179, ..., 0.15940231,\n",
       "         1.01216378, 0.57073368],\n",
       "        [0.01778668, 0.39906495, 0.57573562, ..., 0.1117889 ,\n",
       "         0.79222449, 0.33309272],\n",
       "        ...,\n",
       "        [0.30987145, 0.54170172, 0.22644241, ..., 0.2519884 ,\n",
       "         0.32021295, 0.92721125],\n",
       "        [0.61383859, 0.28515289, 0.20131695, ..., 0.33581106,\n",
       "         0.90951848, 0.96147457],\n",
       "        [0.52271895, 0.39241016, 0.69043158, ..., 0.51114262,\n",
       "         0.02030041, 0.50767092]],\n",
       "\n",
       "       [[0.63365741, 0.28971266, 0.16898179, ..., 0.15940231,\n",
       "         1.01216378, 0.57073368],\n",
       "        [0.        , 0.        , 0.        , ..., 0.        ,\n",
       "         0.        , 0.        ],\n",
       "        [0.6159842 , 0.1268113 , 0.55834516, ..., 0.05176512,\n",
       "         0.2222759 , 0.33760928],\n",
       "        ...,\n",
       "        [0.71242561, 0.75313137, 0.21851977, ..., 0.41012715,\n",
       "         0.74346633, 0.54481189],\n",
       "        [0.76294804, 0.44144593, 0.28400608, ..., 0.17654564,\n",
       "         0.28354662, 0.58981377],\n",
       "        [0.15428306, 0.24655826, 0.71902862, ..., 0.57389311,\n",
       "         1.02425617, 0.07326343]],\n",
       "\n",
       "       [[0.01778668, 0.39906495, 0.57573562, ..., 0.1117889 ,\n",
       "         0.79222449, 0.33309272],\n",
       "        [0.6159842 , 0.1268113 , 0.55834516, ..., 0.05176512,\n",
       "         0.2222759 , 0.33760928],\n",
       "        [0.        , 0.        , 0.        , ..., 0.        ,\n",
       "         0.        , 0.        ],\n",
       "        ...,\n",
       "        [0.30885367, 0.87991357, 0.76482316, ..., 0.36377443,\n",
       "         0.53796731, 0.84136966],\n",
       "        [0.61154695, 0.56810525, 0.40062161, ..., 0.22526966,\n",
       "         0.28886964, 0.88388545],\n",
       "        [0.50574313, 0.1915341 , 0.22119094, ..., 0.53536247,\n",
       "         0.80376516, 0.30773563]],\n",
       "\n",
       "       ...,\n",
       "\n",
       "       [[0.30987145, 0.54170172, 0.22644241, ..., 0.2519884 ,\n",
       "         0.32021295, 0.92721125],\n",
       "        [0.71242561, 0.75313137, 0.21851977, ..., 0.41012715,\n",
       "         0.74346633, 0.54481189],\n",
       "        [0.30885367, 0.87991357, 0.76482316, ..., 0.36377443,\n",
       "         0.53796731, 0.84136966],\n",
       "        ...,\n",
       "        [0.        , 0.        , 0.        , ..., 0.        ,\n",
       "         0.        , 0.        ],\n",
       "        [0.91829433, 0.31497029, 0.42411871, ..., 0.58656683,\n",
       "         0.59965919, 0.0453244 ],\n",
       "        [0.661391  , 0.92736964, 0.90448901, ..., 0.54590073,\n",
       "         0.3385367 , 0.54175073]],\n",
       "\n",
       "       [[0.61383859, 0.28515289, 0.20131695, ..., 0.33581106,\n",
       "         0.90951848, 0.96147457],\n",
       "        [0.76294804, 0.44144593, 0.28400608, ..., 0.17654564,\n",
       "         0.28354662, 0.58981377],\n",
       "        [0.61154695, 0.56810525, 0.40062161, ..., 0.22526966,\n",
       "         0.28886964, 0.88388545],\n",
       "        ...,\n",
       "        [0.91829433, 0.31497029, 0.42411871, ..., 0.58656683,\n",
       "         0.59965919, 0.0453244 ],\n",
       "        [0.        , 0.        , 0.        , ..., 0.        ,\n",
       "         0.        , 0.        ],\n",
       "        [0.61301124, 0.63608547, 0.49117405, ..., 0.67375857,\n",
       "         0.92558579, 0.58567778]],\n",
       "\n",
       "       [[0.52271895, 0.39241016, 0.69043158, ..., 0.51114262,\n",
       "         0.02030041, 0.50767092],\n",
       "        [0.15428306, 0.24655826, 0.71902862, ..., 0.57389311,\n",
       "         1.02425617, 0.07326343],\n",
       "        [0.50574313, 0.1915341 , 0.22119094, ..., 0.53536247,\n",
       "         0.80376516, 0.30773563],\n",
       "        ...,\n",
       "        [0.661391  , 0.92736964, 0.90448901, ..., 0.54590073,\n",
       "         0.3385367 , 0.54175073],\n",
       "        [0.61301124, 0.63608547, 0.49117405, ..., 0.67375857,\n",
       "         0.92558579, 0.58567778],\n",
       "        [0.        , 0.        , 0.        , ..., 0.        ,\n",
       "         0.        , 0.        ]]], shape=(10, 10, 21))"
      ]
     },
     "execution_count": 31,
     "metadata": {},
     "output_type": "execute_result"
    }
   ],
   "source": [
    "d = np.sqrt(np.sum((points - points[:, None, :])**2, axis=2))\n",
    "d"
   ]
  },
  {
   "cell_type": "code",
   "execution_count": 26,
   "metadata": {},
   "outputs": [
    {
     "data": {
      "text/plain": [
       "array([[0.        , 0.18313129, 0.72955092, 0.78022605, 0.58157016,\n",
       "        0.27843785, 0.6781972 , 1.14516425, 0.75305145, 0.33348647],\n",
       "       [0.18313129, 0.        , 0.8566377 , 0.71057713, 0.69458715,\n",
       "        0.25403355, 0.73847594, 1.11345262, 0.59750453, 0.41013285],\n",
       "       [0.72955092, 0.8566377 , 0.        , 0.8420341 , 0.17166906,\n",
       "        0.66729288, 0.33144528, 0.92168341, 1.14415398, 0.46196324],\n",
       "       [0.78022605, 0.71057713, 0.8420341 , 0.        , 0.7026927 ,\n",
       "        0.50195369, 0.51706914, 0.43343402, 0.44015499, 0.56584848],\n",
       "       [0.58157016, 0.69458715, 0.17166906, 0.7026927 , 0.        ,\n",
       "        0.49630921, 0.23126078, 0.84941277, 0.97796973, 0.29238377],\n",
       "       [0.27843785, 0.25403355, 0.66729288, 0.50195369, 0.49630921,\n",
       "        0.        , 0.49476628, 0.87557852, 0.54830059, 0.20697595],\n",
       "       [0.6781972 , 0.73847594, 0.33144528, 0.51706914, 0.23126078,\n",
       "        0.49476628, 0.        , 0.61815217, 0.86427862, 0.34480618],\n",
       "       [1.14516425, 1.11345262, 0.92168341, 0.43343402, 0.84941277,\n",
       "        0.87557852, 0.61815217, 0.        , 0.844765  , 0.85659899],\n",
       "       [0.75305145, 0.59750453, 1.14415398, 0.44015499, 0.97796973,\n",
       "        0.54830059, 0.86427862, 0.844765  , 0.        , 0.72963541],\n",
       "       [0.33348647, 0.41013285, 0.46196324, 0.56584848, 0.29238377,\n",
       "        0.20697595, 0.34480618, 0.85659899, 0.72963541, 0.        ]])"
      ]
     },
     "execution_count": 26,
     "metadata": {},
     "output_type": "execute_result"
    }
   ],
   "source": [
    "from sklearn.metrics import pairwise_distances\n",
    "\n",
    "points = np.random.rand(10, 2)\n",
    "pairwise_distances(points)"
   ]
  },
  {
   "cell_type": "code",
   "execution_count": 27,
   "metadata": {},
   "outputs": [
    {
     "data": {
      "text/plain": [
       "array([[0, 7, 5, 1, 3, 8, 6, 9, 2, 4],\n",
       "       [1, 9, 8, 2, 7, 4, 6, 5, 0, 3],\n",
       "       [2, 9, 1, 4, 8, 7, 6, 5, 0, 3],\n",
       "       [3, 5, 6, 0, 4, 9, 1, 7, 2, 8],\n",
       "       [4, 9, 2, 1, 6, 8, 5, 7, 3, 0],\n",
       "       [5, 6, 3, 4, 0, 1, 9, 7, 2, 8],\n",
       "       [6, 5, 3, 4, 9, 1, 2, 7, 8, 0],\n",
       "       [7, 8, 1, 9, 2, 0, 4, 5, 6, 3],\n",
       "       [8, 1, 7, 9, 2, 4, 5, 0, 6, 3],\n",
       "       [9, 2, 1, 8, 4, 7, 6, 5, 0, 3]])"
      ]
     },
     "execution_count": 27,
     "metadata": {},
     "output_type": "execute_result"
    }
   ],
   "source": [
    "np.argsort(d)"
   ]
  },
  {
   "cell_type": "code",
   "execution_count": 28,
   "metadata": {},
   "outputs": [
    {
     "data": {
      "text/plain": [
       "array([0.40859627, 0.72793476, 0.13994322, 0.15998201, 0.86774294,\n",
       "       0.83660394, 0.65453589, 0.33006728, 0.81362284, 0.35069831])"
      ]
     },
     "execution_count": 28,
     "metadata": {},
     "output_type": "execute_result"
    }
   ],
   "source": [
    "data = np.random.rand(10)\n",
    "data"
   ]
  },
  {
   "cell_type": "code",
   "execution_count": 29,
   "metadata": {},
   "outputs": [
    {
     "data": {
      "text/plain": [
       "array([2, 3, 7, 9, 0, 6, 1, 8, 5, 4])"
      ]
     },
     "execution_count": 29,
     "metadata": {},
     "output_type": "execute_result"
    }
   ],
   "source": [
    "np.argsort(data)"
   ]
  },
  {
   "cell_type": "markdown",
   "metadata": {},
   "source": [
    "3.3 5-최근접 이웃 찾기:\n",
    "각 점에 대해 가장 가까운 5개의 점을 거리 순으로 정렬.\n",
    "자기 자신을 제외하고 가장 가까운 5개의 이웃.\n",
    "\n"
   ]
  },
  {
   "cell_type": "code",
   "execution_count": null,
   "metadata": {},
   "outputs": [],
   "source": []
  },
  {
   "cell_type": "markdown",
   "metadata": {},
   "source": [
    "3.4 결과 출력:\n",
    "각 점에 대해 가장 가까운 5개의 이웃의 좌표와 거리 제곱을 출력.\n",
    "\n"
   ]
  },
  {
   "cell_type": "code",
   "execution_count": null,
   "metadata": {},
   "outputs": [],
   "source": []
  },
  {
   "cell_type": "markdown",
   "metadata": {},
   "source": [
    "3.5 시각화:\n",
    "matplotlib를 사용하여 각 점과 해당 점의 5-최근접 이웃을 플롯.\n",
    "각 점은 scatter로 표시하고, 가까운 이웃과 연결하는 선을 추가하여 관계를 시각적으로 표현."
   ]
  },
  {
   "cell_type": "code",
   "execution_count": null,
   "metadata": {},
   "outputs": [],
   "source": []
  }
 ],
 "metadata": {
  "kernelspec": {
   "display_name": "Python 3",
   "language": "python",
   "name": "python3"
  },
  "language_info": {
   "codemirror_mode": {
    "name": "ipython",
    "version": 3
   },
   "file_extension": ".py",
   "mimetype": "text/x-python",
   "name": "python",
   "nbconvert_exporter": "python",
   "pygments_lexer": "ipython3",
   "version": "3.13.4"
  }
 },
 "nbformat": 4,
 "nbformat_minor": 2
}
