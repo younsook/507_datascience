{
 "cells": [
  {
   "cell_type": "code",
   "execution_count": 9,
   "id": "d5c47905",
   "metadata": {},
   "outputs": [],
   "source": [
    "class Integer:\n",
    "    def __init__(self, x):\n",
    "        self.x = x\n",
    "\n",
    "    def __add__(self, other):\n",
    "        return self.x + other.x\n",
    "    \n",
    "    @staticmethod\n",
    "    def add(left, right):\n",
    "        return left.x + right.y\n",
    "    \n",
    "def add(a,b):\n",
    "    return a+b"
   ]
  },
  {
   "cell_type": "code",
   "execution_count": 10,
   "id": "9c4bf478",
   "metadata": {},
   "outputs": [
    {
     "ename": "AttributeError",
     "evalue": "'Integer' object has no attribute 'y'",
     "output_type": "error",
     "traceback": [
      "\u001b[31m---------------------------------------------------------------------------\u001b[39m",
      "\u001b[31mAttributeError\u001b[39m                            Traceback (most recent call last)",
      "\u001b[36mCell\u001b[39m\u001b[36m \u001b[39m\u001b[32mIn[10]\u001b[39m\u001b[32m, line 3\u001b[39m\n\u001b[32m      1\u001b[39m n1 = Integer(\u001b[32m1\u001b[39m)\n\u001b[32m      2\u001b[39m n2 = Integer(\u001b[32m2\u001b[39m)\n\u001b[32m----> \u001b[39m\u001b[32m3\u001b[39m n1+n2, \u001b[43mInteger\u001b[49m\u001b[43m.\u001b[49m\u001b[43madd\u001b[49m\u001b[43m(\u001b[49m\u001b[43mn1\u001b[49m\u001b[43m,\u001b[49m\u001b[43mn2\u001b[49m\u001b[43m)\u001b[49m\n",
      "\u001b[36mCell\u001b[39m\u001b[36m \u001b[39m\u001b[32mIn[9]\u001b[39m\u001b[32m, line 10\u001b[39m, in \u001b[36mInteger.add\u001b[39m\u001b[34m(left, right)\u001b[39m\n\u001b[32m      8\u001b[39m \u001b[38;5;129m@staticmethod\u001b[39m\n\u001b[32m      9\u001b[39m \u001b[38;5;28;01mdef\u001b[39;00m\u001b[38;5;250m \u001b[39m\u001b[34madd\u001b[39m(left, right):\n\u001b[32m---> \u001b[39m\u001b[32m10\u001b[39m     \u001b[38;5;28;01mreturn\u001b[39;00m left.x + \u001b[43mright\u001b[49m\u001b[43m.\u001b[49m\u001b[43my\u001b[49m\n",
      "\u001b[31mAttributeError\u001b[39m: 'Integer' object has no attribute 'y'"
     ]
    }
   ],
   "source": [
    "n1 = Integer(1)\n",
    "n2 = Integer(2)\n",
    "n1+n2, Integer.add(n1,n2)\n"
   ]
  },
  {
   "cell_type": "code",
   "execution_count": 7,
   "id": "5c41c216",
   "metadata": {},
   "outputs": [
    {
     "ename": "TypeError",
     "evalue": "Integer.add() missing 2 required positional arguments: 'left' and 'right'",
     "output_type": "error",
     "traceback": [
      "\u001b[31m---------------------------------------------------------------------------\u001b[39m",
      "\u001b[31mTypeError\u001b[39m                                 Traceback (most recent call last)",
      "\u001b[36mCell\u001b[39m\u001b[36m \u001b[39m\u001b[32mIn[7]\u001b[39m\u001b[32m, line 1\u001b[39m\n\u001b[32m----> \u001b[39m\u001b[32m1\u001b[39m \u001b[43mInteger\u001b[49m\u001b[43m.\u001b[49m\u001b[43madd\u001b[49m\u001b[43m(\u001b[49m\u001b[43m)\u001b[49m\n",
      "\u001b[31mTypeError\u001b[39m: Integer.add() missing 2 required positional arguments: 'left' and 'right'"
     ]
    }
   ],
   "source": [
    "Integer.add()"
   ]
  },
  {
   "cell_type": "code",
   "execution_count": 4,
   "id": "efb850e7",
   "metadata": {},
   "outputs": [],
   "source": [
    "import numpy as np\n",
    "import matplotlib.pyplot as plt\n"
   ]
  },
  {
   "cell_type": "code",
   "execution_count": 5,
   "id": "40922abe",
   "metadata": {},
   "outputs": [
    {
     "data": {
      "text/plain": [
       "[<matplotlib.lines.Line2D at 0x23442a796d0>]"
      ]
     },
     "execution_count": 5,
     "metadata": {},
     "output_type": "execute_result"
    },
    {
     "data": {
      "image/png": "[encoded data removed]",
      "text/plain": [
       "<Figure size 640x480 with 1 Axes>"
      ]
     },
     "metadata": {},
     "output_type": "display_data"
    }
   ],
   "source": [
    "def f(x):\n",
    "    return 2*x +1\n",
    "\n",
    "x = np.arange(-5,5)\n",
    "y = f(x)\n",
    "plt.plot(x,y)"
   ]
  },
  {
   "cell_type": "code",
   "execution_count": 11,
   "id": "2f34aa54",
   "metadata": {},
   "outputs": [
    {
     "data": {
      "text/plain": [
       "np.int64(55)"
      ]
     },
     "execution_count": 11,
     "metadata": {},
     "output_type": "execute_result"
    }
   ],
   "source": [
    "x = np.arange(1,11)\n",
    "np.sum(x)"
   ]
  },
  {
   "cell_type": "code",
   "execution_count": null,
   "id": "d7923a51",
   "metadata": {},
   "outputs": [],
   "source": [
    "import math"
   ]
  },
  {
   "cell_type": "code",
   "execution_count": 13,
   "id": "0e1ad2c6",
   "metadata": {},
   "outputs": [],
   "source": [
    "x = np.arange(1,11)\n",
    "out = np.cumsum(x) #누적 합(누계)"
   ]
  },
  {
   "cell_type": "code",
   "execution_count": null,
   "id": "74afce07",
   "metadata": {},
   "outputs": [
    {
     "data": {
      "text/plain": [
       "((10,), (10,))"
      ]
     },
     "execution_count": 14,
     "metadata": {},
     "output_type": "execute_result"
    }
   ],
   "source": [
    "x.shape, out.shape #NumPy 배열 x의 “형태(shape)”, 즉 배열의 차원 크기\n"
   ]
  },
  {
   "cell_type": "code",
   "execution_count": 15,
   "id": "acc0cac5",
   "metadata": {},
   "outputs": [
    {
     "data": {
      "text/plain": [
       "(10,)"
      ]
     },
     "execution_count": 15,
     "metadata": {},
     "output_type": "execute_result"
    }
   ],
   "source": [
    "(x+1).shape"
   ]
  },
  {
   "cell_type": "code",
   "execution_count": 16,
   "id": "83685dbd",
   "metadata": {},
   "outputs": [
    {
     "data": {
      "text/plain": [
       "array([ 2,  3,  4,  5,  6,  7,  8,  9, 10, 11])"
      ]
     },
     "execution_count": 16,
     "metadata": {},
     "output_type": "execute_result"
    }
   ],
   "source": [
    "x+1"
   ]
  },
  {
   "cell_type": "code",
   "execution_count": 18,
   "id": "79afe26e",
   "metadata": {},
   "outputs": [
    {
     "data": {
      "text/plain": [
       "(150, 4)"
      ]
     },
     "execution_count": 18,
     "metadata": {},
     "output_type": "execute_result"
    }
   ],
   "source": [
    "x = np.random.random((150,4))\n",
    "x.shape"
   ]
  },
  {
   "cell_type": "code",
   "execution_count": null,
   "id": "a70eafab",
   "metadata": {},
   "outputs": [
    {
     "data": {
      "text/plain": [
       "(4,)"
      ]
     },
     "execution_count": 21,
     "metadata": {},
     "output_type": "execute_result"
    }
   ],
   "source": [
    "np.sum(x, axis=0).shape #0은 세로방향 row방향. axis축"
   ]
  },
  {
   "cell_type": "code",
   "execution_count": 22,
   "id": "9715445a",
   "metadata": {},
   "outputs": [
    {
     "data": {
      "text/plain": [
       "(150,)"
      ]
     },
     "execution_count": 22,
     "metadata": {},
     "output_type": "execute_result"
    }
   ],
   "source": [
    "np.sum(x, axis=1).shape"
   ]
  },
  {
   "cell_type": "code",
   "execution_count": 23,
   "id": "8295560f",
   "metadata": {},
   "outputs": [
    {
     "data": {
      "text/plain": [
       "array([0.7, 0.2, 0.1])"
      ]
     },
     "execution_count": 23,
     "metadata": {},
     "output_type": "execute_result"
    }
   ],
   "source": [
    "p = np.array([0.7,0.2,0.1])\n",
    "p"
   ]
  },
  {
   "cell_type": "code",
   "execution_count": 24,
   "id": "e097e264",
   "metadata": {},
   "outputs": [
    {
     "data": {
      "text/plain": [
       "np.int64(0)"
      ]
     },
     "execution_count": 24,
     "metadata": {},
     "output_type": "execute_result"
    }
   ],
   "source": [
    "np.argmax(p)"
   ]
  },
  {
   "cell_type": "code",
   "execution_count": 25,
   "id": "ac3fe6e7",
   "metadata": {},
   "outputs": [],
   "source": [
    "labels = ['setosa', 'virginica', 'versicolor']"
   ]
  },
  {
   "cell_type": "code",
   "execution_count": 26,
   "id": "fc61a457",
   "metadata": {},
   "outputs": [
    {
     "data": {
      "text/plain": [
       "'setosa'"
      ]
     },
     "execution_count": 26,
     "metadata": {},
     "output_type": "execute_result"
    }
   ],
   "source": [
    "labels[np.argmax(p)]"
   ]
  },
  {
   "cell_type": "code",
   "execution_count": 30,
   "id": "1c90ab12",
   "metadata": {},
   "outputs": [
    {
     "data": {
      "text/plain": [
       "np.float64(3.6999999999999997)"
      ]
     },
     "execution_count": 30,
     "metadata": {},
     "output_type": "execute_result"
    }
   ],
   "source": [
    "x = np.arange(1,11)\n",
    "np.percentile(x,30)"
   ]
  },
  {
   "cell_type": "code",
   "execution_count": 31,
   "id": "86f7b584",
   "metadata": {},
   "outputs": [
    {
     "data": {
      "text/plain": [
       "array([ 1,  2,  3,  4,  5,  6,  7,  8,  9, 10])"
      ]
     },
     "execution_count": 31,
     "metadata": {},
     "output_type": "execute_result"
    }
   ],
   "source": [
    "x"
   ]
  },
  {
   "cell_type": "code",
   "execution_count": 32,
   "id": "55bd337d",
   "metadata": {},
   "outputs": [
    {
     "data": {
      "text/plain": [
       "np.float64(5.5)"
      ]
     },
     "execution_count": 32,
     "metadata": {},
     "output_type": "execute_result"
    }
   ],
   "source": [
    "np.median(x) #중앙값"
   ]
  },
  {
   "cell_type": "code",
   "execution_count": null,
   "id": "ce44ed05",
   "metadata": {},
   "outputs": [
    {
     "data": {
      "text/plain": [
       "array([1, 2, 3])"
      ]
     },
     "execution_count": 35,
     "metadata": {},
     "output_type": "execute_result"
    }
   ],
   "source": [
    "x [ x < np.percentile(x,30)]"
   ]
  },
  {
   "cell_type": "code",
   "execution_count": 39,
   "id": "46149127",
   "metadata": {},
   "outputs": [
    {
     "data": {
      "text/html": [
       "<div>\n",
       "<style scoped>\n",
       "    .dataframe tbody tr th:only-of-type {\n",
       "        vertical-align: middle;\n",
       "    }\n",
       "\n",
       "    .dataframe tbody tr th {\n",
       "        vertical-align: top;\n",
       "    }\n",
       "\n",
       "    .dataframe thead th {\n",
       "        text-align: right;\n",
       "    }\n",
       "</style>\n",
       "<table border=\"1\" class=\"dataframe\">\n",
       "  <thead>\n",
       "    <tr style=\"text-align: right;\">\n",
       "      <th></th>\n",
       "      <th>order</th>\n",
       "      <th>name</th>\n",
       "      <th>height(cm)</th>\n",
       "    </tr>\n",
       "  </thead>\n",
       "  <tbody>\n",
       "    <tr>\n",
       "      <th>0</th>\n",
       "      <td>1</td>\n",
       "      <td>George Washington</td>\n",
       "      <td>189</td>\n",
       "    </tr>\n",
       "    <tr>\n",
       "      <th>1</th>\n",
       "      <td>2</td>\n",
       "      <td>John Adams</td>\n",
       "      <td>170</td>\n",
       "    </tr>\n",
       "    <tr>\n",
       "      <th>2</th>\n",
       "      <td>3</td>\n",
       "      <td>Thomas Jefferson</td>\n",
       "      <td>189</td>\n",
       "    </tr>\n",
       "    <tr>\n",
       "      <th>3</th>\n",
       "      <td>4</td>\n",
       "      <td>James Madison</td>\n",
       "      <td>163</td>\n",
       "    </tr>\n",
       "    <tr>\n",
       "      <th>4</th>\n",
       "      <td>5</td>\n",
       "      <td>James Monroe</td>\n",
       "      <td>183</td>\n",
       "    </tr>\n",
       "  </tbody>\n",
       "</table>\n",
       "</div>"
      ],
      "text/plain": [
       "   order               name  height(cm)\n",
       "0      1  George Washington         189\n",
       "1      2         John Adams         170\n",
       "2      3   Thomas Jefferson         189\n",
       "3      4      James Madison         163\n",
       "4      5       James Monroe         183"
      ]
     },
     "execution_count": 39,
     "metadata": {},
     "output_type": "execute_result"
    }
   ],
   "source": [
    "import pandas as pd\n",
    "\n",
    "df = pd.read_csv('president_heights.csv')\n",
    "df.head() #df (데이터프레임)의 상위 5개 행(row) 을 출력"
   ]
  },
  {
   "cell_type": "code",
   "execution_count": 43,
   "id": "a22b07de",
   "metadata": {},
   "outputs": [
    {
     "ename": "TypeError",
     "evalue": "random() takes at most 1 positional argument (3 given)",
     "output_type": "error",
     "traceback": [
      "\u001b[31m---------------------------------------------------------------------------\u001b[39m",
      "\u001b[31mTypeError\u001b[39m                                 Traceback (most recent call last)",
      "\u001b[36mCell\u001b[39m\u001b[36m \u001b[39m\u001b[32mIn[43]\u001b[39m\u001b[32m, line 1\u001b[39m\n\u001b[32m----> \u001b[39m\u001b[32m1\u001b[39m hegiths = \u001b[43mnp\u001b[49m\u001b[43m.\u001b[49m\u001b[43mrandom\u001b[49m\u001b[43m.\u001b[49m\u001b[43mrandom\u001b[49m\u001b[43m(\u001b[49m\u001b[32;43m180\u001b[39;49m\u001b[43m,\u001b[49m\u001b[32;43m1\u001b[39;49m\u001b[43m,\u001b[49m\u001b[43m(\u001b[49m\u001b[32;43m42\u001b[39;49m\u001b[43m,\u001b[49m\u001b[32;43m1\u001b[39;49m\u001b[43m)\u001b[49m\u001b[43m)\u001b[49m\n\u001b[32m      2\u001b[39m hegiths.shape\n",
      "\u001b[36mFile \u001b[39m\u001b[32mnumpy/random/mtrand.pyx:443\u001b[39m, in \u001b[36mnumpy.random.mtrand.RandomState.random\u001b[39m\u001b[34m()\u001b[39m\n",
      "\u001b[31mTypeError\u001b[39m: random() takes at most 1 positional argument (3 given)"
     ]
    }
   ],
   "source": [
    "hegiths = np.random.random(180,1,(42,1))\n",
    "hegiths.shape"
   ]
  },
  {
   "cell_type": "code",
   "execution_count": 40,
   "id": "8f56be63",
   "metadata": {},
   "outputs": [
    {
     "data": {
      "text/plain": [
       "(array([4., 3., 3., 1., 3., 3., 6., 5., 5., 9.]),\n",
       " array([0.00902105, 0.1052579 , 0.20149475, 0.2977316 , 0.39396846,\n",
       "        0.49020531, 0.58644216, 0.68267902, 0.77891587, 0.87515272,\n",
       "        0.97138957]),\n",
       " <BarContainer object of 10 artists>)"
      ]
     },
     "execution_count": 40,
     "metadata": {},
     "output_type": "execute_result"
    },
    {
     "data": {
      "image/png": "[encoded data removed]",
      "text/plain": [
       "<Figure size 640x480 with 1 Axes>"
      ]
     },
     "metadata": {},
     "output_type": "display_data"
    }
   ],
   "source": [
    "plt.hist(hegiths)"
   ]
  },
  {
   "cell_type": "code",
   "execution_count": 44,
   "id": "a82cae2b",
   "metadata": {},
   "outputs": [
    {
     "name": "stderr",
     "output_type": "stream",
     "text": [
      "'head'��(��) ���� �Ǵ� �ܺ� ����, ������ �� �ִ� ���α׷�, �Ǵ�\n",
      "��ġ ������ �ƴմϴ�.\n"
     ]
    }
   ],
   "source": [
    "!head -4 president_heights.csv"
   ]
  },
  {
   "cell_type": "code",
   "execution_count": null,
   "id": "f0239c6f",
   "metadata": {},
   "outputs": [],
   "source": [
    "np.sqrt((poi))"
   ]
  },
  {
   "cell_type": "code",
   "execution_count": null,
   "id": "fe089c13",
   "metadata": {},
   "outputs": [],
   "source": [
    "1.브로드캐스팅\n",
    "2.마스크\n",
    "3.팬시 인덱스\n"
   ]
  },
  {
   "cell_type": "markdown",
   "id": "a136368a",
   "metadata": {},
   "source": [
    "1.브로드캐스팅"
   ]
  },
  {
   "cell_type": "code",
   "execution_count": 51,
   "id": "7efe7b9a",
   "metadata": {},
   "outputs": [
    {
     "data": {
      "text/plain": [
       "array([[1.62476549, 1.61005078, 1.65704281, 1.74805883],\n",
       "       [1.29628   , 1.04107503, 1.21993938, 1.58394677],\n",
       "       [1.92052491, 1.53008044, 1.5506404 , 1.22200367],\n",
       "       [1.12891364, 1.01592654, 1.92180197, 1.25361983],\n",
       "       [1.77126438, 1.43297642, 1.57585129, 1.18681697],\n",
       "       [1.44609378, 1.0604271 , 1.39138469, 1.30424952],\n",
       "       [1.06659485, 1.1975752 , 1.74993457, 1.13144965],\n",
       "       [1.41808224, 1.46794669, 1.85139746, 1.10645783],\n",
       "       [1.73510223, 1.00122586, 1.17321116, 1.84121122],\n",
       "       [1.00143734, 1.38562888, 1.62665219, 1.36887294],\n",
       "       [1.4551206 , 1.9057331 , 1.93030994, 1.08767619],\n",
       "       [1.34848879, 1.98170774, 1.32448952, 1.74707674],\n",
       "       [1.90483527, 1.90644323, 1.22161906, 1.17768101],\n",
       "       [1.01585153, 1.76257069, 1.49340448, 1.84197724],\n",
       "       [1.40814165, 1.81143843, 1.47986857, 1.13782553]])"
      ]
     },
     "execution_count": 51,
     "metadata": {},
     "output_type": "execute_result"
    }
   ],
   "source": [
    "x = np.random.rand(15,4)\n",
    "y = np.array([1])\n",
    "x+y"
   ]
  },
  {
   "cell_type": "code",
   "execution_count": 55,
   "id": "730d3005",
   "metadata": {},
   "outputs": [
    {
     "data": {
      "text/plain": [
       "((1, 1), (1, 1))"
      ]
     },
     "execution_count": 55,
     "metadata": {},
     "output_type": "execute_result"
    }
   ],
   "source": [
    "y.reshape(1,1).shape, y[None, :].shape"
   ]
  },
  {
   "cell_type": "code",
   "execution_count": null,
   "id": "f665060b",
   "metadata": {},
   "outputs": [],
   "source": [
    "new_y = y.reshape(1,1)\n",
    "new_y, new_y.shape"
   ]
  },
  {
   "cell_type": "code",
   "execution_count": 52,
   "id": "d9671592",
   "metadata": {},
   "outputs": [
    {
     "data": {
      "text/plain": [
       "(2, 1)"
      ]
     },
     "execution_count": 52,
     "metadata": {},
     "output_type": "execute_result"
    }
   ],
   "source": [
    "x.ndim, y.ndim"
   ]
  },
  {
   "cell_type": "code",
   "execution_count": 50,
   "id": "4cf684da",
   "metadata": {},
   "outputs": [
    {
     "data": {
      "text/plain": [
       "(array([ 2,  3,  4,  5,  6,  7,  8,  9, 10, 11]), array([2]))"
      ]
     },
     "execution_count": 50,
     "metadata": {},
     "output_type": "execute_result"
    }
   ],
   "source": [
    "x = np.arange(1,11)\n",
    "y = np.array([1])\n",
    "x+y, y+1"
   ]
  },
  {
   "cell_type": "code",
   "execution_count": 48,
   "id": "bdcfb634",
   "metadata": {},
   "outputs": [
    {
     "data": {
      "text/plain": [
       "((10,), (10,))"
      ]
     },
     "execution_count": 48,
     "metadata": {},
     "output_type": "execute_result"
    }
   ],
   "source": [
    "x.shape, y.shape"
   ]
  },
  {
   "cell_type": "code",
   "execution_count": null,
   "id": "3f4aab0e",
   "metadata": {},
   "outputs": [],
   "source": [
    "np.full((15,4), 1)"
   ]
  },
  {
   "cell_type": "code",
   "execution_count": 49,
   "id": "6198f22d",
   "metadata": {},
   "outputs": [
    {
     "data": {
      "text/plain": [
       "(1, 1)"
      ]
     },
     "execution_count": 49,
     "metadata": {},
     "output_type": "execute_result"
    }
   ],
   "source": [
    "x.ndim, y.ndim"
   ]
  },
  {
   "cell_type": "code",
   "execution_count": 47,
   "id": "5b64b7b2",
   "metadata": {},
   "outputs": [
    {
     "data": {
      "text/plain": [
       "array([1, 1, 1, 1, 1, 1, 1, 1, 1, 1])"
      ]
     },
     "execution_count": 47,
     "metadata": {},
     "output_type": "execute_result"
    }
   ],
   "source": [
    "y = np.full(10,1)\n",
    "y"
   ]
  },
  {
   "cell_type": "code",
   "execution_count": 46,
   "id": "4a55ec70",
   "metadata": {},
   "outputs": [
    {
     "data": {
      "text/plain": [
       "array([ 2,  3,  4,  5,  6,  7,  8,  9, 10, 11])"
      ]
     },
     "execution_count": 46,
     "metadata": {},
     "output_type": "execute_result"
    }
   ],
   "source": [
    "x+1"
   ]
  },
  {
   "cell_type": "code",
   "execution_count": 59,
   "id": "ca73573d",
   "metadata": {},
   "outputs": [],
   "source": [
    "# 셀 1: 초기 배열 생성\n",
    "import numpy as np\n",
    "\n",
    "M = np.ones((2,3))\n",
    "a = np.arange(3)\n",
    "\n",
    "M.shape = (2,3)\n",
    "a.shape = (3,)"
   ]
  },
  {
   "cell_type": "code",
   "execution_count": 60,
   "id": "f6223220",
   "metadata": {},
   "outputs": [
    {
     "name": "stdout",
     "output_type": "stream",
     "text": [
      "M:\n",
      " [[1. 1. 1.]\n",
      " [1. 1. 1.]]\n",
      "a:\n",
      " [0 1 2]\n",
      "M.shape: (2, 3)\n",
      "a.shape: (3,)\n"
     ]
    }
   ],
   "source": [
    "print(\"M:\\n\", M)\n",
    "print(\"a:\\n\", a)\n",
    "print(\"M.shape:\", M.shape)\n",
    "print(\"a.shape:\", a.shape)"
   ]
  },
  {
   "cell_type": "code",
   "execution_count": 61,
   "id": "a53137a5",
   "metadata": {},
   "outputs": [],
   "source": [
    "result = M+a"
   ]
  },
  {
   "cell_type": "code",
   "execution_count": 62,
   "id": "51c5b2d7",
   "metadata": {},
   "outputs": [
    {
     "name": "stdout",
     "output_type": "stream",
     "text": [
      "Result:\n",
      " [[1. 2. 3.]\n",
      " [1. 2. 3.]]\n",
      "Result.shape: (2, 3)\n"
     ]
    }
   ],
   "source": [
    "print(\"Result:\\n\", result)\n",
    "print(\"Result.shape:\", result.shape)"
   ]
  },
  {
   "cell_type": "code",
   "execution_count": null,
   "id": "664ea746",
   "metadata": {},
   "outputs": [
    {
     "ename": "SyntaxError",
     "evalue": "invalid syntax (3493186704.py, line 1)",
     "output_type": "error",
     "traceback": [
      "  \u001b[36mCell\u001b[39m\u001b[36m \u001b[39m\u001b[32mIn[58]\u001b[39m\u001b[32m, line 1\u001b[39m\n\u001b[31m    \u001b[39m\u001b[31mM.shape -> (2,3)\u001b[39m\n            ^\n\u001b[31mSyntaxError\u001b[39m\u001b[31m:\u001b[39m invalid syntax\n"
     ]
    }
   ],
   "source": [
    "규칙1에 따라 배열 a가 더작은 차원을 가지므로 왼쪽을 1로 채운다 \n",
    "M.shape -> (2,3)\n",
    "a.shape->(1,3)"
   ]
  },
  {
   "cell_type": "code",
   "execution_count": null,
   "id": "e46cf085",
   "metadata": {},
   "outputs": [],
   "source": [
    "규칙2에 따라 첫번째 차원이 일치하지 않으므로 이 차원이 일치하도록 늘린다.\n",
    "M.shap -> (2,3)\n",
    "a.shape -> (2,3)"
   ]
  },
  {
   "cell_type": "code",
   "execution_count": 63,
   "id": "9c53c56e",
   "metadata": {},
   "outputs": [
    {
     "data": {
      "text/plain": [
       "array([[ 0.18866571,  0.13599704,  0.11253965,  0.3654639 ],\n",
       "       [-0.13981978, -0.43297871, -0.32456379,  0.20135184],\n",
       "       [ 0.48442513,  0.0560267 ,  0.00613723, -0.16059126],\n",
       "       [-0.30718614, -0.4581272 ,  0.3772988 , -0.1289751 ],\n",
       "       [ 0.3351646 , -0.04107732,  0.03134812, -0.19577796],\n",
       "       [ 0.009994  , -0.41362664, -0.15311848, -0.07834541],\n",
       "       [-0.36950493, -0.27647854,  0.2054314 , -0.25114528],\n",
       "       [-0.01801754, -0.00610705,  0.3068943 , -0.2761371 ],\n",
       "       [ 0.29900245, -0.47282788, -0.37129201,  0.45861629],\n",
       "       [-0.43466244, -0.08842486,  0.08214902, -0.01372199],\n",
       "       [ 0.01902081,  0.43167936,  0.38580678, -0.29491874],\n",
       "       [-0.08761099,  0.507654  , -0.22001365,  0.36448181],\n",
       "       [ 0.46873549,  0.43238949, -0.3228841 , -0.20491392],\n",
       "       [-0.42024825,  0.28851695, -0.05109869,  0.45938231],\n",
       "       [-0.02795813,  0.33738469, -0.0646346 , -0.2447694 ]])"
      ]
     },
     "execution_count": 63,
     "metadata": {},
     "output_type": "execute_result"
    }
   ],
   "source": [
    "x - np.mean(x, axis=0)"
   ]
  },
  {
   "cell_type": "code",
   "execution_count": 64,
   "id": "b51d3583",
   "metadata": {},
   "outputs": [
    {
     "data": {
      "text/plain": [
       "((50,), (50,))"
      ]
     },
     "execution_count": 64,
     "metadata": {},
     "output_type": "execute_result"
    }
   ],
   "source": [
    "x = np.linspace(0,5,50)\n",
    "y = np.linspace(0,5,50)\n",
    "x.shape, y.shape"
   ]
  },
  {
   "cell_type": "code",
   "execution_count": 68,
   "id": "d65b407a",
   "metadata": {},
   "outputs": [
    {
     "data": {
      "text/plain": [
       "(50, 1)"
      ]
     },
     "execution_count": 68,
     "metadata": {},
     "output_type": "execute_result"
    }
   ],
   "source": [
    "y = y[:, None]\n",
    "y.shape"
   ]
  },
  {
   "cell_type": "code",
   "execution_count": 67,
   "id": "6319bf1b",
   "metadata": {},
   "outputs": [
    {
     "data": {
      "text/plain": [
       "(50,)"
      ]
     },
     "execution_count": 67,
     "metadata": {},
     "output_type": "execute_result"
    }
   ],
   "source": [
    "np.sin(x).shape"
   ]
  },
  {
   "cell_type": "code",
   "execution_count": 69,
   "id": "77b7438b",
   "metadata": {},
   "outputs": [
    {
     "data": {
      "text/plain": [
       "(50,)"
      ]
     },
     "execution_count": 69,
     "metadata": {},
     "output_type": "execute_result"
    }
   ],
   "source": [
    "np.sin(x**10).shape"
   ]
  },
  {
   "cell_type": "code",
   "execution_count": 70,
   "id": "1dc86a39",
   "metadata": {},
   "outputs": [
    {
     "data": {
      "text/plain": [
       "(50, 50)"
      ]
     },
     "execution_count": 70,
     "metadata": {},
     "output_type": "execute_result"
    }
   ],
   "source": [
    "(10+(x*y)).shape"
   ]
  },
  {
   "cell_type": "code",
   "execution_count": 71,
   "id": "1a778250",
   "metadata": {},
   "outputs": [
    {
     "data": {
      "text/plain": [
       "(50, 50)"
      ]
     },
     "execution_count": 71,
     "metadata": {},
     "output_type": "execute_result"
    }
   ],
   "source": [
    "np.cos(10+(x*y)).shape"
   ]
  },
  {
   "cell_type": "code",
   "execution_count": 73,
   "id": "7a5f9585",
   "metadata": {},
   "outputs": [],
   "source": [
    "z = np.sin(x) **10 + np.cos(10+y*x) * np.cos(x)"
   ]
  },
  {
   "cell_type": "code",
   "execution_count": 75,
   "id": "87230f61",
   "metadata": {},
   "outputs": [
    {
     "data": {
      "text/plain": [
       "(50,)"
      ]
     },
     "execution_count": 75,
     "metadata": {},
     "output_type": "execute_result"
    }
   ],
   "source": [
    "np.cos(x).shape"
   ]
  },
  {
   "cell_type": "code",
   "execution_count": 76,
   "id": "99ffab39",
   "metadata": {},
   "outputs": [
    {
     "data": {
      "text/plain": [
       "(50, 50)"
      ]
     },
     "execution_count": 76,
     "metadata": {},
     "output_type": "execute_result"
    }
   ],
   "source": [
    "z.shape"
   ]
  },
  {
   "cell_type": "markdown",
   "id": "e8b3e4c7",
   "metadata": {},
   "source": [
    "2.마스크"
   ]
  },
  {
   "cell_type": "code",
   "execution_count": 78,
   "id": "697b3266",
   "metadata": {},
   "outputs": [
    {
     "data": {
      "text/plain": [
       "array([ 1,  2,  3,  4,  5,  6,  7,  8,  9, 10])"
      ]
     },
     "execution_count": 78,
     "metadata": {},
     "output_type": "execute_result"
    }
   ],
   "source": [
    "x = np.arange(1,11)\n",
    "x"
   ]
  },
  {
   "cell_type": "code",
   "execution_count": 82,
   "id": "ad8bbafa",
   "metadata": {},
   "outputs": [
    {
     "data": {
      "text/plain": [
       "array([1, 2, 3, 4, 5])"
      ]
     },
     "execution_count": 82,
     "metadata": {},
     "output_type": "execute_result"
    }
   ],
   "source": [
    "mask = x < 6\n",
    "x[mask]"
   ]
  },
  {
   "cell_type": "code",
   "execution_count": 85,
   "id": "f922b237",
   "metadata": {},
   "outputs": [
    {
     "data": {
      "text/plain": [
       "array([ True,  True,  True,  True,  True, False, False, False, False,\n",
       "       False])"
      ]
     },
     "execution_count": 85,
     "metadata": {},
     "output_type": "execute_result"
    }
   ],
   "source": [
    "mask"
   ]
  },
  {
   "cell_type": "code",
   "execution_count": 84,
   "id": "84c6fb4a",
   "metadata": {},
   "outputs": [
    {
     "data": {
      "text/plain": [
       "np.int64(5)"
      ]
     },
     "execution_count": 84,
     "metadata": {},
     "output_type": "execute_result"
    }
   ],
   "source": [
    "np.sum(mask)"
   ]
  },
  {
   "cell_type": "code",
   "execution_count": 87,
   "id": "fa1d7087",
   "metadata": {},
   "outputs": [
    {
     "data": {
      "text/plain": [
       "array([7, 8, 9])"
      ]
     },
     "execution_count": 87,
     "metadata": {},
     "output_type": "execute_result"
    }
   ],
   "source": [
    "mask = (6 < x ) & (x < 10)\n",
    "x[mask]"
   ]
  },
  {
   "cell_type": "code",
   "execution_count": 88,
   "id": "834a74f9",
   "metadata": {},
   "outputs": [
    {
     "data": {
      "text/plain": [
       "array([[ 1,  2,  3,  4,  5],\n",
       "       [ 6,  7,  8,  9, 10]])"
      ]
     },
     "execution_count": 88,
     "metadata": {},
     "output_type": "execute_result"
    }
   ],
   "source": [
    "x = np.arange(1,11).reshape(2,5)\n",
    "x"
   ]
  },
  {
   "cell_type": "code",
   "execution_count": 90,
   "id": "49146bbe",
   "metadata": {},
   "outputs": [
    {
     "data": {
      "text/plain": [
       "array([[False, False, False, False, False],\n",
       "       [False,  True,  True,  True, False]])"
      ]
     },
     "execution_count": 90,
     "metadata": {},
     "output_type": "execute_result"
    }
   ],
   "source": [
    "mask"
   ]
  },
  {
   "cell_type": "code",
   "execution_count": 89,
   "id": "7d6a58fb",
   "metadata": {},
   "outputs": [
    {
     "data": {
      "text/plain": [
       "array([7, 8, 9])"
      ]
     },
     "execution_count": 89,
     "metadata": {},
     "output_type": "execute_result"
    }
   ],
   "source": [
    "mask = (6 < x ) & (x < 10)\n",
    "x[mask]"
   ]
  },
  {
   "cell_type": "markdown",
   "id": "7cad016a",
   "metadata": {},
   "source": [
    "3.팬시 인덱스"
   ]
  },
  {
   "cell_type": "code",
   "execution_count": 91,
   "id": "bd521c1f",
   "metadata": {},
   "outputs": [
    {
     "data": {
      "text/plain": [
       "array([ 1,  2,  3,  4,  5,  6,  7,  8,  9, 10])"
      ]
     },
     "execution_count": 91,
     "metadata": {},
     "output_type": "execute_result"
    }
   ],
   "source": [
    "x = np.arange(1,11)\n",
    "x"
   ]
  },
  {
   "cell_type": "code",
   "execution_count": 92,
   "id": "f677e9d4",
   "metadata": {},
   "outputs": [
    {
     "data": {
      "text/plain": [
       "array([3, 6, 8])"
      ]
     },
     "execution_count": 92,
     "metadata": {},
     "output_type": "execute_result"
    }
   ],
   "source": [
    "index = [2,5,7]\n",
    "x[index]"
   ]
  },
  {
   "cell_type": "markdown",
   "id": "f08d3143",
   "metadata": {},
   "source": [
    "91p"
   ]
  },
  {
   "cell_type": "code",
   "execution_count": 1,
   "id": "b79aba75",
   "metadata": {},
   "outputs": [],
   "source": [
    "mean = [0,0]\n",
    "cov = [[1,2],\n",
    "       [2,5]]"
   ]
  },
  {
   "cell_type": "code",
   "execution_count": 9,
   "id": "75496b06",
   "metadata": {},
   "outputs": [
    {
     "data": {
      "image/png": "[encoded data removed]",
      "text/plain": [
       "<Figure size 640x480 with 1 Axes>"
      ]
     },
     "metadata": {},
     "output_type": "display_data"
    }
   ],
   "source": [
    "import numpy as np\n",
    "import matplotlib.pyplot as plt\n",
    "\n",
    "def f(x, noise=0):\n",
    "    return 2*x +1 + noise\n",
    "\n",
    "x = np.linspace(0,10,101)\n",
    "noise = np.random.normal(0,3,len(x))\n",
    "y = f(x, noise)\n",
    "plt.scatter(x,y)\n",
    "plt.grid()"
   ]
  },
  {
   "cell_type": "code",
   "execution_count": 7,
   "id": "a6defdfd",
   "metadata": {},
   "outputs": [
    {
     "data": {
      "text/plain": [
       "array([17, 10, 39, 32, 73,  9,  3,  1, 95,  0, 83, 56, 38, 72, 36, 57, 53,\n",
       "       46, 51, 93], dtype=int32)"
      ]
     },
     "execution_count": 7,
     "metadata": {},
     "output_type": "execute_result"
    }
   ],
   "source": [
    "idx = np.random.choice(101, 20, replace=False)\n",
    "idx"
   ]
  },
  {
   "cell_type": "code",
   "execution_count": 11,
   "id": "0c08af24",
   "metadata": {},
   "outputs": [],
   "source": [
    "s = x[idx]"
   ]
  },
  {
   "cell_type": "code",
   "execution_count": 13,
   "id": "12dbaeb4",
   "metadata": {},
   "outputs": [
    {
     "data": {
      "image/png": "[encoded data removed]",
      "text/plain": [
       "<Figure size 640x480 with 1 Axes>"
      ]
     },
     "metadata": {},
     "output_type": "display_data"
    }
   ],
   "source": [
    "import numpy as np\n",
    "import matplotlib.pyplot as plt\n",
    "\n",
    "def f(x, noise=0):\n",
    "    return 2*x +1 + noise\n",
    "\n",
    "x = np.linspace(0,10,101)\n",
    "noise = np.random.normal(0,3,len(x))\n",
    "y = f(x, noise)\n",
    "s = y[idx]\n",
    "plt.scatter(x,y)\n",
    "plt.scatter(idx, s)\n",
    "plt.grid()"
   ]
  },
  {
   "cell_type": "code",
   "execution_count": 15,
   "id": "d14f02d7",
   "metadata": {},
   "outputs": [
    {
     "data": {
      "text/plain": [
       "array([ 1,  2,  3,  4,  5,  6,  7,  8,  9, 10])"
      ]
     },
     "execution_count": 15,
     "metadata": {},
     "output_type": "execute_result"
    }
   ],
   "source": [
    "x = np.arange(1,11)\n",
    "x"
   ]
  },
  {
   "cell_type": "code",
   "execution_count": 17,
   "id": "ce50461a",
   "metadata": {},
   "outputs": [
    {
     "data": {
      "text/plain": [
       "[2, 1, 8, 4]"
      ]
     },
     "execution_count": 17,
     "metadata": {},
     "output_type": "execute_result"
    }
   ],
   "source": [
    "i = [2,1,8,4]\n",
    "i"
   ]
  },
  {
   "cell_type": "code",
   "execution_count": 20,
   "id": "890047e7",
   "metadata": {},
   "outputs": [],
   "source": [
    "x[i] =99"
   ]
  },
  {
   "cell_type": "code",
   "execution_count": 21,
   "id": "6b839e72",
   "metadata": {},
   "outputs": [
    {
     "data": {
      "text/plain": [
       "array([ 1, 99, 99,  4, 99,  6,  7,  8, 99, 10])"
      ]
     },
     "execution_count": 21,
     "metadata": {},
     "output_type": "execute_result"
    }
   ],
   "source": [
    "x"
   ]
  },
  {
   "cell_type": "code",
   "execution_count": 24,
   "id": "3b404524",
   "metadata": {},
   "outputs": [
    {
     "data": {
      "text/plain": [
       "array([0., 0., 0., 0., 0., 0., 0., 0., 0., 0.])"
      ]
     },
     "execution_count": 24,
     "metadata": {},
     "output_type": "execute_result"
    }
   ],
   "source": [
    "x = np.zeros(10)\n",
    "x"
   ]
  },
  {
   "cell_type": "code",
   "execution_count": 28,
   "id": "9d1b4c81",
   "metadata": {},
   "outputs": [],
   "source": [
    "x[[0,0]] = [1,2]"
   ]
  },
  {
   "cell_type": "code",
   "execution_count": 29,
   "id": "d8ce2fb4",
   "metadata": {},
   "outputs": [
    {
     "data": {
      "text/plain": [
       "array([2., 0., 0., 0., 0., 0., 0., 0., 0., 0.])"
      ]
     },
     "execution_count": 29,
     "metadata": {},
     "output_type": "execute_result"
    }
   ],
   "source": [
    "x\n"
   ]
  },
  {
   "cell_type": "code",
   "execution_count": 45,
   "id": "e3799106",
   "metadata": {},
   "outputs": [],
   "source": [
    "x[i] += [1]"
   ]
  },
  {
   "cell_type": "code",
   "execution_count": 35,
   "id": "e6b53d26",
   "metadata": {},
   "outputs": [
    {
     "data": {
      "text/plain": [
       "[2, 1, 8, 4]"
      ]
     },
     "execution_count": 35,
     "metadata": {},
     "output_type": "execute_result"
    }
   ],
   "source": [
    "i = [2,1,8,4]\n",
    "i"
   ]
  },
  {
   "cell_type": "code",
   "execution_count": 46,
   "id": "e232dc58",
   "metadata": {},
   "outputs": [
    {
     "data": {
      "text/plain": [
       "array([2., 3., 3., 0., 3., 0., 2., 0., 3., 0.])"
      ]
     },
     "execution_count": 46,
     "metadata": {},
     "output_type": "execute_result"
    }
   ],
   "source": [
    "x"
   ]
  },
  {
   "cell_type": "code",
   "execution_count": 52,
   "id": "e1826bbe",
   "metadata": {},
   "outputs": [],
   "source": [
    "x[[6,6,6,6,6,6]] +=1"
   ]
  },
  {
   "cell_type": "code",
   "execution_count": 53,
   "id": "3012f1ef",
   "metadata": {},
   "outputs": [
    {
     "data": {
      "text/plain": [
       "array([2., 3., 3., 0., 3., 0., 5., 0., 3., 0.])"
      ]
     },
     "execution_count": 53,
     "metadata": {},
     "output_type": "execute_result"
    }
   ],
   "source": [
    "x"
   ]
  },
  {
   "cell_type": "code",
   "execution_count": 55,
   "id": "53a4ced8",
   "metadata": {},
   "outputs": [],
   "source": [
    "np.add.at(x,[6,6,6,6,6,6],1)"
   ]
  },
  {
   "cell_type": "code",
   "execution_count": 56,
   "id": "22ec7dad",
   "metadata": {},
   "outputs": [
    {
     "data": {
      "text/plain": [
       "array([ 2.,  3.,  3.,  0.,  3.,  0., 11.,  0.,  3.,  0.])"
      ]
     },
     "execution_count": 56,
     "metadata": {},
     "output_type": "execute_result"
    }
   ],
   "source": [
    "x"
   ]
  }
 ],
 "metadata": {
  "kernelspec": {
   "display_name": "Python 3",
   "language": "python",
   "name": "python3"
  },
  "language_info": {
   "codemirror_mode": {
    "name": "ipython",
    "version": 3
   },
   "file_extension": ".py",
   "mimetype": "text/x-python",
   "name": "python",
   "nbconvert_exporter": "python",
   "pygments_lexer": "ipython3",
   "version": "3.13.4"
  }
 },
 "nbformat": 4,
 "nbformat_minor": 5
}
