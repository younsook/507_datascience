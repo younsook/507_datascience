{
 "cells": [
  {
   "cell_type": "code",
   "execution_count": 1,
   "id": "0743b667",
   "metadata": {},
   "outputs": [],
   "source": [
    "numLog = [0, 1, 0, 10, 0, 1, 0, 10, 0, -1, -2, -1]"
   ]
  },
  {
   "cell_type": "code",
   "execution_count": 9,
   "id": "32d8b13f",
   "metadata": {},
   "outputs": [],
   "source": [
    "def solution(numLog):\n",
    "    answer = ''\n",
    "    for i in range(1,len(numLog)):\n",
    "        cho = numLog[i] - numLog[i-1]\n",
    "        if (cho == 1) :\n",
    "            answer += 'w'\n",
    "        elif (cho == -1) :\n",
    "            answer += 's'\n",
    "        elif (cho == 10) :\n",
    "            answer += 'd'\n",
    "        elif (cho == -10) :\n",
    "            answer += 'a'\n",
    "    return answer\n",
    "\n"
   ]
  },
  {
   "cell_type": "code",
   "execution_count": 10,
   "id": "1737df47",
   "metadata": {},
   "outputs": [
    {
     "name": "stdout",
     "output_type": "stream",
     "text": [
      "wsdawsdassw\n"
     ]
    }
   ],
   "source": [
    "print(solution([0, 1, 0, 10, 0, 1, 0, 10, 0, -1, -2, -1]))"
   ]
  }
 ],
 "metadata": {
  "kernelspec": {
   "display_name": "Python 3",
   "language": "python",
   "name": "python3"
  },
  "language_info": {
   "codemirror_mode": {
    "name": "ipython",
    "version": 3
   },
   "file_extension": ".py",
   "mimetype": "text/x-python",
   "name": "python",
   "nbconvert_exporter": "python",
   "pygments_lexer": "ipython3",
   "version": "3.13.4"
  }
 },
 "nbformat": 4,
 "nbformat_minor": 5
}
