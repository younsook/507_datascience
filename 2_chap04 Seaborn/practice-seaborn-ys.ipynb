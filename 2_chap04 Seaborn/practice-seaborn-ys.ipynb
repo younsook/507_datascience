{
 "cells": [
  {
   "cell_type": "markdown",
   "id": "435f3f77",
   "metadata": {},
   "source": [
    "# 타이타닉 생존자 예측을 위한 EDA"
   ]
  },
  {
   "cell_type": "code",
   "execution_count": 1,
   "id": "a868352c",
   "metadata": {},
   "outputs": [],
   "source": [
    "import numpy as np\n",
    "import pandas as pd\n",
    "import matplotlib.pyplot as plt"
   ]
  },
  {
   "cell_type": "code",
   "execution_count": 2,
   "id": "678aaa4a",
   "metadata": {},
   "outputs": [],
   "source": [
    "plt.rcParams[\"font.family\"] = \"Malgun Gothic\"\n",
    "plt.rcParams[\"axes.unicode_minus\"] = False"
   ]
  },
  {
   "cell_type": "code",
   "execution_count": 3,
   "id": "785e58db",
   "metadata": {},
   "outputs": [
    {
     "data": {
      "text/html": [
       "<div>\n",
       "<style scoped>\n",
       "    .dataframe tbody tr th:only-of-type {\n",
       "        vertical-align: middle;\n",
       "    }\n",
       "\n",
       "    .dataframe tbody tr th {\n",
       "        vertical-align: top;\n",
       "    }\n",
       "\n",
       "    .dataframe thead th {\n",
       "        text-align: right;\n",
       "    }\n",
       "</style>\n",
       "<table border=\"1\" class=\"dataframe\">\n",
       "  <thead>\n",
       "    <tr style=\"text-align: right;\">\n",
       "      <th></th>\n",
       "      <th>survived</th>\n",
       "      <th>pclass</th>\n",
       "      <th>sex</th>\n",
       "      <th>age</th>\n",
       "      <th>sibsp</th>\n",
       "      <th>parch</th>\n",
       "      <th>fare</th>\n",
       "      <th>embarked</th>\n",
       "      <th>class</th>\n",
       "      <th>who</th>\n",
       "      <th>adult_male</th>\n",
       "      <th>deck</th>\n",
       "      <th>embark_town</th>\n",
       "      <th>alive</th>\n",
       "      <th>alone</th>\n",
       "    </tr>\n",
       "  </thead>\n",
       "  <tbody>\n",
       "    <tr>\n",
       "      <th>0</th>\n",
       "      <td>0</td>\n",
       "      <td>3</td>\n",
       "      <td>male</td>\n",
       "      <td>22.0</td>\n",
       "      <td>1</td>\n",
       "      <td>0</td>\n",
       "      <td>7.2500</td>\n",
       "      <td>S</td>\n",
       "      <td>Third</td>\n",
       "      <td>man</td>\n",
       "      <td>True</td>\n",
       "      <td>NaN</td>\n",
       "      <td>Southampton</td>\n",
       "      <td>no</td>\n",
       "      <td>False</td>\n",
       "    </tr>\n",
       "    <tr>\n",
       "      <th>1</th>\n",
       "      <td>1</td>\n",
       "      <td>1</td>\n",
       "      <td>female</td>\n",
       "      <td>38.0</td>\n",
       "      <td>1</td>\n",
       "      <td>0</td>\n",
       "      <td>71.2833</td>\n",
       "      <td>C</td>\n",
       "      <td>First</td>\n",
       "      <td>woman</td>\n",
       "      <td>False</td>\n",
       "      <td>C</td>\n",
       "      <td>Cherbourg</td>\n",
       "      <td>yes</td>\n",
       "      <td>False</td>\n",
       "    </tr>\n",
       "    <tr>\n",
       "      <th>2</th>\n",
       "      <td>1</td>\n",
       "      <td>3</td>\n",
       "      <td>female</td>\n",
       "      <td>26.0</td>\n",
       "      <td>0</td>\n",
       "      <td>0</td>\n",
       "      <td>7.9250</td>\n",
       "      <td>S</td>\n",
       "      <td>Third</td>\n",
       "      <td>woman</td>\n",
       "      <td>False</td>\n",
       "      <td>NaN</td>\n",
       "      <td>Southampton</td>\n",
       "      <td>yes</td>\n",
       "      <td>True</td>\n",
       "    </tr>\n",
       "    <tr>\n",
       "      <th>3</th>\n",
       "      <td>1</td>\n",
       "      <td>1</td>\n",
       "      <td>female</td>\n",
       "      <td>35.0</td>\n",
       "      <td>1</td>\n",
       "      <td>0</td>\n",
       "      <td>53.1000</td>\n",
       "      <td>S</td>\n",
       "      <td>First</td>\n",
       "      <td>woman</td>\n",
       "      <td>False</td>\n",
       "      <td>C</td>\n",
       "      <td>Southampton</td>\n",
       "      <td>yes</td>\n",
       "      <td>False</td>\n",
       "    </tr>\n",
       "    <tr>\n",
       "      <th>4</th>\n",
       "      <td>0</td>\n",
       "      <td>3</td>\n",
       "      <td>male</td>\n",
       "      <td>35.0</td>\n",
       "      <td>0</td>\n",
       "      <td>0</td>\n",
       "      <td>8.0500</td>\n",
       "      <td>S</td>\n",
       "      <td>Third</td>\n",
       "      <td>man</td>\n",
       "      <td>True</td>\n",
       "      <td>NaN</td>\n",
       "      <td>Southampton</td>\n",
       "      <td>no</td>\n",
       "      <td>True</td>\n",
       "    </tr>\n",
       "  </tbody>\n",
       "</table>\n",
       "</div>"
      ],
      "text/plain": [
       "   survived  pclass     sex   age  sibsp  parch     fare embarked  class  \\\n",
       "0         0       3    male  22.0      1      0   7.2500        S  Third   \n",
       "1         1       1  female  38.0      1      0  71.2833        C  First   \n",
       "2         1       3  female  26.0      0      0   7.9250        S  Third   \n",
       "3         1       1  female  35.0      1      0  53.1000        S  First   \n",
       "4         0       3    male  35.0      0      0   8.0500        S  Third   \n",
       "\n",
       "     who  adult_male deck  embark_town alive  alone  \n",
       "0    man        True  NaN  Southampton    no  False  \n",
       "1  woman       False    C    Cherbourg   yes  False  \n",
       "2  woman       False  NaN  Southampton   yes   True  \n",
       "3  woman       False    C  Southampton   yes  False  \n",
       "4    man        True  NaN  Southampton    no   True  "
      ]
     },
     "execution_count": 3,
     "metadata": {},
     "output_type": "execute_result"
    }
   ],
   "source": [
    "import seaborn as sns\n",
    "df = sns.load_dataset(\"titanic\")\n",
    "df.head(5)"
   ]
  },
  {
   "cell_type": "code",
   "execution_count": 4,
   "id": "184475c6",
   "metadata": {},
   "outputs": [
    {
     "data": {
      "text/html": [
       "<div>\n",
       "<style scoped>\n",
       "    .dataframe tbody tr th:only-of-type {\n",
       "        vertical-align: middle;\n",
       "    }\n",
       "\n",
       "    .dataframe tbody tr th {\n",
       "        vertical-align: top;\n",
       "    }\n",
       "\n",
       "    .dataframe thead th {\n",
       "        text-align: right;\n",
       "    }\n",
       "</style>\n",
       "<table border=\"1\" class=\"dataframe\">\n",
       "  <thead>\n",
       "    <tr style=\"text-align: right;\">\n",
       "      <th></th>\n",
       "      <th>survived</th>\n",
       "      <th>pclass</th>\n",
       "      <th>age</th>\n",
       "      <th>sibsp</th>\n",
       "      <th>parch</th>\n",
       "      <th>fare</th>\n",
       "    </tr>\n",
       "  </thead>\n",
       "  <tbody>\n",
       "    <tr>\n",
       "      <th>count</th>\n",
       "      <td>891.000000</td>\n",
       "      <td>891.000000</td>\n",
       "      <td>714.000000</td>\n",
       "      <td>891.000000</td>\n",
       "      <td>891.000000</td>\n",
       "      <td>891.000000</td>\n",
       "    </tr>\n",
       "    <tr>\n",
       "      <th>mean</th>\n",
       "      <td>0.383838</td>\n",
       "      <td>2.308642</td>\n",
       "      <td>29.699118</td>\n",
       "      <td>0.523008</td>\n",
       "      <td>0.381594</td>\n",
       "      <td>32.204208</td>\n",
       "    </tr>\n",
       "    <tr>\n",
       "      <th>std</th>\n",
       "      <td>0.486592</td>\n",
       "      <td>0.836071</td>\n",
       "      <td>14.526497</td>\n",
       "      <td>1.102743</td>\n",
       "      <td>0.806057</td>\n",
       "      <td>49.693429</td>\n",
       "    </tr>\n",
       "    <tr>\n",
       "      <th>min</th>\n",
       "      <td>0.000000</td>\n",
       "      <td>1.000000</td>\n",
       "      <td>0.420000</td>\n",
       "      <td>0.000000</td>\n",
       "      <td>0.000000</td>\n",
       "      <td>0.000000</td>\n",
       "    </tr>\n",
       "    <tr>\n",
       "      <th>25%</th>\n",
       "      <td>0.000000</td>\n",
       "      <td>2.000000</td>\n",
       "      <td>20.125000</td>\n",
       "      <td>0.000000</td>\n",
       "      <td>0.000000</td>\n",
       "      <td>7.910400</td>\n",
       "    </tr>\n",
       "    <tr>\n",
       "      <th>50%</th>\n",
       "      <td>0.000000</td>\n",
       "      <td>3.000000</td>\n",
       "      <td>28.000000</td>\n",
       "      <td>0.000000</td>\n",
       "      <td>0.000000</td>\n",
       "      <td>14.454200</td>\n",
       "    </tr>\n",
       "    <tr>\n",
       "      <th>75%</th>\n",
       "      <td>1.000000</td>\n",
       "      <td>3.000000</td>\n",
       "      <td>38.000000</td>\n",
       "      <td>1.000000</td>\n",
       "      <td>0.000000</td>\n",
       "      <td>31.000000</td>\n",
       "    </tr>\n",
       "    <tr>\n",
       "      <th>max</th>\n",
       "      <td>1.000000</td>\n",
       "      <td>3.000000</td>\n",
       "      <td>80.000000</td>\n",
       "      <td>8.000000</td>\n",
       "      <td>6.000000</td>\n",
       "      <td>512.329200</td>\n",
       "    </tr>\n",
       "  </tbody>\n",
       "</table>\n",
       "</div>"
      ],
      "text/plain": [
       "         survived      pclass         age       sibsp       parch        fare\n",
       "count  891.000000  891.000000  714.000000  891.000000  891.000000  891.000000\n",
       "mean     0.383838    2.308642   29.699118    0.523008    0.381594   32.204208\n",
       "std      0.486592    0.836071   14.526497    1.102743    0.806057   49.693429\n",
       "min      0.000000    1.000000    0.420000    0.000000    0.000000    0.000000\n",
       "25%      0.000000    2.000000   20.125000    0.000000    0.000000    7.910400\n",
       "50%      0.000000    3.000000   28.000000    0.000000    0.000000   14.454200\n",
       "75%      1.000000    3.000000   38.000000    1.000000    0.000000   31.000000\n",
       "max      1.000000    3.000000   80.000000    8.000000    6.000000  512.329200"
      ]
     },
     "execution_count": 4,
     "metadata": {},
     "output_type": "execute_result"
    }
   ],
   "source": [
    "df.describe()"
   ]
  },
  {
   "cell_type": "code",
   "execution_count": 5,
   "id": "91d11018",
   "metadata": {},
   "outputs": [
    {
     "name": "stdout",
     "output_type": "stream",
     "text": [
      "<class 'pandas.core.frame.DataFrame'>\n",
      "RangeIndex: 891 entries, 0 to 890\n",
      "Data columns (total 15 columns):\n",
      " #   Column       Non-Null Count  Dtype   \n",
      "---  ------       --------------  -----   \n",
      " 0   survived     891 non-null    int64   \n",
      " 1   pclass       891 non-null    int64   \n",
      " 2   sex          891 non-null    object  \n",
      " 3   age          714 non-null    float64 \n",
      " 4   sibsp        891 non-null    int64   \n",
      " 5   parch        891 non-null    int64   \n",
      " 6   fare         891 non-null    float64 \n",
      " 7   embarked     889 non-null    object  \n",
      " 8   class        891 non-null    category\n",
      " 9   who          891 non-null    object  \n",
      " 10  adult_male   891 non-null    bool    \n",
      " 11  deck         203 non-null    category\n",
      " 12  embark_town  889 non-null    object  \n",
      " 13  alive        891 non-null    object  \n",
      " 14  alone        891 non-null    bool    \n",
      "dtypes: bool(2), category(2), float64(2), int64(4), object(5)\n",
      "memory usage: 80.7+ KB\n"
     ]
    }
   ],
   "source": [
    "df.info()"
   ]
  },
  {
   "cell_type": "code",
   "execution_count": 6,
   "id": "f61a3319",
   "metadata": {},
   "outputs": [
    {
     "data": {
      "text/plain": [
       "survived        0.000000\n",
       "pclass          0.000000\n",
       "sex             0.000000\n",
       "age            19.865320\n",
       "sibsp           0.000000\n",
       "parch           0.000000\n",
       "fare            0.000000\n",
       "embarked        0.224467\n",
       "class           0.000000\n",
       "who             0.000000\n",
       "adult_male      0.000000\n",
       "deck           77.216611\n",
       "embark_town     0.224467\n",
       "alive           0.000000\n",
       "alone           0.000000\n",
       "dtype: float64"
      ]
     },
     "execution_count": 6,
     "metadata": {},
     "output_type": "execute_result"
    }
   ],
   "source": [
    "missing_values = df.isnull().sum()\n",
    "missing_percent = (missing_values / len(df)) * 100\n",
    "missing_percent"
   ]
  },
  {
   "cell_type": "code",
   "execution_count": 7,
   "id": "5583329f",
   "metadata": {},
   "outputs": [
    {
     "data": {
      "text/plain": [
       "0      S\n",
       "1      C\n",
       "2      S\n",
       "3      S\n",
       "4      S\n",
       "      ..\n",
       "886    S\n",
       "887    S\n",
       "888    S\n",
       "889    C\n",
       "890    Q\n",
       "Name: embarked, Length: 891, dtype: object"
      ]
     },
     "execution_count": 7,
     "metadata": {},
     "output_type": "execute_result"
    }
   ],
   "source": [
    "# TODO: Pandas 경고는 수정해야 됨\n",
    "#df[\"age\"] --> select  age from df \n",
    "#df[\"age\"].fillna(df[\"age\"].mean(), inplace=True) # age fillna 채울께, 평균으로 이것은 원본 inplace=True이야\n",
    "#데이터분석에서는 원본데이터는 손대지 않는다.\n",
    "df[\"age\"].fillna(df[\"age\"].mean())\n",
    "#df[\"embarked\"].fillna(df[\"embarked\"].mode()[0], inplace=True)\n",
    "df[\"embarked\"].fillna(df[\"embarked\"].mode()[0])"
   ]
  },
  {
   "cell_type": "markdown",
   "id": "9856ef59",
   "metadata": {},
   "source": [
    "## 생존자 현황"
   ]
  },
  {
   "cell_type": "code",
   "execution_count": 8,
   "id": "bd379be3",
   "metadata": {},
   "outputs": [
    {
     "name": "stdout",
     "output_type": "stream",
     "text": [
      "생존자: 342명\n",
      "사망자: 549명\n",
      "생존율: 38.38%\n"
     ]
    }
   ],
   "source": [
    "survived_count = df[\"survived\"].value_counts()\n",
    "survived_rate = df[\"survived\"].mean()\n",
    "print(f\"생존자: {survived_count[1]}명\")\n",
    "print(f\"사망자: {survived_count[0]}명\")\n",
    "print(f\"생존율: {survived_rate:.2%}\")"
   ]
  },
  {
   "cell_type": "code",
   "execution_count": 9,
   "id": "5d4d7417",
   "metadata": {},
   "outputs": [
    {
     "name": "stdout",
     "output_type": "stream",
     "text": [
      "Index(['survived', 'pclass', 'sex', 'age', 'sibsp', 'parch', 'fare',\n",
      "       'embarked', 'class', 'who', 'adult_male', 'deck', 'embark_town',\n",
      "       'alive', 'alone'],\n",
      "      dtype='object')\n"
     ]
    }
   ],
   "source": [
    "import seaborn as sns\n",
    "import matplotlib.pyplot as plt\n",
    "print(df.columns)"
   ]
  },
  {
   "cell_type": "markdown",
   "id": "cfaf0a44",
   "metadata": {},
   "source": [
    "## 1. 성별에 따른 생존율 분석"
   ]
  },
  {
   "cell_type": "code",
   "execution_count": 10,
   "id": "856494f1",
   "metadata": {},
   "outputs": [
    {
     "data": {
      "image/png": "[encoded data removed]",
      "text/plain": [
       "<Figure size 1500x500 with 2 Axes>"
      ]
     },
     "metadata": {},
     "output_type": "display_data"
    }
   ],
   "source": [
    "fig, axes = plt.subplots(1,2, figsize=(15,5))\n",
    "#성별에 따른 생존자 수\n",
    "sns.countplot(data=df, x='sex', hue=\"survived\", ax=axes[0])\n",
    "axes[0].set_title(\"성별에 따른 생존자 수\")\n",
    "axes[0].set_xlabel(\"성별\")\n",
    "axes[0].set_ylabel(\"승객 수\")\n",
    "axes[0].legend(labels=[\"사망\", \"생존\"])\n",
    "\n",
    "#성별 생존율\n",
    "sex_survived = df.groupby(\"sex\")[\"survived\"].mean().reset_index()\n",
    "sns.barplot(data=sex_survived , x=\"sex\", y=\"survived\", ax=axes[1], \n",
    "            hue=\"survived\", palette=[\"lightblue\", \"pink\"])\n",
    "axes[1].set_title(\"성별에 따른 생존율\")\n",
    "axes[1].set_xlabel(\"성별\")\n",
    "axes[1].set_ylabel(\"생존율\")\n",
    "axes[1].legend(labels=[\"사망\", \"생존\"])\n",
    "axes[1].set_ylim(0,1)\n",
    "#데이터분석은 숫자보가 율이 더 중요하게 본다\n",
    "plt.tight_layout()\n",
    "plt.show()"
   ]
  },
  {
   "cell_type": "code",
   "execution_count": 11,
   "id": "1b143206",
   "metadata": {},
   "outputs": [
    {
     "data": {
      "text/plain": [
       "<Axes: xlabel='sex', ylabel='count'>"
      ]
     },
     "execution_count": 11,
     "metadata": {},
     "output_type": "execute_result"
    },
    {
     "data": {
      "image/png": "[encoded data removed]",
      "text/plain": [
       "<Figure size 640x480 with 1 Axes>"
      ]
     },
     "metadata": {},
     "output_type": "display_data"
    }
   ],
   "source": [
    "sns.countplot(data=df, x='sex', hue=\"survived\")\n",
    "#df에서 set 컬럼을 x축에, survived 값을 그룹별로 나눠 막대그래프를 그리겠다는 의미"
   ]
  },
  {
   "cell_type": "code",
   "execution_count": 12,
   "id": "f0601f2a",
   "metadata": {},
   "outputs": [
    {
     "data": {
      "text/html": [
       "<div>\n",
       "<style scoped>\n",
       "    .dataframe tbody tr th:only-of-type {\n",
       "        vertical-align: middle;\n",
       "    }\n",
       "\n",
       "    .dataframe tbody tr th {\n",
       "        vertical-align: top;\n",
       "    }\n",
       "\n",
       "    .dataframe thead th {\n",
       "        text-align: right;\n",
       "    }\n",
       "</style>\n",
       "<table border=\"1\" class=\"dataframe\">\n",
       "  <thead>\n",
       "    <tr style=\"text-align: right;\">\n",
       "      <th>survived</th>\n",
       "      <th>0</th>\n",
       "      <th>1</th>\n",
       "    </tr>\n",
       "    <tr>\n",
       "      <th>sex</th>\n",
       "      <th></th>\n",
       "      <th></th>\n",
       "    </tr>\n",
       "  </thead>\n",
       "  <tbody>\n",
       "    <tr>\n",
       "      <th>female</th>\n",
       "      <td>81</td>\n",
       "      <td>233</td>\n",
       "    </tr>\n",
       "    <tr>\n",
       "      <th>male</th>\n",
       "      <td>468</td>\n",
       "      <td>109</td>\n",
       "    </tr>\n",
       "  </tbody>\n",
       "</table>\n",
       "</div>"
      ],
      "text/plain": [
       "survived    0    1\n",
       "sex               \n",
       "female     81  233\n",
       "male      468  109"
      ]
     },
     "execution_count": 12,
     "metadata": {},
     "output_type": "execute_result"
    }
   ],
   "source": [
    "#판다스 약속: 인덱스는 무조건 x로 설정한다. \n",
    "gender_survival_counts = pd.crosstab(df[\"sex\"], df[\"survived\"])\n",
    "gender_survival_counts"
   ]
  },
  {
   "cell_type": "code",
   "execution_count": 13,
   "id": "9e9f30fd",
   "metadata": {},
   "outputs": [
    {
     "data": {
      "text/plain": [
       "<Axes: xlabel='sex'>"
      ]
     },
     "execution_count": 13,
     "metadata": {},
     "output_type": "execute_result"
    },
    {
     "data": {
      "image/png": "[encoded data removed]",
      "text/plain": [
       "<Figure size 640x480 with 1 Axes>"
      ]
     },
     "metadata": {},
     "output_type": "display_data"
    }
   ],
   "source": [
    "gender_survival_counts = pd.crosstab(df[\"sex\"], df[\"survived\"])\n",
    "gender_survival_counts.plot(kind=\"bar\", color=[\"red\", \"green\"])"
   ]
  },
  {
   "cell_type": "markdown",
   "id": "2e1bcb4e",
   "metadata": {},
   "source": [
    "## 2.승객 등급에 따른 생존율\n",
    "* 등급별 생존자 수 \n",
    "* 등급별 생존율\n",
    "* 등급과 성별 교차표"
   ]
  },
  {
   "cell_type": "code",
   "execution_count": 14,
   "id": "e96d8db4",
   "metadata": {},
   "outputs": [
    {
     "data": {
      "text/plain": [
       "<Axes: xlabel='sex', ylabel='pclass'>"
      ]
     },
     "execution_count": 14,
     "metadata": {},
     "output_type": "execute_result"
    },
    {
     "data": {
      "image/png": "[encoded data removed]",
      "text/plain": [
       "<Figure size 1500x500 with 4 Axes>"
      ]
     },
     "metadata": {},
     "output_type": "display_data"
    }
   ],
   "source": [
    "## 승객 등급에 따른 생존율\n",
    "fig, axes = plt.subplots(1,3, figsize=(15,5))\n",
    "# 등급별 생존자 수\n",
    "sns.countplot(data=df, x='pclass', hue=\"survived\", ax=axes[0])\n",
    "axes[0].set_title(\"등급별 따른 생존자 수\")\n",
    "axes[0].set_xlabel(\"승객 등급\")\n",
    "axes[0].set_ylabel(\"승객 수\")\n",
    "axes[0].legend(labels=[\"사망\", \"생존\"])\n",
    "\n",
    "#등급 생존율 히트맵 groupby crosstab\n",
    "#히트맵은 거의 사용안함. 색을 설명해야해서\n",
    "pclass_survived = df.groupby(\"pclass\")[\"survived\"].mean().reset_index()\n",
    "sns.barplot(data=pclass_survived , x=\"pclass\", y=\"survived\", ax=axes[1], \n",
    "           color=\"skyblue\")\n",
    "axes[1].set_title(\"등급별 따른 생존율\")\n",
    "axes[1].set_xlabel(\"승객 등급\")\n",
    "axes[1].set_ylabel(\"생존율\")\n",
    "axes[1].legend(labels=[\"사망\", \"생존\"])\n",
    "axes[1].set_ylim(0,1)\n",
    "\n",
    "cross_tab = pd.crosstab(df[\"pclass\"], df[\"sex\"], values=df[\"survived\"], aggfunc=\"mean\")\n",
    "sns.heatmap(cross_tab, annot=True, fmt=\".2f\", \n",
    "            cmap=\"RdYlBu_r\", cbar_kws={\"label\":\"생존율\"},ax=axes[2]) #annot=True 숫자표시됨.\n"
   ]
  },
  {
   "cell_type": "code",
   "execution_count": 15,
   "id": "21bcd193",
   "metadata": {},
   "outputs": [
    {
     "data": {
      "text/html": [
       "<div>\n",
       "<style scoped>\n",
       "    .dataframe tbody tr th:only-of-type {\n",
       "        vertical-align: middle;\n",
       "    }\n",
       "\n",
       "    .dataframe tbody tr th {\n",
       "        vertical-align: top;\n",
       "    }\n",
       "\n",
       "    .dataframe thead th {\n",
       "        text-align: right;\n",
       "    }\n",
       "</style>\n",
       "<table border=\"1\" class=\"dataframe\">\n",
       "  <thead>\n",
       "    <tr style=\"text-align: right;\">\n",
       "      <th>sex</th>\n",
       "      <th>female</th>\n",
       "      <th>male</th>\n",
       "    </tr>\n",
       "    <tr>\n",
       "      <th>pclass</th>\n",
       "      <th></th>\n",
       "      <th></th>\n",
       "    </tr>\n",
       "  </thead>\n",
       "  <tbody>\n",
       "    <tr>\n",
       "      <th>1</th>\n",
       "      <td>0.968085</td>\n",
       "      <td>0.368852</td>\n",
       "    </tr>\n",
       "    <tr>\n",
       "      <th>2</th>\n",
       "      <td>0.921053</td>\n",
       "      <td>0.157407</td>\n",
       "    </tr>\n",
       "    <tr>\n",
       "      <th>3</th>\n",
       "      <td>0.500000</td>\n",
       "      <td>0.135447</td>\n",
       "    </tr>\n",
       "  </tbody>\n",
       "</table>\n",
       "</div>"
      ],
      "text/plain": [
       "sex       female      male\n",
       "pclass                    \n",
       "1       0.968085  0.368852\n",
       "2       0.921053  0.157407\n",
       "3       0.500000  0.135447"
      ]
     },
     "execution_count": 15,
     "metadata": {},
     "output_type": "execute_result"
    }
   ],
   "source": [
    "pd.crosstab(df[\"pclass\"], df[\"sex\"], values=df[\"survived\"], aggfunc=\"mean\")\n",
    "#pclass 별로 성별을 나눠서 ...의 평균을 구한다."
   ]
  },
  {
   "cell_type": "markdown",
   "id": "d3f7bb15",
   "metadata": {},
   "source": [
    "## 3.나이에 따른 생존율 분석\n",
    "\n",
    "* 성별과 나이\n",
    "전체 나이 분포\n",
    "그룹별\n",
    "생존 여부에 따른 나이 분포"
   ]
  },
  {
   "cell_type": "code",
   "execution_count": 16,
   "id": "789585f4",
   "metadata": {},
   "outputs": [
    {
     "data": {
      "text/plain": [
       "0      22.0\n",
       "1      38.0\n",
       "2      26.0\n",
       "3      35.0\n",
       "4      35.0\n",
       "       ... \n",
       "886    27.0\n",
       "887    19.0\n",
       "888     NaN\n",
       "889    26.0\n",
       "890    32.0\n",
       "Name: age, Length: 891, dtype: float64"
      ]
     },
     "execution_count": 16,
     "metadata": {},
     "output_type": "execute_result"
    }
   ],
   "source": [
    "df[\"age\"]"
   ]
  },
  {
   "cell_type": "code",
   "execution_count": 17,
   "id": "17cfdfa9",
   "metadata": {},
   "outputs": [
    {
     "data": {
      "image/png": "[encoded data removed]",
      "text/plain": [
       "<Figure size 1500x1000 with 4 Axes>"
      ]
     },
     "metadata": {},
     "output_type": "display_data"
    }
   ],
   "source": [
    "fig, axes = plt.subplots(2,2, figsize=(15,10))\n",
    "\n",
    "sns.boxplot(data=df, x=\"sex\", y=\"age\", hue=\"survived\", ax=axes[0,0])\n",
    "#hue=\"survived\" 생존 여부(예: 0=사망, 1=생존)를 기준으로 색상 분리하여 겹쳐 그림\n",
    "#ax=axes[0, 0] 2x2 서브플롯 중 첫 번째 위치에 그래프 배치\n",
    "#서브플롯(캔버스)은 평균 2,2,로 보고, 3,3,은 안하고 차라리 2,3으로 본다. \n",
    "axes[0,0].set_title(\"성별과 나이에 따른 생존 현황\")\n",
    "axes[0,0].set_xlabel(\"성별\")\n",
    "axes[0,0].set_ylabel(\"나이\")\n",
    "axes[0,0].legend(labels=[\"사망\", \"생존\"])\n",
    "#박스플롯은 일반적으로 통계청에서 사용, 일반분석가는 사용안함.\n",
    "sns.histplot(data=df, x=\"age\", ax=axes[0,1])\n",
    "axes[0,1].set_title(\"전체 승객 나이 현황\")\n",
    "axes[0,1].set_xlabel(\"나이\")\n",
    "axes[0,1].set_ylabel(\"인원수\")\n",
    "\n",
    "#데이터분석에서 기준 정의는 내가 정해야 한다(ex.유아는 몇세까지 정의할꺼야?), 그것이 잘못된 결과이면 다시 정의하면 된다.\n",
    "#유아(0~4)\n",
    "#어린이(5-11)\n",
    "#청소년(12-17)\n",
    "#청년(18-24)\n",
    "#성인(25-34)\n",
    "#중년(35-59)\n",
    "#노인(60+)\n",
    "\n",
    "bins = [0,5,12,18,25,35,60, np.inf]\n",
    "labels = [ \"유아(0~4)\", \"어린이(5-11)\", \"청소년(12-17)\", \"청년(18-24)\",\n",
    "            \"성인(25-34)\", \"중년(35-59)\", \"노인(60+)\"]\n",
    "df[\"age_group\"] = pd.cut(df[\"age\"], bins, labels=labels) # df[\"age_group\"] 컬럼하나를 추가\n",
    "\n",
    "age_group_survived = df.groupby(\"age_group\", observed=True)[\"survived\"].mean().reset_index()\n",
    "sns.barplot(data=age_group_survived , \n",
    "            x=\"age_group\", y=\"survived\", ax=axes[1,0], color=\"skyblue\")\n",
    "axes[1,0].set_title(\"나이 그룹별 생존율\")\n",
    "axes[1,0].set_xlabel(\"나이 그룹\")\n",
    "axes[1,0].set_ylabel(\"생존율\")\n",
    "axes[1,0].tick_params(axis=\"x\", rotation=45)\n",
    "axes[1,0].legend(labels=[\"사망\", \"생존\"])\n",
    "\n",
    "\n",
    "sns.histplot(data=df, x=\"age\", hue=\"survived\", stat=\"density\", ax=axes[1,1])\n",
    "axes[1,1].set_title(\"생존 여부에 따른 나이 분포\")\n",
    "axes[1,1].set_xlabel(\"나이\")\n",
    "axes[1,1].set_ylabel(\"밀도\")\n",
    "axes[1,1].legend(labels=[\"사망\", \"생존\"])\n",
    "\n",
    "plt.tight_layout()\n",
    "plt.show()\n"
   ]
  },
  {
   "cell_type": "markdown",
   "id": "867130c0",
   "metadata": {},
   "source": [
    "산업군 : 80 쓸수있다. 85 쓸만하다 90 우수 95 매우 우수 99.9 극소수\n",
    "\n",
    "#판다스그래프는 plot.히스토, histplot 내가보는것, 시본은 내 동료랑 같이 보는것 "
   ]
  },
  {
   "cell_type": "code",
   "execution_count": 18,
   "id": "e5b6a8e8",
   "metadata": {},
   "outputs": [
    {
     "data": {
      "text/plain": [
       "0      청년(18-24)\n",
       "1      중년(35-59)\n",
       "2      성인(25-34)\n",
       "3      성인(25-34)\n",
       "4      성인(25-34)\n",
       "         ...    \n",
       "886    성인(25-34)\n",
       "887    청년(18-24)\n",
       "888          NaN\n",
       "889    성인(25-34)\n",
       "890    성인(25-34)\n",
       "Name: age, Length: 891, dtype: category\n",
       "Categories (7, object): ['유아(0~4)' < '어린이(5-11)' < '청소년(12-17)' < '청년(18-24)' < '성인(25-34)' < '중년(35-59)' < '노인(60+)']"
      ]
     },
     "execution_count": 18,
     "metadata": {},
     "output_type": "execute_result"
    }
   ],
   "source": [
    "bins = [0,5,12,18,25,35,60, np.inf]\n",
    "labels = [\"유아(0~4)\",\n",
    "\"어린이(5-11)\",\n",
    "\"청소년(12-17)\",\n",
    "\"청년(18-24)\",\n",
    "\"성인(25-34)\",\n",
    "\"중년(35-59)\",\n",
    "\"노인(60+)\"]\n",
    "pd.cut(df[\"age\"], bins, labels=labels)"
   ]
  },
  {
   "cell_type": "markdown",
   "id": "ec7a7e36",
   "metadata": {},
   "source": [
    "데이터 - 전처리 EDA - 보고서 (상관계수, 이해) - 이것 - 수학(1.사람 ,2.순서,3.입력 | 예측)"
   ]
  },
  {
   "cell_type": "code",
   "execution_count": null,
   "id": "4936411a",
   "metadata": {},
   "outputs": [],
   "source": [
    "fig, axes = plt.subplots(2,2, figsize=(15,10))\n",
    "\n",
    "sns.boxplot(data=df, x=\"sex\", y=\"age\", hue=\"survived\", ax=axes[0,0])\n",
    "\n",
    "axes[0,0].set_title(\"성별과 나이에 따른 생존 현황\")\n",
    "axes[0,0].set_xlabel(\"성별\")\n",
    "axes[0,0].set_ylabel(\"나이\")\n",
    "axes[0,0].legend(labels=[\"사망\", \"생존\"])\n",
    "\n",
    "#판다스그래프는 plot.히스토, histplot 내가보는것, 시본은 내 동료랑 같이 보는것 \n",
    "df[\"age\"].plot()\n",
    "axes[0,1].set_title(\"전체 승객 나이 현황\")\n",
    "axes[0,1].set_xlabel(\"나이\")\n",
    "axes[0,1].set_ylabel(\"인원수\")"
   ]
  }
 ],
 "metadata": {
  "kernelspec": {
   "display_name": "Python 3",
   "language": "python",
   "name": "python3"
  },
  "language_info": {
   "codemirror_mode": {
    "name": "ipython",
    "version": 3
   },
   "file_extension": ".py",
   "mimetype": "text/x-python",
   "name": "python",
   "nbconvert_exporter": "python",
   "pygments_lexer": "ipython3",
   "version": "3.13.4"
  }
 },
 "nbformat": 4,
 "nbformat_minor": 5
}
