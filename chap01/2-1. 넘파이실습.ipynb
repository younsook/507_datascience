{
 "cells": [
  {
   "cell_type": "code",
   "execution_count": 4,
   "metadata": {},
   "outputs": [],
   "source": [
    "import numpy as np"
   ]
  },
  {
   "cell_type": "markdown",
   "metadata": {},
   "source": [
    "\n",
    "# 실습 과제1: NumPy를 활용한 행렬 변형 실습\n",
    "\n",
    "## 문제 1: 난수 행렬 생성\n",
    "N = 6과 M = 5로 설정하고, 0과 1 사이의 난수를 사용하여 (N, M) 형태의 행렬 A를 생성하세요.\n",
    "힌트: np.random.rand() 함수를 사용하세요.\n"
   ]
  },
  {
   "cell_type": "code",
   "execution_count": 5,
   "metadata": {},
   "outputs": [],
   "source": [
    "N = 6\n",
    "M = 5\n",
    "A = np.random.rand(N,M)"
   ]
  },
  {
   "cell_type": "code",
   "execution_count": 6,
   "metadata": {},
   "outputs": [
    {
     "data": {
      "text/plain": [
       "array([[0.02926218, 0.84570559, 0.71425074, 0.79205031, 0.2834017 ],\n",
       "       [0.25669721, 0.7326047 , 0.45952603, 0.35975747, 0.30351464],\n",
       "       [0.05597992, 0.66404326, 0.90454062, 0.33602716, 0.64235366],\n",
       "       [0.23719577, 0.49402846, 0.7936777 , 0.68922222, 0.94592451],\n",
       "       [0.6275195 , 0.23278489, 0.1131215 , 0.39847552, 0.51635778],\n",
       "       [0.33608339, 0.57747038, 0.35893157, 0.9863446 , 0.59330191]])"
      ]
     },
     "execution_count": 6,
     "metadata": {},
     "output_type": "execute_result"
    }
   ],
   "source": [
    "A"
   ]
  },
  {
   "cell_type": "code",
   "execution_count": 7,
   "metadata": {},
   "outputs": [
    {
     "data": {
      "text/plain": [
       "(6, 5)"
      ]
     },
     "execution_count": 7,
     "metadata": {},
     "output_type": "execute_result"
    }
   ],
   "source": [
    "A.shape #A.shape는 NumPy에서 배열의 \"형태(shape)\" 또는 \"크기\"를 나타내는 속성"
   ]
  },
  {
   "cell_type": "markdown",
   "metadata": {},
   "source": [
    "## 문제 2: 새로운 축 추가\n",
    "\n",
    "행렬 A에 np.newaxis를 사용하여 새로운 축을 추가하고, 결과를 B에 저장하세요. B의 형태는 (N, 1, M)이 되어야 합니다."
   ]
  },
  {
   "cell_type": "code",
   "execution_count": 8,
   "metadata": {},
   "outputs": [
    {
     "data": {
      "text/plain": [
       "(6, 1, 5)"
      ]
     },
     "execution_count": 8,
     "metadata": {},
     "output_type": "execute_result"
    }
   ],
   "source": [
    "B = A[:, None, :] #np.newaxis = None , 같은표현[:, np.newaxis, :] \n",
    "B.shape"
   ]
  },
  {
   "cell_type": "markdown",
   "metadata": {},
   "source": [
    "문제 3: 슬라이싱을 이용한 특정 요소 변경\n",
    "행렬 B에서 세 번째 행의 모든 열을 슬라이싱하여 값을 0.3으로 변경하세요."
   ]
  },
  {
   "cell_type": "code",
   "execution_count": 9,
   "metadata": {},
   "outputs": [],
   "source": [
    "B[2, :] = 0.3  #B[2 = 세번째행 (0-based index)"
   ]
  },
  {
   "cell_type": "code",
   "execution_count": 10,
   "metadata": {},
   "outputs": [
    {
     "data": {
      "text/plain": [
       "array([[[0.02926218, 0.84570559, 0.71425074, 0.79205031, 0.2834017 ]],\n",
       "\n",
       "       [[0.25669721, 0.7326047 , 0.45952603, 0.35975747, 0.30351464]],\n",
       "\n",
       "       [[0.3       , 0.3       , 0.3       , 0.3       , 0.3       ]],\n",
       "\n",
       "       [[0.23719577, 0.49402846, 0.7936777 , 0.68922222, 0.94592451]],\n",
       "\n",
       "       [[0.6275195 , 0.23278489, 0.1131215 , 0.39847552, 0.51635778]],\n",
       "\n",
       "       [[0.33608339, 0.57747038, 0.35893157, 0.9863446 , 0.59330191]]])"
      ]
     },
     "execution_count": 10,
     "metadata": {},
     "output_type": "execute_result"
    }
   ],
   "source": [
    "B"
   ]
  },
  {
   "cell_type": "markdown",
   "metadata": {},
   "source": [
    "\n",
    "문제 4: 축 위치를 다르게 설정하여 새로운 행렬 생성\n",
    "np.newaxis를 사용하여 A의 형태를 (1, N, M)로 변형한 결과를 C에 저장하고, (N, M, 1)로 변형한 결과를 D에 저장하세요. 각 행렬의 형태를 출력하여 확인하세요."
   ]
  },
  {
   "cell_type": "code",
   "execution_count": 13,
   "metadata": {},
   "outputs": [],
   "source": [
    "C = A[None, :, :]\n",
    "D = A[:, :, None]\n"
   ]
  },
  {
   "cell_type": "code",
   "execution_count": 14,
   "metadata": {},
   "outputs": [
    {
     "data": {
      "text/plain": [
       "(array([[[0.02926218, 0.84570559, 0.71425074, 0.79205031, 0.2834017 ],\n",
       "         [0.25669721, 0.7326047 , 0.45952603, 0.35975747, 0.30351464],\n",
       "         [0.3       , 0.3       , 0.3       , 0.3       , 0.3       ],\n",
       "         [0.23719577, 0.49402846, 0.7936777 , 0.68922222, 0.94592451],\n",
       "         [0.6275195 , 0.23278489, 0.1131215 , 0.39847552, 0.51635778],\n",
       "         [0.33608339, 0.57747038, 0.35893157, 0.9863446 , 0.59330191]]]),\n",
       " array([[[0.02926218],\n",
       "         [0.84570559],\n",
       "         [0.71425074],\n",
       "         [0.79205031],\n",
       "         [0.2834017 ]],\n",
       " \n",
       "        [[0.25669721],\n",
       "         [0.7326047 ],\n",
       "         [0.45952603],\n",
       "         [0.35975747],\n",
       "         [0.30351464]],\n",
       " \n",
       "        [[0.3       ],\n",
       "         [0.3       ],\n",
       "         [0.3       ],\n",
       "         [0.3       ],\n",
       "         [0.3       ]],\n",
       " \n",
       "        [[0.23719577],\n",
       "         [0.49402846],\n",
       "         [0.7936777 ],\n",
       "         [0.68922222],\n",
       "         [0.94592451]],\n",
       " \n",
       "        [[0.6275195 ],\n",
       "         [0.23278489],\n",
       "         [0.1131215 ],\n",
       "         [0.39847552],\n",
       "         [0.51635778]],\n",
       " \n",
       "        [[0.33608339],\n",
       "         [0.57747038],\n",
       "         [0.35893157],\n",
       "         [0.9863446 ],\n",
       "         [0.59330191]]]))"
      ]
     },
     "execution_count": 14,
     "metadata": {},
     "output_type": "execute_result"
    }
   ],
   "source": [
    "C,D"
   ]
  },
  {
   "cell_type": "markdown",
   "metadata": {},
   "source": [
    "\n",
    "문제 5: 슬라이싱을 통해 부분 행렬 변경\n",
    "행렬 D에서 마지막 세 행의 모든 요소를 0.8로 변경하세요."
   ]
  },
  {
   "cell_type": "code",
   "execution_count": 17,
   "metadata": {},
   "outputs": [
    {
     "data": {
      "text/plain": [
       "(6, 5, 1)"
      ]
     },
     "execution_count": 17,
     "metadata": {},
     "output_type": "execute_result"
    }
   ],
   "source": [
    "D.shape"
   ]
  },
  {
   "cell_type": "code",
   "execution_count": 18,
   "metadata": {},
   "outputs": [],
   "source": [
    "D[-3:, :, :] = 0.8 #-3: → 마지막 3개 행 (즉, N-3, N-2, N-1번째 행)"
   ]
  },
  {
   "cell_type": "code",
   "execution_count": 19,
   "metadata": {},
   "outputs": [
    {
     "data": {
      "text/plain": [
       "array([[[0.02926218],\n",
       "        [0.84570559],\n",
       "        [0.71425074],\n",
       "        [0.79205031],\n",
       "        [0.2834017 ]],\n",
       "\n",
       "       [[0.25669721],\n",
       "        [0.7326047 ],\n",
       "        [0.45952603],\n",
       "        [0.35975747],\n",
       "        [0.30351464]],\n",
       "\n",
       "       [[0.3       ],\n",
       "        [0.3       ],\n",
       "        [0.3       ],\n",
       "        [0.3       ],\n",
       "        [0.3       ]],\n",
       "\n",
       "       [[0.8       ],\n",
       "        [0.8       ],\n",
       "        [0.8       ],\n",
       "        [0.8       ],\n",
       "        [0.8       ]],\n",
       "\n",
       "       [[0.8       ],\n",
       "        [0.8       ],\n",
       "        [0.8       ],\n",
       "        [0.8       ],\n",
       "        [0.8       ]],\n",
       "\n",
       "       [[0.8       ],\n",
       "        [0.8       ],\n",
       "        [0.8       ],\n",
       "        [0.8       ],\n",
       "        [0.8       ]]])"
      ]
     },
     "execution_count": 19,
     "metadata": {},
     "output_type": "execute_result"
    }
   ],
   "source": [
    "D"
   ]
  }
 ],
 "metadata": {
  "kernelspec": {
   "display_name": "Python 3",
   "language": "python",
   "name": "python3"
  },
  "language_info": {
   "codemirror_mode": {
    "name": "ipython",
    "version": 3
   },
   "file_extension": ".py",
   "mimetype": "text/x-python",
   "name": "python",
   "nbconvert_exporter": "python",
   "pygments_lexer": "ipython3",
   "version": "3.13.4"
  }
 },
 "nbformat": 4,
 "nbformat_minor": 2
}
