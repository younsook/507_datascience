{
 "cells": [
  {
   "cell_type": "code",
   "execution_count": 1,
   "id": "6d5a4942",
   "metadata": {},
   "outputs": [],
   "source": [
    "import numpy as np"
   ]
  },
  {
   "cell_type": "code",
   "execution_count": 2,
   "id": "43c759ae",
   "metadata": {},
   "outputs": [
    {
     "data": {
      "text/plain": [
       "'2.3.0'"
      ]
     },
     "execution_count": 2,
     "metadata": {},
     "output_type": "execute_result"
    }
   ],
   "source": [
    "np.__version__"
   ]
  },
  {
   "cell_type": "code",
   "execution_count": 3,
   "id": "0e2f5532",
   "metadata": {},
   "outputs": [
    {
     "name": "stdout",
     "output_type": "stream",
     "text": [
      "Python 3.13.4\n"
     ]
    }
   ],
   "source": [
    "!python --version"
   ]
  },
  {
   "cell_type": "code",
   "execution_count": 9,
   "id": "deddc659",
   "metadata": {},
   "outputs": [
    {
     "data": {
      "text/plain": [
       "[np.float64(-5.0),\n",
       " np.float64(-4.898989898989899),\n",
       " np.float64(-4.797979797979798),\n",
       " np.float64(-4.696969696969697),\n",
       " np.float64(-4.595959595959596),\n",
       " np.float64(-4.494949494949495),\n",
       " np.float64(-4.393939393939394),\n",
       " np.float64(-4.292929292929293),\n",
       " np.float64(-4.191919191919192),\n",
       " np.float64(-4.090909090909091),\n",
       " np.float64(-3.9898989898989896),\n",
       " np.float64(-3.888888888888889),\n",
       " np.float64(-3.787878787878788),\n",
       " np.float64(-3.686868686868687),\n",
       " np.float64(-3.5858585858585856),\n",
       " np.float64(-3.484848484848485),\n",
       " np.float64(-3.383838383838384),\n",
       " np.float64(-3.282828282828283),\n",
       " np.float64(-3.1818181818181817),\n",
       " np.float64(-3.080808080808081),\n",
       " np.float64(-2.9797979797979797),\n",
       " np.float64(-2.878787878787879),\n",
       " np.float64(-2.7777777777777777),\n",
       " np.float64(-2.676767676767677),\n",
       " np.float64(-2.5757575757575757),\n",
       " np.float64(-2.474747474747475),\n",
       " np.float64(-2.3737373737373737),\n",
       " np.float64(-2.272727272727273),\n",
       " np.float64(-2.1717171717171717),\n",
       " np.float64(-2.070707070707071),\n",
       " np.float64(-1.9696969696969697),\n",
       " np.float64(-1.868686868686869),\n",
       " np.float64(-1.7676767676767677),\n",
       " np.float64(-1.6666666666666665),\n",
       " np.float64(-1.5656565656565657),\n",
       " np.float64(-1.4646464646464645),\n",
       " np.float64(-1.3636363636363638),\n",
       " np.float64(-1.2626262626262625),\n",
       " np.float64(-1.1616161616161618),\n",
       " np.float64(-1.0606060606060606),\n",
       " np.float64(-0.9595959595959593),\n",
       " np.float64(-0.858585858585859),\n",
       " np.float64(-0.7575757575757578),\n",
       " np.float64(-0.6565656565656566),\n",
       " np.float64(-0.5555555555555554),\n",
       " np.float64(-0.45454545454545503),\n",
       " np.float64(-0.3535353535353538),\n",
       " np.float64(-0.2525252525252526),\n",
       " np.float64(-0.15151515151515138),\n",
       " np.float64(-0.050505050505050164),\n",
       " np.float64(0.050505050505050164),\n",
       " np.float64(0.15151515151515138),\n",
       " np.float64(0.2525252525252526),\n",
       " np.float64(0.3535353535353538),\n",
       " np.float64(0.45454545454545414),\n",
       " np.float64(0.5555555555555554),\n",
       " np.float64(0.6565656565656566),\n",
       " np.float64(0.7575757575757578),\n",
       " np.float64(0.8585858585858581),\n",
       " np.float64(0.9595959595959593),\n",
       " np.float64(1.0606060606060606),\n",
       " np.float64(1.1616161616161618),\n",
       " np.float64(1.262626262626262),\n",
       " np.float64(1.3636363636363633),\n",
       " np.float64(1.4646464646464645),\n",
       " np.float64(1.5656565656565657),\n",
       " np.float64(1.666666666666667),\n",
       " np.float64(1.7676767676767673),\n",
       " np.float64(1.8686868686868685),\n",
       " np.float64(1.9696969696969697),\n",
       " np.float64(2.070707070707071),\n",
       " np.float64(2.1717171717171713),\n",
       " np.float64(2.2727272727272725),\n",
       " np.float64(2.3737373737373737),\n",
       " np.float64(2.474747474747475),\n",
       " np.float64(2.5757575757575752),\n",
       " np.float64(2.6767676767676765),\n",
       " np.float64(2.7777777777777777),\n",
       " np.float64(2.878787878787879),\n",
       " np.float64(2.9797979797979792),\n",
       " np.float64(3.0808080808080813),\n",
       " np.float64(3.1818181818181817),\n",
       " np.float64(3.282828282828282),\n",
       " np.float64(3.383838383838384),\n",
       " np.float64(3.4848484848484844),\n",
       " np.float64(3.5858585858585865),\n",
       " np.float64(3.686868686868687),\n",
       " np.float64(3.787878787878787),\n",
       " np.float64(3.8888888888888893),\n",
       " np.float64(3.9898989898989896),\n",
       " np.float64(4.09090909090909),\n",
       " np.float64(4.191919191919192),\n",
       " np.float64(4.292929292929292),\n",
       " np.float64(4.3939393939393945),\n",
       " np.float64(4.494949494949495),\n",
       " np.float64(4.595959595959595),\n",
       " np.float64(4.696969696969697),\n",
       " np.float64(4.797979797979798),\n",
       " np.float64(4.8989898989899),\n",
       " np.float64(5.0)]"
      ]
     },
     "execution_count": 9,
     "metadata": {},
     "output_type": "execute_result"
    }
   ],
   "source": [
    "x = range(-5,6)\n",
    "x = np.linspace(-5, 5, 100)\n",
    "list(x)"
   ]
  },
  {
   "cell_type": "code",
   "execution_count": 8,
   "id": "839439d2",
   "metadata": {},
   "outputs": [],
   "source": [
    "def f(x):\n",
    "    return 2*x +1"
   ]
  },
  {
   "cell_type": "code",
   "execution_count": 11,
   "id": "5aea694d",
   "metadata": {},
   "outputs": [
    {
     "data": {
      "text/plain": [
       "(array([1, 2, 3]), array([4, 5, 6]))"
      ]
     },
     "execution_count": 11,
     "metadata": {},
     "output_type": "execute_result"
    }
   ],
   "source": [
    "vector1 = np.array([1, 2, 3])\n",
    "vector2 = np.array([4, 5, 6])\n",
    "vector1, vector2"
   ]
  },
  {
   "cell_type": "code",
   "execution_count": 12,
   "id": "e64e1a02",
   "metadata": {},
   "outputs": [
    {
     "data": {
      "text/plain": [
       "np.int64(32)"
      ]
     },
     "execution_count": 12,
     "metadata": {},
     "output_type": "execute_result"
    }
   ],
   "source": [
    "np.dot(vector1,vector2)"
   ]
  },
  {
   "cell_type": "code",
   "execution_count": 13,
   "id": "88e1e2f5",
   "metadata": {},
   "outputs": [
    {
     "data": {
      "text/plain": [
       "np.int64(32)"
      ]
     },
     "execution_count": 13,
     "metadata": {},
     "output_type": "execute_result"
    }
   ],
   "source": [
    "vector1.dot(vector2)"
   ]
  },
  {
   "cell_type": "code",
   "execution_count": null,
   "id": "a4e89eeb",
   "metadata": {},
   "outputs": [
    {
     "data": {
      "text/plain": [
       "array([1, 2, 3])"
      ]
     },
     "execution_count": 14,
     "metadata": {},
     "output_type": "execute_result"
    }
   ],
   "source": [
    "vector1.T #뒤집어"
   ]
  },
  {
   "cell_type": "code",
   "execution_count": 15,
   "id": "be0304f7",
   "metadata": {},
   "outputs": [],
   "source": [
    "A = [[1, 2, 3],\n",
    "      [4, 5, 6]]"
   ]
  },
  {
   "cell_type": "code",
   "execution_count": 16,
   "id": "9db56fc5",
   "metadata": {},
   "outputs": [
    {
     "data": {
      "text/plain": [
       "[[1, 2, 3], [4, 5, 6]]"
      ]
     },
     "execution_count": 16,
     "metadata": {},
     "output_type": "execute_result"
    }
   ],
   "source": [
    "A"
   ]
  },
  {
   "cell_type": "code",
   "execution_count": 23,
   "id": "c3508025",
   "metadata": {},
   "outputs": [
    {
     "data": {
      "text/plain": [
       "array([[1, 4],\n",
       "       [2, 5],\n",
       "       [3, 6]])"
      ]
     },
     "execution_count": 23,
     "metadata": {},
     "output_type": "execute_result"
    }
   ],
   "source": [
    "A.T\n"
   ]
  },
  {
   "cell_type": "code",
   "execution_count": 18,
   "id": "025dd48b",
   "metadata": {},
   "outputs": [],
   "source": [
    "A = np.array([[1, 2, 3],\n",
    "      [4, 5, 6]])\n",
    "B = np.array([[7, 8],\n",
    "     [9, 10],\n",
    "     [11, 12]])"
   ]
  },
  {
   "cell_type": "code",
   "execution_count": 19,
   "id": "dc47ced9",
   "metadata": {},
   "outputs": [
    {
     "data": {
      "text/plain": [
       "((2, 3), (3, 2))"
      ]
     },
     "execution_count": 19,
     "metadata": {},
     "output_type": "execute_result"
    }
   ],
   "source": [
    "A.shape, B.shape"
   ]
  },
  {
   "cell_type": "code",
   "execution_count": 20,
   "id": "fdde58de",
   "metadata": {},
   "outputs": [
    {
     "data": {
      "text/plain": [
       "(array([[ 58,  64],\n",
       "        [139, 154]]),\n",
       " (2, 2))"
      ]
     },
     "execution_count": 20,
     "metadata": {},
     "output_type": "execute_result"
    }
   ],
   "source": [
    "A.dot(B), A.dot(B).shape"
   ]
  },
  {
   "cell_type": "code",
   "execution_count": 21,
   "id": "1c969c32",
   "metadata": {},
   "outputs": [
    {
     "data": {
      "text/plain": [
       "array([[ 58,  64],\n",
       "       [139, 154]])"
      ]
     },
     "execution_count": 21,
     "metadata": {},
     "output_type": "execute_result"
    }
   ],
   "source": [
    "A@B"
   ]
  },
  {
   "cell_type": "code",
   "execution_count": 22,
   "id": "1ef7419b",
   "metadata": {},
   "outputs": [
    {
     "data": {
      "text/plain": [
       "array([[ 58,  64],\n",
       "       [139, 154]])"
      ]
     },
     "execution_count": 22,
     "metadata": {},
     "output_type": "execute_result"
    }
   ],
   "source": [
    "np.dot(A,B)"
   ]
  },
  {
   "cell_type": "code",
   "execution_count": null,
   "id": "42274bcc",
   "metadata": {},
   "outputs": [
    {
     "data": {
      "text/plain": [
       "(128, 3, 800, 600)"
      ]
     },
     "execution_count": 24,
     "metadata": {},
     "output_type": "execute_result"
    }
   ],
   "source": [
    "image = np.random.randn(128, 3, 800, 600) #128장 이미지를 rgb3, 사이즈 만들어.\n",
    "image.shape"
   ]
  },
  {
   "cell_type": "code",
   "execution_count": 25,
   "id": "bd0b16b3",
   "metadata": {},
   "outputs": [
    {
     "data": {
      "text/plain": [
       "array([ 1,  2,  3,  4,  5,  6,  7,  8,  9, 10])"
      ]
     },
     "execution_count": 25,
     "metadata": {},
     "output_type": "execute_result"
    }
   ],
   "source": [
    "np.arange(1,11)"
   ]
  },
  {
   "cell_type": "code",
   "execution_count": 26,
   "id": "478bdc19",
   "metadata": {},
   "outputs": [
    {
     "data": {
      "text/plain": [
       "np.int64(55)"
      ]
     },
     "execution_count": 26,
     "metadata": {},
     "output_type": "execute_result"
    }
   ],
   "source": [
    "data = np.arange(1,11)\n",
    "np.sum(data)"
   ]
  },
  {
   "cell_type": "code",
   "execution_count": 28,
   "id": "cd0e5e96",
   "metadata": {},
   "outputs": [
    {
     "data": {
      "text/plain": [
       "array([-5. , -4.9, -4.8, -4.7, -4.6, -4.5, -4.4, -4.3, -4.2, -4.1, -4. ,\n",
       "       -3.9, -3.8, -3.7, -3.6, -3.5, -3.4, -3.3, -3.2, -3.1, -3. , -2.9,\n",
       "       -2.8, -2.7, -2.6, -2.5, -2.4, -2.3, -2.2, -2.1, -2. , -1.9, -1.8,\n",
       "       -1.7, -1.6, -1.5, -1.4, -1.3, -1.2, -1.1, -1. , -0.9, -0.8, -0.7,\n",
       "       -0.6, -0.5, -0.4, -0.3, -0.2, -0.1,  0. ,  0.1,  0.2,  0.3,  0.4,\n",
       "        0.5,  0.6,  0.7,  0.8,  0.9,  1. ,  1.1,  1.2,  1.3,  1.4,  1.5,\n",
       "        1.6,  1.7,  1.8,  1.9,  2. ,  2.1,  2.2,  2.3,  2.4,  2.5,  2.6,\n",
       "        2.7,  2.8,  2.9,  3. ,  3.1,  3.2,  3.3,  3.4,  3.5,  3.6,  3.7,\n",
       "        3.8,  3.9,  4. ,  4.1,  4.2,  4.3,  4.4,  4.5,  4.6,  4.7,  4.8,\n",
       "        4.9,  5. ])"
      ]
     },
     "execution_count": 28,
     "metadata": {},
     "output_type": "execute_result"
    }
   ],
   "source": [
    "np.linspace(-5, 5, 101)"
   ]
  },
  {
   "cell_type": "code",
   "execution_count": 29,
   "id": "38678403",
   "metadata": {},
   "outputs": [
    {
     "data": {
      "text/plain": [
       "[<matplotlib.lines.Line2D at 0x2bd70eb0e10>]"
      ]
     },
     "execution_count": 29,
     "metadata": {},
     "output_type": "execute_result"
    },
    {
     "data": {
      "image/png": "[encoded data removed]",
      "text/plain": [
       "<Figure size 640x480 with 1 Axes>"
      ]
     },
     "metadata": {},
     "output_type": "display_data"
    }
   ],
   "source": [
    "import matplotlib.pylab as plt\n",
    "x = np.linspace(-5, 5, 101)\n",
    "y = x**2\n",
    "\n",
    "plt.plot(x,y)"
   ]
  },
  {
   "cell_type": "code",
   "execution_count": 30,
   "id": "b90eaac3",
   "metadata": {},
   "outputs": [
    {
     "data": {
      "text/plain": [
       "(100,)"
      ]
     },
     "execution_count": 30,
     "metadata": {},
     "output_type": "execute_result"
    }
   ],
   "source": [
    "np.zeros(100).shape"
   ]
  },
  {
   "cell_type": "code",
   "execution_count": 32,
   "id": "d7fe6cb9",
   "metadata": {},
   "outputs": [
    {
     "data": {
      "text/plain": [
       "(3, 3)"
      ]
     },
     "execution_count": 32,
     "metadata": {},
     "output_type": "execute_result"
    }
   ],
   "source": [
    "np.zeros((3,3)).shape"
   ]
  },
  {
   "cell_type": "code",
   "execution_count": 33,
   "id": "4adbe9d2",
   "metadata": {},
   "outputs": [
    {
     "data": {
      "text/plain": [
       "(4, 3)"
      ]
     },
     "execution_count": 33,
     "metadata": {},
     "output_type": "execute_result"
    }
   ],
   "source": [
    "np.ones((4,3)).shape"
   ]
  },
  {
   "cell_type": "code",
   "execution_count": 34,
   "id": "d868de8f",
   "metadata": {},
   "outputs": [
    {
     "data": {
      "text/plain": [
       "(3,)"
      ]
     },
     "execution_count": 34,
     "metadata": {},
     "output_type": "execute_result"
    }
   ],
   "source": [
    "np.full((3), 0.1).shape"
   ]
  },
  {
   "cell_type": "code",
   "execution_count": 36,
   "id": "1d9158a8",
   "metadata": {},
   "outputs": [
    {
     "data": {
      "text/plain": [
       "((4, 3), (3,))"
      ]
     },
     "execution_count": 36,
     "metadata": {},
     "output_type": "execute_result"
    }
   ],
   "source": [
    "input_data  = np.random.randn(150,4)\n",
    "w = np.ones((4,3))\n",
    "b = np.full((3), 0.1)\n",
    "\n",
    "w.shape, b.shape"
   ]
  },
  {
   "cell_type": "code",
   "execution_count": 37,
   "id": "7d0d152a",
   "metadata": {},
   "outputs": [
    {
     "data": {
      "text/plain": [
       "(150, 3)"
      ]
     },
     "execution_count": 37,
     "metadata": {},
     "output_type": "execute_result"
    }
   ],
   "source": [
    "output = input_data.dot(w) + b\n",
    "output.shape"
   ]
  },
  {
   "cell_type": "code",
   "execution_count": 39,
   "id": "d685893e",
   "metadata": {},
   "outputs": [
    {
     "data": {
      "text/plain": [
       "(1000,)"
      ]
     },
     "execution_count": 39,
     "metadata": {},
     "output_type": "execute_result"
    }
   ],
   "source": [
    "import numpy as np\n",
    "data = np.random.random(1000)\n",
    "data.shape"
   ]
  },
  {
   "cell_type": "code",
   "execution_count": 40,
   "id": "641eb772",
   "metadata": {},
   "outputs": [
    {
     "data": {
      "text/plain": [
       "(array([100., 116., 116.,  94.,  98.,  93.,  99.,  89., 111.,  84.]),\n",
       " array([3.31522117e-04, 1.00288699e-01, 2.00245877e-01, 3.00203054e-01,\n",
       "        4.00160231e-01, 5.00117409e-01, 6.00074586e-01, 7.00031763e-01,\n",
       "        7.99988941e-01, 8.99946118e-01, 9.99903295e-01]),\n",
       " <BarContainer object of 10 artists>)"
      ]
     },
     "execution_count": 40,
     "metadata": {},
     "output_type": "execute_result"
    },
    {
     "data": {
      "image/png": "[encoded data removed]",
      "text/plain": [
       "<Figure size 640x480 with 1 Axes>"
      ]
     },
     "metadata": {},
     "output_type": "display_data"
    }
   ],
   "source": [
    "import matplotlib.pyplot as plt\n",
    "\n",
    "plt.hist(data)"
   ]
  },
  {
   "cell_type": "code",
   "execution_count": 42,
   "id": "569d3fd7",
   "metadata": {},
   "outputs": [
    {
     "data": {
      "text/plain": [
       "(1000,)"
      ]
     },
     "execution_count": 42,
     "metadata": {},
     "output_type": "execute_result"
    }
   ],
   "source": [
    "data = np.random.uniform(-1,1,1000)\n",
    "data.shape"
   ]
  },
  {
   "cell_type": "code",
   "execution_count": 50,
   "id": "6edfc6f4",
   "metadata": {},
   "outputs": [
    {
     "data": {
      "text/plain": [
       "(array([1., 1., 1., 1., 1., 1., 1., 1., 1., 1.]),\n",
       " array([ 1. ,  1.9,  2.8,  3.7,  4.6,  5.5,  6.4,  7.3,  8.2,  9.1, 10. ]),\n",
       " <BarContainer object of 10 artists>)"
      ]
     },
     "execution_count": 50,
     "metadata": {},
     "output_type": "execute_result"
    },
    {
     "data": {
      "image/png": "[encoded data removed]",
      "text/plain": [
       "<Figure size 640x480 with 1 Axes>"
      ]
     },
     "metadata": {},
     "output_type": "display_data"
    }
   ],
   "source": [
    "plt.hist(data)"
   ]
  },
  {
   "cell_type": "code",
   "execution_count": 51,
   "id": "51c7d3b2",
   "metadata": {},
   "outputs": [
    {
     "data": {
      "text/plain": [
       "array([ 5,  8,  6,  1,  3,  7,  9,  2,  4, 10])"
      ]
     },
     "execution_count": 51,
     "metadata": {},
     "output_type": "execute_result"
    }
   ],
   "source": [
    "data = np.arange(1,11)\n",
    "np.random.choice(data,10, replace=False)\n"
   ]
  },
  {
   "cell_type": "code",
   "execution_count": 52,
   "id": "ebe02dfc",
   "metadata": {},
   "outputs": [
    {
     "data": {
      "text/plain": [
       "array([7, 7, 1, 3, 2, 6, 7, 4, 1, 1])"
      ]
     },
     "execution_count": 52,
     "metadata": {},
     "output_type": "execute_result"
    }
   ],
   "source": [
    "data = np.arange(1,11)\n",
    "np.random.choice(data,10, replace=True)"
   ]
  },
  {
   "cell_type": "code",
   "execution_count": 53,
   "id": "6cb2cab2",
   "metadata": {},
   "outputs": [],
   "source": [
    "data = np.arange(1,11)\n",
    "np.random.shuffle(data)"
   ]
  },
  {
   "cell_type": "code",
   "execution_count": 54,
   "id": "192c374b",
   "metadata": {},
   "outputs": [
    {
     "data": {
      "text/plain": [
       "array([ 2,  9,  4,  5,  8,  1,  6, 10,  7,  3])"
      ]
     },
     "execution_count": 54,
     "metadata": {},
     "output_type": "execute_result"
    }
   ],
   "source": [
    "data"
   ]
  },
  {
   "cell_type": "code",
   "execution_count": 55,
   "id": "14e9be03",
   "metadata": {},
   "outputs": [
    {
     "data": {
      "text/plain": [
       "array([1, 1, 1])"
      ]
     },
     "execution_count": 55,
     "metadata": {},
     "output_type": "execute_result"
    }
   ],
   "source": [
    "data = np.arange(1,4)\n",
    "np.random.choice(data,3, p=[0.8, 0.1, 0.1])"
   ]
  },
  {
   "cell_type": "code",
   "execution_count": 56,
   "id": "8f1c1ff4",
   "metadata": {},
   "outputs": [
    {
     "data": {
      "text/plain": [
       "array([ 5,  9,  8,  5,  7,  6,  4,  2,  5,  2,  7,  1,  9,  2,  8,  1,  6,\n",
       "        8,  9,  8,  9,  8,  5,  8,  2,  8,  4,  5,  4,  1,  7,  2,  8,  8,\n",
       "        2, 10,  3,  4,  5,  1, 10,  4,  6,  1,  5,  8, 10,  2,  6,  2,  7,\n",
       "        8,  6,  1,  3,  6,  6,  1,  9,  2,  3, 10,  9,  6,  8,  5, 10,  7,\n",
       "        3,  8,  1,  8,  4,  2,  7,  8,  8,  6,  6,  1,  2,  8,  7,  1,  1,\n",
       "        6,  1,  1,  9,  4,  9,  5,  1,  4,  5,  2,  7, 10, 10,  6])"
      ]
     },
     "execution_count": 56,
     "metadata": {},
     "output_type": "execute_result"
    }
   ],
   "source": [
    "data = np.arange(1,11)\n",
    "np.random.choice(data,100)"
   ]
  },
  {
   "cell_type": "code",
   "execution_count": 62,
   "id": "06c61519",
   "metadata": {},
   "outputs": [
    {
     "data": {
      "text/plain": [
       "(1000,)"
      ]
     },
     "execution_count": 62,
     "metadata": {},
     "output_type": "execute_result"
    }
   ],
   "source": [
    "data = np.random.normal(0,10, 1000)\n",
    "data.shape"
   ]
  },
  {
   "cell_type": "code",
   "execution_count": 63,
   "id": "567b06df",
   "metadata": {},
   "outputs": [
    {
     "data": {
      "text/plain": [
       "(array([  1.,   4.,  43., 157., 293., 293., 154.,  45.,   8.,   2.]),\n",
       " array([-37.87023342, -30.34491478, -22.81959613, -15.29427749,\n",
       "         -7.76895884,  -0.2436402 ,   7.28167845,  14.80699709,\n",
       "         22.33231574,  29.85763438,  37.38295303]),\n",
       " <BarContainer object of 10 artists>)"
      ]
     },
     "execution_count": 63,
     "metadata": {},
     "output_type": "execute_result"
    },
    {
     "data": {
      "image/png": "[encoded data removed]",
      "text/plain": [
       "<Figure size 640x480 with 1 Axes>"
      ]
     },
     "metadata": {},
     "output_type": "display_data"
    }
   ],
   "source": [
    "plt.hist(data)"
   ]
  },
  {
   "cell_type": "code",
   "execution_count": 64,
   "id": "3d174cd5",
   "metadata": {},
   "outputs": [
    {
     "data": {
      "text/plain": [
       "(1000,)"
      ]
     },
     "execution_count": 64,
     "metadata": {},
     "output_type": "execute_result"
    }
   ],
   "source": [
    "data = np.random.randn(1000)\n",
    "data.shape"
   ]
  },
  {
   "cell_type": "code",
   "execution_count": 65,
   "id": "d1256101",
   "metadata": {},
   "outputs": [
    {
     "data": {
      "text/plain": [
       "(array([ 18.,  47., 112., 164., 223., 192., 140.,  76.,  20.,   8.]),\n",
       " array([-2.54529905, -2.00026819, -1.45523733, -0.91020647, -0.36517561,\n",
       "         0.17985524,  0.7248861 ,  1.26991696,  1.81494782,  2.35997868,\n",
       "         2.90500954]),\n",
       " <BarContainer object of 10 artists>)"
      ]
     },
     "execution_count": 65,
     "metadata": {},
     "output_type": "execute_result"
    },
    {
     "data": {
      "image/png": "[encoded data removed]",
      "text/plain": [
       "<Figure size 640x480 with 1 Axes>"
      ]
     },
     "metadata": {},
     "output_type": "display_data"
    }
   ],
   "source": [
    "plt.hist(data)"
   ]
  },
  {
   "cell_type": "code",
   "execution_count": 66,
   "id": "a4f50e2a",
   "metadata": {},
   "outputs": [
    {
     "data": {
      "text/plain": [
       "(100,)"
      ]
     },
     "execution_count": 66,
     "metadata": {},
     "output_type": "execute_result"
    }
   ],
   "source": [
    "data = np.random.randint(1,7,100)\n",
    "data.shape"
   ]
  },
  {
   "cell_type": "code",
   "execution_count": 67,
   "id": "89a53bd7",
   "metadata": {},
   "outputs": [
    {
     "data": {
      "text/plain": [
       "(array([19.,  0., 12.,  0., 12.,  0., 13.,  0., 24., 20.]),\n",
       " array([1. , 1.5, 2. , 2.5, 3. , 3.5, 4. , 4.5, 5. , 5.5, 6. ]),\n",
       " <BarContainer object of 10 artists>)"
      ]
     },
     "execution_count": 67,
     "metadata": {},
     "output_type": "execute_result"
    },
    {
     "data": {
      "image/png": "[encoded data removed]",
      "text/plain": [
       "<Figure size 640x480 with 1 Axes>"
      ]
     },
     "metadata": {},
     "output_type": "display_data"
    }
   ],
   "source": [
    "plt.hist(data)"
   ]
  },
  {
   "cell_type": "code",
   "execution_count": 68,
   "id": "d045e9e6",
   "metadata": {},
   "outputs": [
    {
     "data": {
      "text/plain": [
       "array([[1., 0., 0.],\n",
       "       [0., 1., 0.],\n",
       "       [0., 0., 1.]])"
      ]
     },
     "execution_count": 68,
     "metadata": {},
     "output_type": "execute_result"
    }
   ],
   "source": [
    "np.eye(3)"
   ]
  },
  {
   "cell_type": "code",
   "execution_count": 70,
   "id": "bb535ef3",
   "metadata": {},
   "outputs": [
    {
     "data": {
      "text/plain": [
       "array([[0.37347222, 0.33722222],\n",
       "       [0.37347222, 4.03322222],\n",
       "       [5.33347222, 0.33722222]])"
      ]
     },
     "execution_count": 70,
     "metadata": {},
     "output_type": "execute_result"
    }
   ],
   "source": [
    "v1 = np.empty((3,2))\n",
    "v1"
   ]
  },
  {
   "cell_type": "code",
   "execution_count": 72,
   "id": "1232fb2b",
   "metadata": {},
   "outputs": [
    {
     "data": {
      "text/plain": [
       "array([[0., 0.],\n",
       "       [0., 0.],\n",
       "       [0., 0.]])"
      ]
     },
     "execution_count": 72,
     "metadata": {},
     "output_type": "execute_result"
    }
   ],
   "source": [
    "np.zeros((3,2))"
   ]
  },
  {
   "cell_type": "code",
   "execution_count": 75,
   "id": "babf23ba",
   "metadata": {},
   "outputs": [
    {
     "data": {
      "text/plain": [
       "((3, 2), dtype('float32'))"
      ]
     },
     "execution_count": 75,
     "metadata": {},
     "output_type": "execute_result"
    }
   ],
   "source": [
    "data.shape, data.dtype"
   ]
  },
  {
   "cell_type": "code",
   "execution_count": 74,
   "id": "334e54ca",
   "metadata": {},
   "outputs": [],
   "source": [
    "data = np.zeros((3,2), dtype=np.float32)"
   ]
  },
  {
   "cell_type": "code",
   "execution_count": 76,
   "id": "73d3df13",
   "metadata": {},
   "outputs": [],
   "source": [
    "data = np.zeros((3,2), dtype='float')"
   ]
  },
  {
   "cell_type": "code",
   "execution_count": 81,
   "id": "542d2ae9",
   "metadata": {},
   "outputs": [],
   "source": [
    "data = np.random.randint(1,10, (3,4))"
   ]
  },
  {
   "cell_type": "code",
   "execution_count": 78,
   "id": "2ff5fe86",
   "metadata": {},
   "outputs": [
    {
     "data": {
      "text/plain": [
       "array([[-0.07888326, -0.2121879 ,  1.50476564,  0.79313311],\n",
       "       [ 1.8136623 , -1.46074151, -0.55256746,  0.80765086],\n",
       "       [ 0.84990818,  1.60074501, -0.74597878, -1.11257759]])"
      ]
     },
     "execution_count": 78,
     "metadata": {},
     "output_type": "execute_result"
    }
   ],
   "source": [
    "np.random.normal(0,1, (3,4))"
   ]
  },
  {
   "cell_type": "code",
   "execution_count": 83,
   "id": "c7ee5363",
   "metadata": {},
   "outputs": [
    {
     "data": {
      "text/plain": [
       "((3, 4), dtype('int32'), 12)"
      ]
     },
     "execution_count": 83,
     "metadata": {},
     "output_type": "execute_result"
    }
   ],
   "source": [
    "data.shape, data.dtype, data.size"
   ]
  },
  {
   "cell_type": "code",
   "execution_count": 84,
   "id": "30e1d2f7",
   "metadata": {},
   "outputs": [
    {
     "data": {
      "text/plain": [
       "(3, 4)"
      ]
     },
     "execution_count": 84,
     "metadata": {},
     "output_type": "execute_result"
    }
   ],
   "source": [
    "data.shape"
   ]
  },
  {
   "cell_type": "code",
   "execution_count": 87,
   "id": "ff1601e2",
   "metadata": {},
   "outputs": [],
   "source": [
    "np.random.seed(42)\n",
    "data = np.random.randint(1,10, (3,4))"
   ]
  },
  {
   "cell_type": "code",
   "execution_count": 88,
   "id": "a3e207e7",
   "metadata": {},
   "outputs": [
    {
     "data": {
      "text/plain": [
       "array([[7, 4, 8, 5],\n",
       "       [7, 3, 7, 8],\n",
       "       [5, 4, 8, 8]], dtype=int32)"
      ]
     },
     "execution_count": 88,
     "metadata": {},
     "output_type": "execute_result"
    }
   ],
   "source": [
    "data"
   ]
  },
  {
   "cell_type": "code",
   "execution_count": 89,
   "id": "7cb6bc7d",
   "metadata": {},
   "outputs": [
    {
     "data": {
      "text/plain": [
       "array([7, 4, 8, 5], dtype=int32)"
      ]
     },
     "execution_count": 89,
     "metadata": {},
     "output_type": "execute_result"
    }
   ],
   "source": [
    "data[0]"
   ]
  },
  {
   "cell_type": "code",
   "execution_count": 90,
   "id": "1e928b63",
   "metadata": {},
   "outputs": [
    {
     "data": {
      "text/plain": [
       "array([7, 7, 5], dtype=int32)"
      ]
     },
     "execution_count": 90,
     "metadata": {},
     "output_type": "execute_result"
    }
   ],
   "source": [
    "data[:,0]"
   ]
  },
  {
   "cell_type": "code",
   "execution_count": 91,
   "id": "8f5e0d3e",
   "metadata": {},
   "outputs": [
    {
     "data": {
      "text/plain": [
       "array([3, 7], dtype=int32)"
      ]
     },
     "execution_count": 91,
     "metadata": {},
     "output_type": "execute_result"
    }
   ],
   "source": [
    "data[1,1:3]"
   ]
  },
  {
   "cell_type": "code",
   "execution_count": 92,
   "id": "2852fb36",
   "metadata": {},
   "outputs": [
    {
     "data": {
      "text/plain": [
       "array([3, 7], dtype=int32)"
      ]
     },
     "execution_count": 92,
     "metadata": {},
     "output_type": "execute_result"
    }
   ],
   "source": [
    "data[1, 1:3]"
   ]
  },
  {
   "cell_type": "code",
   "execution_count": 93,
   "id": "d77d18c6",
   "metadata": {},
   "outputs": [],
   "source": [
    "np.random.seed(42)\n",
    "data = np.random.randint(1,10, (5,5))"
   ]
  },
  {
   "cell_type": "code",
   "execution_count": 94,
   "id": "66d9158c",
   "metadata": {},
   "outputs": [
    {
     "data": {
      "text/plain": [
       "array([[7, 4, 8, 5, 7],\n",
       "       [3, 7, 8, 5, 4],\n",
       "       [8, 8, 3, 6, 5],\n",
       "       [2, 8, 6, 2, 5],\n",
       "       [1, 6, 9, 1, 3]], dtype=int32)"
      ]
     },
     "execution_count": 94,
     "metadata": {},
     "output_type": "execute_result"
    }
   ],
   "source": [
    "data"
   ]
  },
  {
   "cell_type": "code",
   "execution_count": 96,
   "id": "e2b6b1ba",
   "metadata": {},
   "outputs": [
    {
     "data": {
      "text/plain": [
       "array([8, 3, 6], dtype=int32)"
      ]
     },
     "execution_count": 96,
     "metadata": {},
     "output_type": "execute_result"
    }
   ],
   "source": [
    "data[2,1:4]"
   ]
  },
  {
   "cell_type": "code",
   "execution_count": 97,
   "id": "b2cd3639",
   "metadata": {},
   "outputs": [
    {
     "data": {
      "text/plain": [
       "array([[7, 8],\n",
       "       [8, 3]], dtype=int32)"
      ]
     },
     "execution_count": 97,
     "metadata": {},
     "output_type": "execute_result"
    }
   ],
   "source": [
    "data[1:3,1:3]"
   ]
  },
  {
   "cell_type": "code",
   "execution_count": null,
   "id": "c8e85f5a",
   "metadata": {},
   "outputs": [
    {
     "data": {
      "text/plain": [
       "array([7, 4, 5, 5, 3], dtype=int32)"
      ]
     },
     "execution_count": 99,
     "metadata": {},
     "output_type": "execute_result"
    }
   ],
   "source": [
    "data[:, -1] #마지막줄 모두가져온다"
   ]
  },
  {
   "cell_type": "code",
   "execution_count": 101,
   "id": "c30ba5a1",
   "metadata": {},
   "outputs": [
    {
     "data": {
      "text/plain": [
       "array([[8, 3, 6],\n",
       "       [8, 6, 2]], dtype=int32)"
      ]
     },
     "execution_count": 101,
     "metadata": {},
     "output_type": "execute_result"
    }
   ],
   "source": [
    "data[2:4,1:4]"
   ]
  },
  {
   "cell_type": "code",
   "execution_count": 102,
   "id": "0c891eca",
   "metadata": {},
   "outputs": [
    {
     "data": {
      "text/plain": [
       "30"
      ]
     },
     "execution_count": 102,
     "metadata": {},
     "output_type": "execute_result"
    }
   ],
   "source": [
    "#짝수만 더하기\n",
    "def my_sum(x):\n",
    "    result = []\n",
    "    for i in x:\n",
    "        if i %2 == 0:\n",
    "            result.append(i)\n",
    "    return sum(result)\n",
    "\n",
    "x = list(range(1,11))\n",
    "my_sum(x)"
   ]
  },
  {
   "cell_type": "code",
   "execution_count": 103,
   "id": "65fbb3d6",
   "metadata": {},
   "outputs": [
    {
     "data": {
      "text/plain": [
       "30"
      ]
     },
     "execution_count": 103,
     "metadata": {},
     "output_type": "execute_result"
    }
   ],
   "source": [
    "def get_even(x):\n",
    "    result = []\n",
    "    for i in x:\n",
    "        if i %2 == 0:\n",
    "            result.append(i)\n",
    "    return result\n",
    "\n",
    "new_x = get_even(x)\n",
    "sum(new_x)"
   ]
  },
  {
   "cell_type": "code",
   "execution_count": 106,
   "id": "ed93e82d",
   "metadata": {},
   "outputs": [
    {
     "data": {
      "text/plain": [
       "30"
      ]
     },
     "execution_count": 106,
     "metadata": {},
     "output_type": "execute_result"
    }
   ],
   "source": [
    "def get_even(x):\n",
    "    for i in x:\n",
    "        if i %2 != 0:\n",
    "            x.remove(i)\n",
    "\n",
    "x = list(range(1,11))\n",
    "get_even(x)\n",
    "sum(x)"
   ]
  },
  {
   "cell_type": "code",
   "execution_count": null,
   "id": "9f65628b",
   "metadata": {},
   "outputs": [
    {
     "data": {
      "text/plain": [
       "55"
      ]
     },
     "execution_count": 107,
     "metadata": {},
     "output_type": "execute_result"
    }
   ],
   "source": [
    "def get_even(x):\n",
    "    for i in x:\n",
    "        if i %2 != 0:\n",
    "            x.remove(i)\n",
    "\n",
    "x = list(range(1,11))\n",
    "get_even(x[:]) #[:] start end 없이 전체 다 복사본을준다 = (x.copy())\n",
    "sum(x)"
   ]
  },
  {
   "cell_type": "code",
   "execution_count": 110,
   "id": "1d13d8d0",
   "metadata": {},
   "outputs": [
    {
     "data": {
      "text/plain": [
       "55"
      ]
     },
     "execution_count": 110,
     "metadata": {},
     "output_type": "execute_result"
    }
   ],
   "source": [
    "def get_even(x):\n",
    "    for i in x:\n",
    "        if i %2 != 0:\n",
    "            np.delete(x, i)\n",
    "\n",
    "x = list(range(1,11))\n",
    "get_even(x.copy()) \n",
    "sum(x)"
   ]
  },
  {
   "cell_type": "code",
   "execution_count": 111,
   "id": "8770d926",
   "metadata": {},
   "outputs": [],
   "source": [
    "np.random.seed(42)\n",
    "data = np.random.randint(1,10, (2,3))"
   ]
  },
  {
   "cell_type": "code",
   "execution_count": 112,
   "id": "eb6792c8",
   "metadata": {},
   "outputs": [
    {
     "data": {
      "text/plain": [
       "array([[7, 4, 8],\n",
       "       [5, 7, 3]], dtype=int32)"
      ]
     },
     "execution_count": 112,
     "metadata": {},
     "output_type": "execute_result"
    }
   ],
   "source": [
    "data"
   ]
  },
  {
   "cell_type": "code",
   "execution_count": 113,
   "id": "61fe2dc5",
   "metadata": {},
   "outputs": [
    {
     "data": {
      "text/plain": [
       "array([[7, 4, 8, 5, 7, 3]], dtype=int32)"
      ]
     },
     "execution_count": 113,
     "metadata": {},
     "output_type": "execute_result"
    }
   ],
   "source": [
    "data.reshape(1,6)"
   ]
  },
  {
   "cell_type": "code",
   "execution_count": 114,
   "id": "7e80c1c3",
   "metadata": {},
   "outputs": [
    {
     "data": {
      "text/plain": [
       "array([[7, 4],\n",
       "       [8, 5],\n",
       "       [7, 3]], dtype=int32)"
      ]
     },
     "execution_count": 114,
     "metadata": {},
     "output_type": "execute_result"
    }
   ],
   "source": [
    "data.reshape(3,2)"
   ]
  },
  {
   "cell_type": "code",
   "execution_count": null,
   "id": "743ac226",
   "metadata": {},
   "outputs": [
    {
     "data": {
      "text/plain": [
       "array([[7, 5],\n",
       "       [4, 7],\n",
       "       [8, 3]], dtype=int32)"
      ]
     },
     "execution_count": 115,
     "metadata": {},
     "output_type": "execute_result"
    }
   ],
   "source": [
    "data.T #주루룩 채워준다."
   ]
  },
  {
   "cell_type": "code",
   "execution_count": null,
   "id": "23a04c5d",
   "metadata": {},
   "outputs": [
    {
     "data": {
      "text/plain": [
       "array([[7],\n",
       "       [4],\n",
       "       [8],\n",
       "       [5],\n",
       "       [7],\n",
       "       [3]], dtype=int32)"
      ]
     },
     "execution_count": 117,
     "metadata": {},
     "output_type": "execute_result"
    }
   ],
   "source": [
    "data.reshape(6,1) #자주사용 reshape"
   ]
  },
  {
   "cell_type": "code",
   "execution_count": 118,
   "id": "1ee56a55",
   "metadata": {},
   "outputs": [
    {
     "data": {
      "text/plain": [
       "array([8.905379  , 8.0711719 , 8.11476965])"
      ]
     },
     "execution_count": 118,
     "metadata": {},
     "output_type": "execute_result"
    }
   ],
   "source": [
    "data = np.random.normal(9,1,(3))\n",
    "data"
   ]
  },
  {
   "cell_type": "code",
   "execution_count": 119,
   "id": "b702c17e",
   "metadata": {},
   "outputs": [
    {
     "data": {
      "text/plain": [
       "array([[8.905379  , 8.0711719 , 8.11476965]])"
      ]
     },
     "execution_count": 119,
     "metadata": {},
     "output_type": "execute_result"
    }
   ],
   "source": [
    "data.reshape(1,3)"
   ]
  },
  {
   "cell_type": "code",
   "execution_count": 120,
   "id": "f5d93804",
   "metadata": {},
   "outputs": [
    {
     "data": {
      "text/plain": [
       "array([[8.905379  ],\n",
       "       [8.0711719 ],\n",
       "       [8.11476965]])"
      ]
     },
     "execution_count": 120,
     "metadata": {},
     "output_type": "execute_result"
    }
   ],
   "source": [
    "data.reshape(3,1)"
   ]
  },
  {
   "cell_type": "code",
   "execution_count": 121,
   "id": "ef05f58f",
   "metadata": {},
   "outputs": [
    {
     "data": {
      "text/plain": [
       "array([[8.905379  , 8.0711719 , 8.11476965]])"
      ]
     },
     "execution_count": 121,
     "metadata": {},
     "output_type": "execute_result"
    }
   ],
   "source": [
    "data[np.newaxis, :]"
   ]
  },
  {
   "cell_type": "code",
   "execution_count": 122,
   "id": "4226637c",
   "metadata": {},
   "outputs": [
    {
     "data": {
      "text/plain": [
       "(1, 3)"
      ]
     },
     "execution_count": 122,
     "metadata": {},
     "output_type": "execute_result"
    }
   ],
   "source": [
    "data[np.newaxis, :].shape"
   ]
  },
  {
   "cell_type": "code",
   "execution_count": 127,
   "id": "70842974",
   "metadata": {},
   "outputs": [
    {
     "data": {
      "text/plain": [
       "(3, 1)"
      ]
     },
     "execution_count": 127,
     "metadata": {},
     "output_type": "execute_result"
    }
   ],
   "source": [
    "data[ :, np.newaxis].shape"
   ]
  },
  {
   "cell_type": "code",
   "execution_count": 125,
   "id": "6ae28cb4",
   "metadata": {},
   "outputs": [
    {
     "data": {
      "text/plain": [
       "(1, 3)"
      ]
     },
     "execution_count": 125,
     "metadata": {},
     "output_type": "execute_result"
    }
   ],
   "source": [
    "data[ None,:].shape"
   ]
  },
  {
   "cell_type": "code",
   "execution_count": 126,
   "id": "1a695fa8",
   "metadata": {},
   "outputs": [
    {
     "data": {
      "text/plain": [
       "(3, 1)"
      ]
     },
     "execution_count": 126,
     "metadata": {},
     "output_type": "execute_result"
    }
   ],
   "source": [
    "data[ :, None].shape"
   ]
  },
  {
   "cell_type": "code",
   "execution_count": 128,
   "id": "35a1c347",
   "metadata": {},
   "outputs": [],
   "source": [
    "np.random.seed(42)\n",
    "data = np.random.randint(1,10, (2,3))"
   ]
  },
  {
   "cell_type": "code",
   "execution_count": 129,
   "id": "7334d38d",
   "metadata": {},
   "outputs": [
    {
     "data": {
      "text/plain": [
       "array([[7, 4, 8],\n",
       "       [5, 7, 3]], dtype=int32)"
      ]
     },
     "execution_count": 129,
     "metadata": {},
     "output_type": "execute_result"
    }
   ],
   "source": [
    "data"
   ]
  },
  {
   "cell_type": "code",
   "execution_count": 132,
   "id": "fa31a40e",
   "metadata": {},
   "outputs": [
    {
     "data": {
      "text/plain": [
       "(2, 3)"
      ]
     },
     "execution_count": 132,
     "metadata": {},
     "output_type": "execute_result"
    }
   ],
   "source": [
    "data.shape"
   ]
  },
  {
   "cell_type": "code",
   "execution_count": 130,
   "id": "60a3607c",
   "metadata": {},
   "outputs": [],
   "source": [
    "data2 = np.random.randint(1,10, (2,3))"
   ]
  },
  {
   "cell_type": "code",
   "execution_count": 131,
   "id": "aa5c5db2",
   "metadata": {},
   "outputs": [
    {
     "data": {
      "text/plain": [
       "(2, 3)"
      ]
     },
     "execution_count": 131,
     "metadata": {},
     "output_type": "execute_result"
    }
   ],
   "source": [
    "data2.shape"
   ]
  },
  {
   "cell_type": "code",
   "execution_count": null,
   "id": "0a7477e7",
   "metadata": {},
   "outputs": [],
   "source": [
    "#A\n",
    "# UNION\n",
    "#B"
   ]
  },
  {
   "cell_type": "code",
   "execution_count": 135,
   "id": "cc8d09a7",
   "metadata": {},
   "outputs": [
    {
     "data": {
      "text/plain": [
       "(2, 6)"
      ]
     },
     "execution_count": 135,
     "metadata": {},
     "output_type": "execute_result"
    }
   ],
   "source": [
    "np.concatenate([data,data2], axis=1).shape"
   ]
  },
  {
   "cell_type": "code",
   "execution_count": 137,
   "id": "27824ca0",
   "metadata": {},
   "outputs": [],
   "source": [
    "np.random.seed(42)\n",
    "d1 = np.random.randint(1,10, (2,3))"
   ]
  },
  {
   "cell_type": "code",
   "execution_count": 138,
   "id": "89f6917b",
   "metadata": {},
   "outputs": [
    {
     "data": {
      "text/plain": [
       "array([[7, 4, 8],\n",
       "       [5, 7, 3]], dtype=int32)"
      ]
     },
     "execution_count": 138,
     "metadata": {},
     "output_type": "execute_result"
    }
   ],
   "source": [
    "d1"
   ]
  },
  {
   "cell_type": "code",
   "execution_count": 143,
   "id": "d72ef94e",
   "metadata": {},
   "outputs": [
    {
     "data": {
      "text/plain": [
       "(2, 1)"
      ]
     },
     "execution_count": 143,
     "metadata": {},
     "output_type": "execute_result"
    }
   ],
   "source": [
    "c = np.array([5,3])\n",
    "c[:,None].shape"
   ]
  },
  {
   "cell_type": "code",
   "execution_count": null,
   "id": "38d847d0",
   "metadata": {},
   "outputs": [
    {
     "data": {
      "text/plain": [
       "array([[7, 4, 8, 5],\n",
       "       [5, 7, 3, 3]])"
      ]
     },
     "execution_count": 146,
     "metadata": {},
     "output_type": "execute_result"
    }
   ],
   "source": [
    "#5,3을 붙여줘. 축방향으로 \n",
    "np.concatenate([d1,c[:,None]], axis=1)"
   ]
  },
  {
   "cell_type": "code",
   "execution_count": 147,
   "id": "1a8a8b20",
   "metadata": {},
   "outputs": [
    {
     "data": {
      "text/plain": [
       "(2, 2, 3)"
      ]
     },
     "execution_count": 147,
     "metadata": {},
     "output_type": "execute_result"
    }
   ],
   "source": [
    "np.c_[[d1,data2]].shape"
   ]
  },
  {
   "cell_type": "code",
   "execution_count": 149,
   "id": "c71bffe2",
   "metadata": {},
   "outputs": [
    {
     "data": {
      "text/plain": [
       "(2, 6)"
      ]
     },
     "execution_count": 149,
     "metadata": {},
     "output_type": "execute_result"
    }
   ],
   "source": [
    "np.hstack([d1,data2]).shape"
   ]
  },
  {
   "cell_type": "code",
   "execution_count": 150,
   "id": "8fe144e9",
   "metadata": {},
   "outputs": [
    {
     "data": {
      "text/plain": [
       "(4, 3)"
      ]
     },
     "execution_count": 150,
     "metadata": {},
     "output_type": "execute_result"
    }
   ],
   "source": [
    "np.vstack([d1,data2]).shape"
   ]
  },
  {
   "cell_type": "code",
   "execution_count": 151,
   "id": "4486703e",
   "metadata": {},
   "outputs": [
    {
     "data": {
      "text/plain": [
       "(100,)"
      ]
     },
     "execution_count": 151,
     "metadata": {},
     "output_type": "execute_result"
    }
   ],
   "source": [
    "index = np.arange(100)\n",
    "index.shape"
   ]
  },
  {
   "cell_type": "code",
   "execution_count": 153,
   "id": "3271d23e",
   "metadata": {},
   "outputs": [],
   "source": [
    "a1, a2 = np.split(index,[20])\n"
   ]
  },
  {
   "cell_type": "code",
   "execution_count": 154,
   "id": "06b83208",
   "metadata": {},
   "outputs": [
    {
     "data": {
      "text/plain": [
       "((20,), (80,))"
      ]
     },
     "execution_count": 154,
     "metadata": {},
     "output_type": "execute_result"
    }
   ],
   "source": [
    "a1.shape, a2.shape"
   ]
  },
  {
   "cell_type": "code",
   "execution_count": 158,
   "id": "abb47981",
   "metadata": {},
   "outputs": [],
   "source": [
    "a1, a2, a3 = np.split(index,[20,80])"
   ]
  },
  {
   "cell_type": "code",
   "execution_count": 159,
   "id": "7721bc32",
   "metadata": {},
   "outputs": [
    {
     "data": {
      "text/plain": [
       "((20,), (60,), (20,))"
      ]
     },
     "execution_count": 159,
     "metadata": {},
     "output_type": "execute_result"
    }
   ],
   "source": [
    "a1.shape, a2.shape, a3.shape"
   ]
  }
 ],
 "metadata": {
  "kernelspec": {
   "display_name": "Python 3",
   "language": "python",
   "name": "python3"
  },
  "language_info": {
   "codemirror_mode": {
    "name": "ipython",
    "version": 3
   },
   "file_extension": ".py",
   "mimetype": "text/x-python",
   "name": "python",
   "nbconvert_exporter": "python",
   "pygments_lexer": "ipython3",
   "version": "3.13.4"
  }
 },
 "nbformat": 4,
 "nbformat_minor": 5
}
